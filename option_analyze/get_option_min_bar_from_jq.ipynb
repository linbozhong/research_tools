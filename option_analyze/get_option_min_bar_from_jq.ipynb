{
 "cells": [
  {
   "cell_type": "code",
   "execution_count": null,
   "metadata": {},
   "outputs": [],
   "source": [
    "import pandas as pd\n",
    "from datetime import datetime\n",
    "\n",
    "def load_code_data(filename):\n",
    "    df = pd.read_csv(filename, index_col=[0], parse_dates=[3, 4])\n",
    "    df.sort_values(by='duration', inplace=True)\n",
    "    return df\n",
    "    \n",
    "def get_min_bar(filename):\n",
    "    df_list = []\n",
    "    df = load_code_data(filename)\n",
    "    for idx, series in df.iterrows():\n",
    "        if series['duration'] > 6:\n",
    "            continue\n",
    "\n",
    "        start = series['start'].to_pydatetime()\n",
    "        if start < datetime(2017, 1, 1):\n",
    "            continue\n",
    "\n",
    "        end = series['end'].to_pydatetime().replace(hour=23)\n",
    "        code = series['code']\n",
    "\n",
    "        try:\n",
    "            code_df = get_price(code, start_date=start, end_date=end, frequency='1m')\n",
    "            code_df['code'] = code\n",
    "            code_df['trading_code'] = series['trading_code']\n",
    "            df_list.append(code_df)\n",
    "            print(f\"{code}数据下载完成\")\n",
    "        except:\n",
    "            print(f\"{code}下载出错\")\n",
    "\n",
    "    all_df = pd.concat(df_list, axis=0)\n",
    "    \n",
    "    return all_df"
   ]
  },
  {
   "cell_type": "code",
   "execution_count": null,
   "metadata": {},
   "outputs": [],
   "source": [
    "filename = 'low_premium_30.csv'\n",
    "\n",
    "df = get_min_bar(filename)\n",
    "\n",
    "new_filename = f\"{filename.split('.')[0]}_minbar.csv\"\n",
    "df.to_csv(new_filename)"
   ]
  },
  {
   "cell_type": "code",
   "execution_count": null,
   "metadata": {},
   "outputs": [],
   "source": [
    "len(df)"
   ]
  }
 ],
 "metadata": {
  "kernelspec": {
   "display_name": "Python 3",
   "language": "python",
   "name": "python3"
  },
  "language_info": {
   "codemirror_mode": {
    "name": "ipython",
    "version": 3
   },
   "file_extension": ".py",
   "mimetype": "text/x-python",
   "name": "python",
   "nbconvert_exporter": "python",
   "pygments_lexer": "ipython3",
   "version": "3.6.7"
  },
  "toc": {
   "base_numbering": 1,
   "nav_menu": {},
   "number_sections": false,
   "sideBar": true,
   "skip_h1_title": false,
   "title_cell": "MarkDown菜单",
   "title_sidebar": "Contents",
   "toc_cell": false,
   "toc_position": {},
   "toc_section_display": true,
   "toc_window_display": false
  }
 },
 "nbformat": 4,
 "nbformat_minor": 2
}
