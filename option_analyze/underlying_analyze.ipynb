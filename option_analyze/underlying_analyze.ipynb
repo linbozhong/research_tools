{
 "cells": [
  {
   "cell_type": "code",
   "execution_count": null,
   "metadata": {},
   "outputs": [],
   "source": [
    "import numpy as np\n",
    "import pandas as pd\n",
    "import tushare as ts\n",
    "import plotly.express as px\n",
    "import plotly.graph_objects as go\n",
    "import plotly.figure_factory as ff\n",
    "from scipy import stats\n",
    "from datetime import datetime, timedelta\n",
    "from qvix import get_qvix\n",
    "import akshare as ak"
   ]
  },
  {
   "cell_type": "code",
   "execution_count": null,
   "metadata": {},
   "outputs": [],
   "source": [
    "# 获取上证指数数据\n",
    "idx_df = ak.stock_zh_index_daily_tx(symbol=\"sh000001\")\n",
    "idx_df.drop_duplicates(inplace=True)\n",
    "idx_df = idx_df[['amount']]\n",
    "\n",
    "idx_df['avg_amount'] = idx_df['amount'].rolling(20).mean()\n",
    "idx_df['burst'] = idx_df['amount'] > idx_df['avg_amount'] * 1.5"
   ]
  },
  {
   "cell_type": "code",
   "execution_count": null,
   "metadata": {},
   "outputs": [],
   "source": [
    "# 获取qvix数据\n",
    "qvix_df = get_qvix('510050')\n",
    "qvix_df['low_vol'] = qvix_df['close'] < 20\n",
    "qvix_df = qvix_df[['close', 'low_vol']]\n",
    "qvix_df['3days_change'] = qvix_df['close'].shift(-3) - qvix_df['close']\n",
    "qvix_df['5days_change'] = qvix_df['close'].shift(-5) - qvix_df['close']\n",
    "\n",
    "qvix_df"
   ]
  },
  {
   "cell_type": "code",
   "execution_count": null,
   "metadata": {},
   "outputs": [],
   "source": [
    "# 分析关键点位的技术信号与未来涨跌幅的关系\n",
    "df = ts.get_k_data('510050', start='2005-02-23')\n",
    "df['date'] = df['date'].map(lambda d: datetime.strptime(d, '%Y-%m-%d'))\n",
    "df.set_index('date', inplace=True)\n",
    "\n",
    "df['n_highest'] = df.close.rolling(60).max()\n",
    "df['n_highest'] = df['n_highest'].shift(1)\n",
    "df['n_lowest'] = df.close.rolling(60).min()\n",
    "df['n_lowest'] = df['n_lowest'].shift(1)\n",
    "\n",
    "df['break_signal'] = (df['close'] > df['n_highest']) | (df['close'] < df['n_lowest'])\n"
   ]
  },
  {
   "cell_type": "code",
   "execution_count": null,
   "metadata": {},
   "outputs": [],
   "source": [
    "all_df = pd.concat([df, qvix_df], axis=1)\n",
    "all_df.dropna(inplace=True)\n",
    "all_df"
   ]
  },
  {
   "cell_type": "code",
   "execution_count": null,
   "metadata": {},
   "outputs": [],
   "source": [
    "# all_df[(all_df['break_signal'] == True) & (all_df['low_vol'] == True) & (all_df['burst'] == True)]\n",
    "all_df = all_df[(all_df['break_signal'] == True) & (all_df['low_vol'] == True)]"
   ]
  },
  {
   "cell_type": "code",
   "execution_count": null,
   "metadata": {},
   "outputs": [],
   "source": [
    "all_df.to_csv('vol_ana.csv')"
   ]
  },
  {
   "cell_type": "code",
   "execution_count": null,
   "metadata": {},
   "outputs": [],
   "source": [
    "fig = px.histogram(all_df, x=\"3days_change\")\n",
    "fig.show()"
   ]
  },
  {
   "cell_type": "code",
   "execution_count": null,
   "metadata": {},
   "outputs": [],
   "source": [
    "# 分析510050跳空分布\n",
    "df = ts.get_k_data('510050', start='2005-02-23')\n",
    "df['date'] = df['date'].map(lambda d_str: datetime.strptime(d_str, '%Y-%m-%d'))\n",
    "df['last_date'] = df['date'].shift(1)\n",
    "df['last_close'] = df['close'].shift(1)\n",
    "df.dropna(inplace=True)\n",
    "df['gap_rate'] = (df['open'] - df['last_close']) / df['last_close']\n",
    "df['interval'] = df['date'] - df['last_date']\n",
    "\n",
    "# 筛选数据\n",
    "group_labels = ['all', 'workday', 'weekend', 'holiday']\n",
    "all_day = df['gap_rate']\n",
    "workday = df.loc[df['interval'] == timedelta(days=1), 'gap_rate']\n",
    "weekend = df.loc[df['interval'] == timedelta(days=3), 'gap_rate']\n",
    "holiday = df.loc[df['interval'] > timedelta(days=3), 'gap_rate']\n",
    "\n",
    "hist_data = [all_day, workday, weekend, holiday]\n",
    "hist_data_desc = [data.describe() for data in hist_data]\n",
    "desc_df = pd.concat(hist_data_desc, axis=1)\n",
    "desc_df.columns = group_labels"
   ]
  },
  {
   "cell_type": "code",
   "execution_count": null,
   "metadata": {},
   "outputs": [],
   "source": [
    "# 绘制数据分布图\n",
    "fig = ff.create_distplot(hist_data, group_labels, bin_size=.001)\n",
    "fig.show()"
   ]
  },
  {
   "cell_type": "code",
   "execution_count": null,
   "metadata": {},
   "outputs": [],
   "source": [
    "# 绘制百分位\n",
    "x = np.arange(101)\n",
    "workday_percent = stats.scoreatpercentile(workday.values, x)\n",
    "weekend_percent = stats.scoreatpercentile(weekend.values, x)\n",
    "holiday_percent = stats.scoreatpercentile(holiday.values, x)\n",
    "\n",
    "data_dict = {\n",
    "    'workday': workday_percent,\n",
    "    'weekend': weekend_percent,\n",
    "    'holiday': holiday_percent\n",
    "}\n",
    "\n",
    "percent_df = pd.DataFrame(data_dict)\n",
    "percent_df"
   ]
  },
  {
   "cell_type": "code",
   "execution_count": null,
   "metadata": {},
   "outputs": [],
   "source": [
    "fig2 = go.Figure()\n",
    "fig2.add_trace(go.Scatter(x=x, y=workday_percent,\n",
    "                         mode='lines+markers',\n",
    "                         name='workday'))\n",
    "fig2.add_trace(go.Scatter(x=x, y=weekend_percent,\n",
    "                         mode='lines+markers',\n",
    "                         name='weekend'))\n",
    "fig2.add_trace(go.Scatter(x=x, y=holiday_percent,\n",
    "                         mode='lines+markers',\n",
    "                         name='holiday'))\n",
    "\n",
    "fig2.show()"
   ]
  }
 ],
 "metadata": {
  "kernelspec": {
   "display_name": "Python 3",
   "language": "python",
   "name": "python3"
  },
  "language_info": {
   "codemirror_mode": {
    "name": "ipython",
    "version": 3
   },
   "file_extension": ".py",
   "mimetype": "text/x-python",
   "name": "python",
   "nbconvert_exporter": "python",
   "pygments_lexer": "ipython3",
   "version": "3.7.1"
  }
 },
 "nbformat": 4,
 "nbformat_minor": 2
}
