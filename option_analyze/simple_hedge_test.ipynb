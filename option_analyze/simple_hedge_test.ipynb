{
 "cells": [
  {
   "cell_type": "markdown",
   "metadata": {},
   "source": [
    "### 回测逻辑检查"
   ]
  },
  {
   "cell_type": "code",
   "execution_count": null,
   "metadata": {},
   "outputs": [],
   "source": [
    "param = {'hedge_range': 0.1, 'hedge_value': 0.04} \n",
    "backtest = FixedHedge(start='2017-10-01')\n",
    "\n",
    "backtest.is_log = False\n",
    "backtest.set_parameters(param)\n",
    "backtest.run_backtest()"
   ]
  },
  {
   "cell_type": "code",
   "execution_count": null,
   "metadata": {},
   "outputs": [],
   "source": [
    "param = {'atr_multiple': 2.5, 'hedge_multiple': 0.5}\n",
    "backtest = DynamicHedge(start='2017-10-01')\n",
    "\n",
    "backtest.is_log = True\n",
    "backtest.set_parameters(param)\n",
    "backtest.run_backtest()"
   ]
  },
  {
   "cell_type": "markdown",
   "metadata": {},
   "source": [
    "### 批量回测"
   ]
  },
  {
   "cell_type": "code",
   "execution_count": null,
   "metadata": {},
   "outputs": [],
   "source": [
    "# params = [\n",
    "#     {'hedge_range': 0.1, 'hedge_value': 0.05},\n",
    "#     {'hedge_range': 0.1, 'hedge_value': 0.1},\n",
    "#     {'hedge_range': 0.075, 'hedge_value': 0.0375},\n",
    "#     {'hedge_range': 0.075, 'hedge_value': 0.075},\n",
    "#     {'hedge_range': 0.05, 'hedge_value': 0.025},\n",
    "#     {'hedge_range': 0.05, 'hedge_value': 0.05},\n",
    "#     {'hedge_range': 0.03, 'hedge_value': 0.015},\n",
    "#     {'hedge_range': 0.03, 'hedge_value': 0.03},\n",
    "# ]\n",
    "\n",
    "params = [\n",
    "    {'hedge_range': 0.1, 'hedge_value': 0.1},\n",
    "    {'hedge_range': 0.1, 'hedge_value': 0.09},\n",
    "    {'hedge_range': 0.1, 'hedge_value': 0.08},\n",
    "    {'hedge_range': 0.1, 'hedge_value': 0.07},\n",
    "    {'hedge_range': 0.1, 'hedge_value': 0.06},\n",
    "    {'hedge_range': 0.1, 'hedge_value': 0.05},\n",
    "    {'hedge_range': 0.1, 'hedge_value': 0.04},\n",
    "    {'hedge_range': 0.1, 'hedge_value': 0.03},\n",
    "]\n",
    "\n",
    "starts = ['2005-02-23', '2010-01-01', '2005-01-01', '2017-01-01', '2018-01-01', '2019-01-01', '2020-01-01']\n",
    "\n",
    "for start in starts:\n",
    "    for param in params:\n",
    "        backtest = FixedHedge(start=start)\n",
    "        backtest.set_parameters(param)\n",
    "        backtest.run_backtest()\n",
    "    print('=' * 50)\n",
    "\n"
   ]
  }
 ],
 "metadata": {
  "kernelspec": {
   "display_name": "Python 3",
   "language": "python",
   "name": "python3"
  },
  "language_info": {
   "codemirror_mode": {
    "name": "ipython",
    "version": 3
   },
   "file_extension": ".py",
   "mimetype": "text/x-python",
   "name": "python",
   "nbconvert_exporter": "python",
   "pygments_lexer": "ipython3",
   "version": "3.7.1"
  }
 },
 "nbformat": 4,
 "nbformat_minor": 2
}
