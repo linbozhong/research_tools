{
 "cells": [
  {
   "cell_type": "code",
   "execution_count": null,
   "metadata": {},
   "outputs": [],
   "source": [
    "from vnpy.app.cta_strategy.backtesting import BacktestingEngine, OptimizationSetting\n",
    "from fixed_hedge_strategy import FixedHedgeStrategy\n",
    "from dynamic_hedge_strategy import DynamicHedgeStrategy\n",
    "from dynamic_hedge_atr_strategy import DynamicHedgeAtrStrategy\n",
    "from datetime import datetime"
   ]
  },
  {
   "cell_type": "code",
   "execution_count": null,
   "metadata": {},
   "outputs": [],
   "source": [
    "# 固定区间策略回测\n",
    "params = {\n",
    "    'hedge_range_param': 60,\n",
    "    'hedge_multiple_param': 50\n",
    "}\n",
    "\n",
    "engine = BacktestingEngine()\n",
    "engine.set_parameters(\n",
    "    vt_symbol=\"510050.SSE\",\n",
    "    interval=\"1m\",\n",
    "    start=datetime(2019, 1, 1),\n",
    "    end=datetime(2020, 4, 1),\n",
    "    rate=1/10000,\n",
    "    slippage=0.002,\n",
    "    size=10000,\n",
    "    pricetick=0.001,\n",
    "    capital=1_000_000,\n",
    ")\n",
    "engine.add_strategy(FixedHedgeStrategy, params)"
   ]
  },
  {
   "cell_type": "code",
   "execution_count": null,
   "metadata": {},
   "outputs": [],
   "source": [
    "# 动态区间策略回测\n",
    "params = {\n",
    "    'hedge_range_percent': 30,\n",
    "    'hedge_multiple_percent': 100\n",
    "}\n",
    "\n",
    "engine = BacktestingEngine()\n",
    "engine.set_parameters(\n",
    "    vt_symbol=\"510050.SSE\",\n",
    "    interval=\"1m\",\n",
    "    start=datetime(2019, 1, 1),\n",
    "    end=datetime(2020, 4, 1),\n",
    "    rate=1/10000,\n",
    "    slippage=0.002,\n",
    "    size=10000,\n",
    "    pricetick=0.001,\n",
    "    capital=1_000_000,\n",
    ")\n",
    "engine.add_strategy(DynamicHedgeStrategy, params)"
   ]
  },
  {
   "cell_type": "code",
   "execution_count": null,
   "metadata": {},
   "outputs": [],
   "source": [
    "# atr动态对冲回测\n",
    "params = {\n",
    "    'atr_range': 15,\n",
    "    'hedge_multiple_percent': 80,\n",
    "    'is_log': False\n",
    "}\n",
    "\n",
    "engine = BacktestingEngine()\n",
    "engine.set_parameters(\n",
    "    vt_symbol=\"510050.SSE\",\n",
    "    interval=\"1m\",\n",
    "    start=datetime(2019, 1, 1),\n",
    "    end=datetime(2020, 4, 1),\n",
    "    rate=1/10000,\n",
    "    slippage=0.002,\n",
    "    size=10000,\n",
    "    pricetick=0.001,\n",
    "    capital=1_000_000,\n",
    ")\n",
    "engine.add_strategy(DynamicHedgeAtrStrategy, params)"
   ]
  },
  {
   "cell_type": "code",
   "execution_count": null,
   "metadata": {
    "scrolled": false
   },
   "outputs": [],
   "source": [
    "engine.load_data()\n",
    "engine.run_backtesting()\n",
    "df = engine.calculate_result()\n",
    "engine.calculate_statistics()\n",
    "# engine.show_chart()"
   ]
  },
  {
   "cell_type": "code",
   "execution_count": null,
   "metadata": {},
   "outputs": [],
   "source": [
    "# 计算日线atr数据\n",
    "import pandas as pd\n",
    "from option_backtest import OptionBacktest\n",
    "\n",
    "class CalAtr(OptionBacktest):\n",
    "    def __init__(self):\n",
    "        super().__init__()\n",
    "        self.atr_window = 20\n",
    "        self.atr_list = []\n",
    "        self.atr_df = None\n",
    "        \n",
    "    def on_bar(self, bar):\n",
    "        am = self.am\n",
    "        am.update_bar(bar)\n",
    "        if not am.inited:\n",
    "            return\n",
    "        atr = am.atr(self.atr_window)\n",
    "        atr_dict = {'datetime': bar.date, 'atr': atr}\n",
    "        self.atr_list.append(atr_dict)\n",
    "        \n",
    "    def stats_result(self):\n",
    "        self.atr_df = pd.DataFrame(self.atr_list)\n",
    "        self.atr_df.to_csv('510050_atr.csv', index=False)\n",
    "        print(\"ATR数据保存成功\")\n",
    "\n",
    "atr_cal = CalAtr()\n",
    "atr_cal.run_backtest()"
   ]
  },
  {
   "cell_type": "code",
   "execution_count": null,
   "metadata": {},
   "outputs": [],
   "source": [
    "from datetime import datetime\n",
    "df = pd.read_csv('510050_atr.csv', parse_dates=[1], index_col=1)\n",
    "df['id'] = list(range(len(df)))\n",
    "df.dtypes\n",
    "d1 = datetime(2020, 4, 16)\n",
    "last_day_id = int(df.loc[d1]['id'] - 1)\n",
    "last_day_id\n",
    "last_day = df.iloc[last_day_id]\n",
    "last_day"
   ]
  },
  {
   "cell_type": "code",
   "execution_count": null,
   "metadata": {},
   "outputs": [],
   "source": []
  }
 ],
 "metadata": {
  "kernelspec": {
   "display_name": "Python 3",
   "language": "python",
   "name": "python3"
  },
  "language_info": {
   "codemirror_mode": {
    "name": "ipython",
    "version": 3
   },
   "file_extension": ".py",
   "mimetype": "text/x-python",
   "name": "python",
   "nbconvert_exporter": "python",
   "pygments_lexer": "ipython3",
   "version": "3.7.1"
  }
 },
 "nbformat": 4,
 "nbformat_minor": 2
}
