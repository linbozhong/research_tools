{
 "cells": [
  {
   "cell_type": "code",
   "execution_count": null,
   "metadata": {},
   "outputs": [],
   "source": [
    "from vnpy.app.cta_strategy.backtesting import BacktestingEngine, OptimizationSetting\n",
    "from fixed_hedge_strategy import FixedHedgeStrategy\n",
    "from datetime import datetime"
   ]
  },
  {
   "cell_type": "code",
   "execution_count": null,
   "metadata": {},
   "outputs": [],
   "source": [
    "params = {\n",
    "    'hedge_range': 0.05,\n",
    "    'hedge_multiple': 1.0\n",
    "}\n",
    "\n",
    "engine = BacktestingEngine()\n",
    "engine.set_parameters(\n",
    "    vt_symbol=\"510050.SSE\",\n",
    "    interval=\"1m\",\n",
    "    start=datetime(2019, 10, 1),\n",
    "    end=datetime(2020, 4, 1),\n",
    "    rate=1/10000,\n",
    "    slippage=0.002,\n",
    "    size=10000,\n",
    "    pricetick=0.001,\n",
    "    capital=1_000_000,\n",
    ")\n",
    "engine.add_strategy(FixedHedgeStrategy, params)"
   ]
  },
  {
   "cell_type": "code",
   "execution_count": null,
   "metadata": {
    "scrolled": false
   },
   "outputs": [],
   "source": [
    "engine.load_data()\n",
    "engine.run_backtesting()\n",
    "df = engine.calculate_result()\n",
    "engine.calculate_statistics()"
   ]
  },
  {
   "cell_type": "code",
   "execution_count": null,
   "metadata": {},
   "outputs": [],
   "source": [
    "import pickle\n",
    "import pandas as pd\n",
    "from utility import dt_to_str\n",
    "\n",
    "with open('result/result_2015-01-01.dat', 'rb') as f:\n",
    "    data = pickle.load(f)"
   ]
  },
  {
   "cell_type": "code",
   "execution_count": null,
   "metadata": {},
   "outputs": [],
   "source": [
    "start = ''\n",
    "result_dict_list = []\n",
    "for tp in data:\n",
    "    tp[2]['setting'] = tp[0]\n",
    "    start = dt_to_str(tp[2]['start_date'])\n",
    "    result_dict_list.append(tp[2])\n",
    "print(start)\n",
    "# result_dict_list\n",
    "df = pd.DataFrame(result_dict_list)\n",
    "df.to_csv(f'result/result_{start}.csv', index=False)"
   ]
  },
  {
   "cell_type": "code",
   "execution_count": null,
   "metadata": {},
   "outputs": [],
   "source": []
  }
 ],
 "metadata": {
  "kernelspec": {
   "display_name": "Python 3",
   "language": "python",
   "name": "python3"
  },
  "language_info": {
   "codemirror_mode": {
    "name": "ipython",
    "version": 3
   },
   "file_extension": ".py",
   "mimetype": "text/x-python",
   "name": "python",
   "nbconvert_exporter": "python",
   "pygments_lexer": "ipython3",
   "version": "3.7.1"
  }
 },
 "nbformat": 4,
 "nbformat_minor": 2
}
