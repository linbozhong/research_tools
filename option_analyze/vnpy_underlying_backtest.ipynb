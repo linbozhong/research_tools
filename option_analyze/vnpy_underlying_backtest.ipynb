{
 "cells": [
  {
   "cell_type": "code",
   "execution_count": null,
   "metadata": {},
   "outputs": [],
   "source": [
    "from vnpy.app.cta_strategy.backtesting import BacktestingEngine, OptimizationSetting\n",
    "from fixed_hedge_strategy import FixedHedgeStrategy\n",
    "from dynamic_hedge_strategy import DynamicHedgeStrategy\n",
    "from datetime import datetime"
   ]
  },
  {
   "cell_type": "code",
   "execution_count": null,
   "metadata": {},
   "outputs": [],
   "source": [
    "# 固定区间策略回测\n",
    "params = {\n",
    "    'hedge_range_param': 60,\n",
    "    'hedge_multiple_param': 100\n",
    "}\n",
    "\n",
    "engine = BacktestingEngine()\n",
    "engine.set_parameters(\n",
    "    vt_symbol=\"510050.SSE\",\n",
    "    interval=\"1m\",\n",
    "    start=datetime(2019, 1, 1),\n",
    "    end=datetime(2020, 4, 1),\n",
    "    rate=1/10000,\n",
    "    slippage=0.002,\n",
    "    size=10000,\n",
    "    pricetick=0.001,\n",
    "    capital=1_000_000,\n",
    ")\n",
    "engine.add_strategy(FixedHedgeStrategy, params)"
   ]
  },
  {
   "cell_type": "code",
   "execution_count": null,
   "metadata": {},
   "outputs": [],
   "source": [
    "# 动态区间策略回测\n",
    "params = {\n",
    "    'hedge_range_percent': 30,\n",
    "    'hedge_multiple_percent': 50\n",
    "}\n",
    "\n",
    "engine = BacktestingEngine()\n",
    "engine.set_parameters(\n",
    "    vt_symbol=\"510050.SSE\",\n",
    "    interval=\"1m\",\n",
    "    start=datetime(2019, 1, 1),\n",
    "    end=datetime(2020, 4, 1),\n",
    "    rate=1/10000,\n",
    "    slippage=0.002,\n",
    "    size=10000,\n",
    "    pricetick=0.001,\n",
    "    capital=1_000_000,\n",
    ")\n",
    "engine.add_strategy(DynamicHedgeStrategy, params)"
   ]
  },
  {
   "cell_type": "code",
   "execution_count": null,
   "metadata": {
    "scrolled": false
   },
   "outputs": [],
   "source": [
    "engine.load_data()\n",
    "engine.run_backtesting()\n",
    "df = engine.calculate_result()\n",
    "engine.calculate_statistics()\n",
    "# engine.show_chart()"
   ]
  }
 ],
 "metadata": {
  "kernelspec": {
   "display_name": "Python 3",
   "language": "python",
   "name": "python3"
  },
  "language_info": {
   "codemirror_mode": {
    "name": "ipython",
    "version": 3
   },
   "file_extension": ".py",
   "mimetype": "text/x-python",
   "name": "python",
   "nbconvert_exporter": "python",
   "pygments_lexer": "ipython3",
   "version": "3.7.1"
  }
 },
 "nbformat": 4,
 "nbformat_minor": 2
}
