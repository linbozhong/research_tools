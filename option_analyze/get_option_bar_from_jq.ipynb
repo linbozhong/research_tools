{
 "cells": [
  {
   "cell_type": "code",
   "execution_count": null,
   "metadata": {},
   "outputs": [],
   "source": [
    "# 以下所有代码只能在聚宽的研究环境下运行\n",
    "import json\n",
    "import traceback\n",
    "import numpy as np\n",
    "import pandas as pd\n",
    "from jqdata import opt\n",
    "from pathlib import Path"
   ]
  },
  {
   "cell_type": "code",
   "execution_count": null,
   "metadata": {},
   "outputs": [],
   "source": [
    "def get_mission_list(count: int, num_per_group: int):\n",
    "    group_num, remind = divmod(count, num_per_group)\n",
    "    body = np.arange(group_num * num_per_group).reshape((group_num, num_per_group)).tolist()\n",
    "    tail = np.arange(group_num * num_per_group, count).tolist()\n",
    "    if tail:\n",
    "        body.append(tail)\n",
    "    return body\n",
    "\n",
    "\n",
    "def get_option_basic():\n",
    "    option_q = query(opt.OPT_CONTRACT_INFO).filter(opt.OPT_CONTRACT_INFO.underlying_symbol=='510050.XSHG')\n",
    "    return opt.run_query(option_q)\n",
    "        \n",
    "        \n",
    "def is_file_exist(filename: str):\n",
    "    filepath = Path.cwd().joinpath(filename)\n",
    "    return filepath.exists()\n",
    "\n",
    "\n",
    "def get_bar_by_code(code: str):\n",
    "    price_q = query(opt.OPT_DAILY_PRICE).filter(opt.OPT_DAILY_PRICE.code==code)\n",
    "    return opt.run_query(price_q)\n",
    "    \n",
    "\n",
    "def get_bar_in_sub_list(option_basic: pd.DataFrame, sub_mission_list: list):\n",
    "    df_list = []\n",
    "    is_all_delist = True\n",
    "    for mission_id in sub_mission_list:\n",
    "        contract = option_basic.iloc[mission_id]\n",
    "        code = contract['code']\n",
    "        name = contract['name']\n",
    "        trading_code = contract['trading_code']\n",
    "        \n",
    "        df = get_bar_by_code(code)\n",
    "        df['trading_code'] = trading_code\n",
    "        df['name'] = name\n",
    "        status = contract['contract_status']\n",
    "        df['status'] = status\n",
    "        if status == 'LIST':\n",
    "            is_all_delist = False\n",
    "        df_list.append(df)\n",
    "#         print(f\"{code}-{trading_code}-{name}数据获取成功\")\n",
    "    group_df = pd.concat(df_list, axis=0)\n",
    "    return group_df, is_all_delist"
   ]
  },
  {
   "cell_type": "code",
   "execution_count": null,
   "metadata": {},
   "outputs": [],
   "source": [
    "# 获取数据\n",
    "num_per_group = 100\n",
    "option_basic = get_option_basic()\n",
    "all_mission_list = get_mission_list(len(option_basic), num_per_group)\n",
    "\n",
    "for idx, sub_mission_list in enumerate(all_mission_list):\n",
    "    filename = \"option_daily_bar_archived_{:0>4d}.csv\".format(idx)\n",
    "    if not is_file_exist(filename):\n",
    "        try:\n",
    "            df, is_all_delist = get_bar_in_sub_list(option_basic, sub_mission_list)\n",
    "        except:\n",
    "            print(f\"获取单组数据出错触发异常：\\n{traceback.format_exc()}\")\n",
    "        else:\n",
    "            if len(sub_mission_list) == num_per_group and is_all_delist:\n",
    "                df.to_csv(filename)\n",
    "            else:\n",
    "                filename = filename = \"option_daily_bar_unarchived_{:0>4d}.csv\".format(idx)\n",
    "                df.to_csv(filename)\n",
    "            print(f\"任务ID系列：{sub_mission_list}\")\n",
    "            print(\"单组数据保存成功！\")\n",
    "            print(\"=\" * 50)\n",
    "    else:\n",
    "        print(f\"{filename}已归档无需下载\")\n",
    "        pass"
   ]
  }
 ],
 "metadata": {
  "kernelspec": {
   "display_name": "Python 3",
   "language": "python",
   "name": "python3"
  },
  "language_info": {
   "codemirror_mode": {
    "name": "ipython",
    "version": 3
   },
   "file_extension": ".py",
   "mimetype": "text/x-python",
   "name": "python",
   "nbconvert_exporter": "python",
   "pygments_lexer": "ipython3",
   "version": "3.7.1"
  }
 },
 "nbformat": 4,
 "nbformat_minor": 4
}
