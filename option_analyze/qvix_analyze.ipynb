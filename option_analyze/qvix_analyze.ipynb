{
 "cells": [
  {
   "cell_type": "code",
   "execution_count": null,
   "metadata": {},
   "outputs": [],
   "source": [
    "import numpy as np\n",
    "import plotly.express as px\n",
    "import plotly.graph_objects as go\n",
    "from qvix import get_qvix, update_qvix, get_hist_vol\n",
    "from option_backtest import OptionBacktest"
   ]
  },
  {
   "cell_type": "code",
   "execution_count": null,
   "metadata": {},
   "outputs": [],
   "source": [
    "qvix = update_qvix()"
   ]
  },
  {
   "cell_type": "code",
   "execution_count": null,
   "metadata": {},
   "outputs": [],
   "source": [
    "qvix_df = get_qvix()\n",
    "# qvix_df.describe()"
   ]
  },
  {
   "cell_type": "code",
   "execution_count": null,
   "metadata": {},
   "outputs": [],
   "source": [
    "fig = px.box(qvix_df, y='high', points='all')\n",
    "fig.show()"
   ]
  },
  {
   "cell_type": "code",
   "execution_count": null,
   "metadata": {},
   "outputs": [],
   "source": [
    "hist_vol = get_hist_vol()\n",
    "columns = [name for name in hist_vol.columns if name.startswith('HV')]\n",
    "quantile_df = hist_vol[columns].quantile(np.arange(.1, 1.1, .1))\n",
    "quantile_df.index = list(range(10, 110, 10))"
   ]
  },
  {
   "cell_type": "code",
   "execution_count": null,
   "metadata": {},
   "outputs": [],
   "source": [
    "quantile_df"
   ]
  },
  {
   "cell_type": "code",
   "execution_count": null,
   "metadata": {},
   "outputs": [],
   "source": [
    "fig = go.Figure()\n",
    "\n",
    "for index, name in quantile_df.iterrows():\n",
    "    fig.add_trace(go.Scatter(x=columns, y=quantile_df.loc[index].values, mode='lines+markers', name=str(index)))\n",
    "\n",
    "fig.show()"
   ]
  },
  {
   "cell_type": "code",
   "execution_count": null,
   "metadata": {
    "scrolled": false
   },
   "outputs": [],
   "source": [
    "params = [\n",
    "    {'hedge_range': 0.1, 'hedge_value': 0.05},\n",
    "    {'hedge_range': 0.1, 'hedge_value': 0.1},\n",
    "    {'hedge_range': 0.075, 'hedge_value': 0.0375},\n",
    "    {'hedge_range': 0.075, 'hedge_value': 0.075},\n",
    "    {'hedge_range': 0.05, 'hedge_value': 0.025},\n",
    "    {'hedge_range': 0.05, 'hedge_value': 0.05},\n",
    "    {'hedge_range': 0.03, 'hedge_value': 0.015},\n",
    "    {'hedge_range': 0.03, 'hedge_value': 0.03},\n",
    "]\n",
    "\n",
    "starts = ['2005-02-23', '2010-01-01', '2005-01-01', '2017-01-01', '2018-01-01', '2019-01-01', '2020-01-01']\n",
    "\n",
    "for start in starts:\n",
    "    for param in params:\n",
    "        backtest = OptionBacktest(start=start)\n",
    "        backtest.set_parameters(param)\n",
    "        backtest.load_data()\n",
    "        backtest.run_backtest()\n",
    "        backtest.stats_result()\n",
    "    print('=' * 50)\n",
    "\n"
   ]
  },
  {
   "cell_type": "code",
   "execution_count": null,
   "metadata": {},
   "outputs": [],
   "source": []
  }
 ],
 "metadata": {
  "kernelspec": {
   "display_name": "Python 3",
   "language": "python",
   "name": "python3"
  },
  "language_info": {
   "codemirror_mode": {
    "name": "ipython",
    "version": 3
   },
   "file_extension": ".py",
   "mimetype": "text/x-python",
   "name": "python",
   "nbconvert_exporter": "python",
   "pygments_lexer": "ipython3",
   "version": "3.7.1"
  }
 },
 "nbformat": 4,
 "nbformat_minor": 2
}
