{
 "cells": [
  {
   "cell_type": "code",
   "execution_count": null,
   "metadata": {},
   "outputs": [],
   "source": [
    "import json\n",
    "import numpy as np\n",
    "import pandas as pd\n",
    "import tushare as ts\n",
    "import plotly.express as px\n",
    "import plotly.graph_objects as go\n",
    "import plotly.figure_factory as ff\n",
    "from scipy import stats\n",
    "from datetime import datetime, timedelta\n",
    "from qvix import get_qvix, update_qvix, get_hist_vol\n",
    "from option_backtest import FixedHedge, DynamicHedge\n",
    "\n",
    "\n",
    "def get_iv_hv_data(underlying: str):\n",
    "    qvix_df = get_qvix(underlying)\n",
    "    hist_vol = get_hist_vol(underlying)\n",
    "    hist_vol['HV_20_40'] = (hist_vol['HV_20'] + hist_vol['HV_40']) / 2\n",
    "    hist_vol['date'] = hist_vol['date'].map(lambda d_str: datetime.strptime(d_str, '%Y-%m-%d'))\n",
    "    hist_vol.set_index('date', inplace=True)\n",
    "    hist_vol['hv_future'] = hist_vol['HV_20_40'].shift(-20)\n",
    "    return qvix_df, hist_vol\n",
    "\n",
    "\n",
    "def plot_iv_hv(qvix_df: pd.DataFrame, hv_df: pd.DataFrame, future_vol: bool = False):\n",
    "    hv_list = hv_df['HV_20_40'] if not future_vol else hv_df['hv_future']\n",
    "    hv_name = 'HV_20_40' if not future_vol else 'hv_future'\n",
    "    \n",
    "    disp_list = [qvix_df['close'], hv_list]\n",
    "    df_combine = pd.concat(disp_list, axis=1).dropna()\n",
    "    df_combine.head()\n",
    "\n",
    "    fig = go.Figure()\n",
    "    fig.add_trace(go.Scatter(x=df_combine.index, y=df_combine[hv_name], mode='lines+markers', name='HV'))\n",
    "    fig.add_trace(go.Scatter(x=df_combine.index, y=df_combine['close'], mode='lines+markers', name='IV'))\n",
    "    fig.show()\n",
    "    \n",
    "    \n",
    "    \n",
    "def plot_box(qvix_df: pd.DataFrame, hv_df: pd.DataFrame):\n",
    "    fig = go.Figure()\n",
    "    fig.add_trace(go.Box(y=qvix_df['close'], name='qvix', boxpoints='all'))\n",
    "    fig.add_trace(go.Box(y=hv_df['HV_20_40'], name='hv_20&40', boxpoints='all'))\n",
    "    # fig.update_traces(boxpoints='all', jitter=0)\n",
    "    fig.show()\n",
    "    \n",
    "\n",
    "def plot_hv_cone(underlying: str):\n",
    "    hist_vol = get_hist_vol(underlying)\n",
    "    columns = [name for name in hist_vol.columns if name.startswith('HV')]\n",
    "    quantile_df = hist_vol[columns].quantile(np.arange(.1, 1.1, .1))\n",
    "    quantile_df.index = list(range(10, 110, 10))\n",
    "\n",
    "    fig = go.Figure()\n",
    "    for index, name in quantile_df.iterrows():\n",
    "        fig.add_trace(go.Scatter(x=columns, y=quantile_df.loc[index].values, mode='lines+markers', name=str(index)))\n",
    "\n",
    "    fig.show()"
   ]
  },
  {
   "cell_type": "code",
   "execution_count": null,
   "metadata": {},
   "outputs": [],
   "source": [
    "# 从期权论坛更新qvix数据\n",
    "_ = update_qvix('510050')\n",
    "_ = update_qvix('510300')"
   ]
  },
  {
   "cell_type": "code",
   "execution_count": null,
   "metadata": {},
   "outputs": [],
   "source": [
    "# 获取510050和510300数据\n",
    "qvix_510050, hist_vol_510050 = get_iv_hv_data('510050')\n",
    "qvix_510300, hist_vol_510300 = get_iv_hv_data('510300')\n",
    "# qvix_510050.head()\n",
    "# hist_vol_510050.head()\n",
    "# qvix_510300.head()\n",
    "# hist_vol_510300.head()"
   ]
  },
  {
   "cell_type": "code",
   "execution_count": null,
   "metadata": {},
   "outputs": [],
   "source": [
    "# 绘制510050 IV和HV走势图\n",
    "plot_iv_hv(qvix_510050, hist_vol_510050)"
   ]
  },
  {
   "cell_type": "code",
   "execution_count": null,
   "metadata": {},
   "outputs": [],
   "source": [
    "# 绘制510050 IV和未来20日的（hv_20_40)\n",
    "plot_iv_hv(qvix_510050, hist_vol_510050, future_vol=True)"
   ]
  },
  {
   "cell_type": "code",
   "execution_count": null,
   "metadata": {},
   "outputs": [],
   "source": [
    "# 绘制510300 IV和HV走势图\n",
    "plot_iv_hv(qvix_510300, hist_vol_510300)"
   ]
  },
  {
   "cell_type": "code",
   "execution_count": null,
   "metadata": {},
   "outputs": [],
   "source": [
    "# 绘制510050 qvix和hv盒须图以及散点分布\n",
    "plot_box(qvix_510050, hist_vol_510050)"
   ]
  },
  {
   "cell_type": "code",
   "execution_count": null,
   "metadata": {},
   "outputs": [],
   "source": [
    "# 绘制510300 qvix和hv盒须图以及散点分布\n",
    "plot_box(qvix_510300, hist_vol_510300)"
   ]
  },
  {
   "cell_type": "code",
   "execution_count": null,
   "metadata": {},
   "outputs": [],
   "source": [
    "# 绘制510050历史波动率锥\n",
    "plot_hv_cone('510050')"
   ]
  },
  {
   "cell_type": "code",
   "execution_count": null,
   "metadata": {},
   "outputs": [],
   "source": [
    "# 绘制510300历史波动率锥\n",
    "plot_hv_cone('510300')"
   ]
  },
  {
   "cell_type": "code",
   "execution_count": null,
   "metadata": {},
   "outputs": [],
   "source": [
    "# 绘制期权论坛qvix盒须图\n",
    "fig = px.box(qvix_df, y='high', points='all')\n",
    "fig.show()"
   ]
  },
  {
   "cell_type": "code",
   "execution_count": null,
   "metadata": {},
   "outputs": [],
   "source": [
    "# IV20&40盒须图\n",
    "fig = px.box(hist_vol, y='HV_20_40', points='all')\n",
    "fig.show()"
   ]
  },
  {
   "cell_type": "code",
   "execution_count": null,
   "metadata": {},
   "outputs": [],
   "source": [
    "# 绘制历史波动率锥\n",
    "hist_vol = get_hist_vol()\n",
    "columns = [name for name in hist_vol.columns if name.startswith('HV')]\n",
    "quantile_df = hist_vol[columns].quantile(np.arange(.1, 1.1, .1))\n",
    "quantile_df.index = list(range(10, 110, 10))\n",
    "\n",
    "fig = go.Figure()\n",
    "for index, name in quantile_df.iterrows():\n",
    "    fig.add_trace(go.Scatter(x=columns, y=quantile_df.loc[index].values, mode='lines+markers', name=str(index)))\n",
    "\n",
    "fig.show()"
   ]
  },
  {
   "cell_type": "code",
   "execution_count": null,
   "metadata": {},
   "outputs": [],
   "source": [
    "# 统计510050qvix节假日前一个交易日的隐波涨跌情况\n",
    "df = qvix_df\n",
    "df['date'] = df.index\n",
    "df['last_date'] = df['date'].shift(1)\n",
    "df['last_close'] = df['close'].shift(1)\n",
    "df.dropna(inplace=True)\n",
    "df['vix_change'] = df['close'] - df['last_close']\n",
    "df['interval'] = df['date'] - df['last_date']\n",
    "df['id'] = np.arange(len(df))\n",
    "\n",
    "# 筛选数据\n",
    "holiday = df[df['interval'] > timedelta(days=3)]\n",
    "\n",
    "# 筛选节假日前一天\n",
    "pre_holiday_id_list = (holiday['id'] - 1).to_list()\n",
    "pre_holiday_id_list\n",
    "pre_holiday = df[df['id'].isin(pre_holiday_id_list)]\n",
    "\n",
    "print('up count:', len(pre_holiday[pre_holiday.vix_change > 0]))\n",
    "print('down count:', len(pre_holiday[pre_holiday.vix_change < 0]))\n",
    "print('zero count:', len(pre_holiday[pre_holiday.vix_change == 0]))\n",
    "print('all count:', len(pre_holiday))"
   ]
  },
  {
   "cell_type": "code",
   "execution_count": null,
   "metadata": {},
   "outputs": [],
   "source": [
    "# 真格量化计算出来的平值沽购隐波平均值\n",
    "with open('atm_iv.json', 'r') as f:\n",
    "    zg_iv = json.load(f)"
   ]
  },
  {
   "cell_type": "code",
   "execution_count": null,
   "metadata": {},
   "outputs": [],
   "source": [
    "zg_df = pd.DataFrame(zg_iv)\n",
    "zg_df['date'] = zg_df['date'].map(lambda date: datetime.strptime(date, '%Y%m%d'))\n",
    "zg_df['atm_iv'] = zg_df['atm_iv'] * 100\n",
    "zg_df.set_index('date', inplace=True)\n",
    "zg_df.to_csv('atm_iv.csv')"
   ]
  },
  {
   "cell_type": "code",
   "execution_count": null,
   "metadata": {},
   "outputs": [],
   "source": [
    "tiles = [i/10 for i  in list(range(1, 10, 1))]\n",
    "zg_df.quantile(tiles)"
   ]
  },
  {
   "cell_type": "code",
   "execution_count": null,
   "metadata": {},
   "outputs": [],
   "source": [
    "fig = go.Figure()\n",
    "fig.add_trace(go.Scatter(x=df_combine.index, y=df_combine['atm_iv'], mode='lines+markers', name='zg_atm_iv'))\n",
    "fig.show()"
   ]
  },
  {
   "cell_type": "code",
   "execution_count": null,
   "metadata": {},
   "outputs": [],
   "source": [
    "disp_list = [qvix_510050['close'], zg_df['atm_iv']]\n",
    "df_combine = pd.concat(disp_list, axis=1).dropna()\n",
    "df_combine.head()\n",
    "\n",
    "fig = go.Figure()\n",
    "fig.add_trace(go.Scatter(x=df_combine.index, y=df_combine['atm_iv'], mode='lines+markers', name='zg_atm_iv'))\n",
    "fig.add_trace(go.Scatter(x=df_combine.index, y=df_combine['close'], mode='lines+markers', name='qvix'))\n",
    "fig.show()"
   ]
  },
  {
   "cell_type": "code",
   "execution_count": null,
   "metadata": {},
   "outputs": [],
   "source": [
    "# 真格量化平台计算各个月份的平值沽购隐波平均值\n",
    "with open('all_atm_iv.json', 'r') as f:\n",
    "    all_zg_ivs = json.load(f)"
   ]
  },
  {
   "cell_type": "code",
   "execution_count": null,
   "metadata": {},
   "outputs": [],
   "source": [
    "all_zg_df = pd.DataFrame(all_zg_ivs)\n",
    "all_zg_df.dropna(inplace=True)\n",
    "all_zg_df['date'] = all_zg_df['date'].map(lambda date: datetime.strptime(date, '%Y%m%d'))\n",
    "all_zg_df['expire_date'] = all_zg_df['expire_date'].map(lambda date: datetime.strptime(date, '%Y%m%d'))\n",
    "for item in ['month', 'next_month', 'season', 'next_season']:\n",
    "    all_zg_df[item] = all_zg_df[item] * 100\n",
    "\n",
    "all_zg_df = all_zg_df[all_zg_df['date'] != all_zg_df['expire_date']]\n",
    "all_zg_df = all_zg_df[['date', 'month', 'next_month', 'season', 'next_season', 'expire_date']]\n",
    "\n",
    "all_zg_df['next_vs_cur'] = all_zg_df['next_month'] - all_zg_df['month']\n",
    "all_zg_df['season_vs_next'] = all_zg_df['season'] - all_zg_df['next_month']\n",
    "all_zg_df['season_vs_cur'] = all_zg_df['season'] - all_zg_df['month']\n",
    "all_zg_df.set_index('date', inplace=True)\n",
    "all_zg_df.to_csv('all_atm_iv.csv')"
   ]
  },
  {
   "cell_type": "code",
   "execution_count": null,
   "metadata": {},
   "outputs": [],
   "source": [
    "all_zg_df.head()"
   ]
  },
  {
   "cell_type": "code",
   "execution_count": null,
   "metadata": {},
   "outputs": [],
   "source": []
  }
 ],
 "metadata": {
  "kernelspec": {
   "display_name": "Python 3",
   "language": "python",
   "name": "python3"
  },
  "language_info": {
   "codemirror_mode": {
    "name": "ipython",
    "version": 3
   },
   "file_extension": ".py",
   "mimetype": "text/x-python",
   "name": "python",
   "nbconvert_exporter": "python",
   "pygments_lexer": "ipython3",
   "version": "3.7.1"
  },
  "varInspector": {
   "cols": {
    "lenName": 16,
    "lenType": 16,
    "lenVar": 40
   },
   "kernels_config": {
    "python": {
     "delete_cmd_postfix": "",
     "delete_cmd_prefix": "del ",
     "library": "var_list.py",
     "varRefreshCmd": "print(var_dic_list())"
    },
    "r": {
     "delete_cmd_postfix": ") ",
     "delete_cmd_prefix": "rm(",
     "library": "var_list.r",
     "varRefreshCmd": "cat(var_dic_list()) "
    }
   },
   "types_to_exclude": [
    "module",
    "function",
    "builtin_function_or_method",
    "instance",
    "_Feature"
   ],
   "window_display": false
  }
 },
 "nbformat": 4,
 "nbformat_minor": 2
}
