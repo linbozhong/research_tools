{
 "cells": [
  {
   "cell_type": "code",
   "execution_count": null,
   "metadata": {},
   "outputs": [],
   "source": [
    "import numpy as np\n",
    "import pandas as pd\n",
    "import plotly.express as px\n",
    "import plotly.graph_objects as go\n",
    "from datetime import datetime\n",
    "from qvix import get_qvix, update_qvix, get_hist_vol\n",
    "from option_backtest import FixedHedge, DynamicHedge"
   ]
  },
  {
   "cell_type": "code",
   "execution_count": null,
   "metadata": {},
   "outputs": [],
   "source": [
    "# 从期权论坛更新qvix数据\n",
    "qvix = update_qvix()"
   ]
  },
  {
   "cell_type": "code",
   "execution_count": null,
   "metadata": {},
   "outputs": [],
   "source": [
    "# 获取qvix数据和HV数据\n",
    "qvix_df = get_qvix()\n",
    "hist_vol = get_hist_vol()\n",
    "hist_vol['HV_20_40'] = (hist_vol['HV_20'] + hist_vol['HV_40']) / 2\n",
    "\n",
    "hist_vol['date'] = hist_vol['date'].map(lambda d_str: datetime.strptime(d_str, '%Y-%m-%d'))\n",
    "hist_vol.set_index('date', inplace=True)\n",
    "hist_vol.head()"
   ]
  },
  {
   "cell_type": "code",
   "execution_count": null,
   "metadata": {},
   "outputs": [],
   "source": [
    "# 绘制hv走势图\n",
    "disp_list = [qvix_df['close'], hist_vol['HV_20_40']]\n",
    "df_combine = pd.concat(disp_list, axis=1).dropna()\n",
    "df_combine.head()\n",
    "\n",
    "fig = go.Figure()\n",
    "fig.add_trace(go.Scatter(x=df_combine.index, y=df_combine['HV_20_40'], mode='lines+markers', name='HV'))\n",
    "fig.add_trace(go.Scatter(x=df_combine.index, y=df_combine['close'], mode='lines+markers', name='IV'))\n",
    "fig.show()"
   ]
  },
  {
   "cell_type": "code",
   "execution_count": null,
   "metadata": {
    "scrolled": false
   },
   "outputs": [],
   "source": [
    "# 绘制qvix和hv盒须图以及散点分布\n",
    "fig = go.Figure()\n",
    "fig.add_trace(go.Box(y=qvix_df['close'], name='qvix', boxpoints='all'))\n",
    "fig.add_trace(go.Box(y=hist_vol['HV_20_40'], name='hv_20&40', boxpoints='all'))\n",
    "# fig.update_traces(boxpoints='all', jitter=0)\n",
    "fig.show()"
   ]
  },
  {
   "cell_type": "code",
   "execution_count": null,
   "metadata": {},
   "outputs": [],
   "source": [
    "# 绘制期权论坛qvix盒须图\n",
    "fig = px.box(qvix_df, y='high', points='all')\n",
    "fig.show()\n"
   ]
  },
  {
   "cell_type": "code",
   "execution_count": null,
   "metadata": {},
   "outputs": [],
   "source": [
    "# IV20&40盒须图\n",
    "fig = px.box(hist_vol, y='HV_20_40', points='all')\n",
    "fig.show()"
   ]
  },
  {
   "cell_type": "code",
   "execution_count": null,
   "metadata": {},
   "outputs": [],
   "source": [
    "# 绘制历史波动率锥\n",
    "hist_vol = get_hist_vol()\n",
    "columns = [name for name in hist_vol.columns if name.startswith('HV')]\n",
    "quantile_df = hist_vol[columns].quantile(np.arange(.1, 1.1, .1))\n",
    "quantile_df.index = list(range(10, 110, 10))\n",
    "\n",
    "fig = go.Figure()\n",
    "for index, name in quantile_df.iterrows():\n",
    "    fig.add_trace(go.Scatter(x=columns, y=quantile_df.loc[index].values, mode='lines+markers', name=str(index)))\n",
    "\n",
    "fig.show()"
   ]
  }
 ],
 "metadata": {
  "kernelspec": {
   "display_name": "Python 3",
   "language": "python",
   "name": "python3"
  },
  "language_info": {
   "codemirror_mode": {
    "name": "ipython",
    "version": 3
   },
   "file_extension": ".py",
   "mimetype": "text/x-python",
   "name": "python",
   "nbconvert_exporter": "python",
   "pygments_lexer": "ipython3",
   "version": "3.7.1"
  },
  "varInspector": {
   "cols": {
    "lenName": 16,
    "lenType": 16,
    "lenVar": 40
   },
   "kernels_config": {
    "python": {
     "delete_cmd_postfix": "",
     "delete_cmd_prefix": "del ",
     "library": "var_list.py",
     "varRefreshCmd": "print(var_dic_list())"
    },
    "r": {
     "delete_cmd_postfix": ") ",
     "delete_cmd_prefix": "rm(",
     "library": "var_list.r",
     "varRefreshCmd": "cat(var_dic_list()) "
    }
   },
   "types_to_exclude": [
    "module",
    "function",
    "builtin_function_or_method",
    "instance",
    "_Feature"
   ],
   "window_display": false
  }
 },
 "nbformat": 4,
 "nbformat_minor": 2
}
