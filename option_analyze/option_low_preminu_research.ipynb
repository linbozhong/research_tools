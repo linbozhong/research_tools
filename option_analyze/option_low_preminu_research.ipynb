{
 "cells": [
  {
   "cell_type": "code",
   "execution_count": null,
   "metadata": {},
   "outputs": [],
   "source": [
    "from datetime import datetime, timedelta"
   ]
  },
  {
   "cell_type": "code",
   "execution_count": null,
   "metadata": {},
   "outputs": [],
   "source": [
    "result_dict = {}\n",
    "pos = 0\n",
    "max_high = 0\n",
    "is_long_day_interval = False\n",
    "for idx, bar_series in df.iterrows():\n",
    "    last_date = bar_series['date']\n",
    "    if not pos:\n",
    "        if bar_series['low'] > 0.002:\n",
    "            continue\n",
    "        else:\n",
    "            result_dict['start'] = bar_series['date']\n",
    "            result_dict['entry'] = 0.002 * 10000\n",
    "            pos = 1\n",
    "    else:\n",
    "        max_high = max(max_high, bar_series['high'])\n",
    "        if not is_long_day_interval:\n",
    "            if bar_series['date'] - last_date > timedelta(days=1):\n",
    "                is_long_day_interval = True\n",
    "\n",
    "if pos:\n",
    "    result_dict['code'] = df.iloc[-1]['code'] \n",
    "    result_dict['end'] = df.iloc[-1]['date']\n",
    "    result_dict['exit'] = df.iloc[-1]['close'] * 10000\n",
    "    result_dict['max_db'] = max_high * 10000\n",
    "else:\n",
    "    print('no position')\n",
    "\n",
    "print(result_dict)"
   ]
  }
 ],
 "metadata": {
  "kernelspec": {
   "display_name": "Python 3",
   "language": "python",
   "name": "python3"
  },
  "language_info": {
   "codemirror_mode": {
    "name": "ipython",
    "version": 3
   },
   "file_extension": ".py",
   "mimetype": "text/x-python",
   "name": "python",
   "nbconvert_exporter": "python",
   "pygments_lexer": "ipython3",
   "version": "3.7.1"
  }
 },
 "nbformat": 4,
 "nbformat_minor": 4
}
