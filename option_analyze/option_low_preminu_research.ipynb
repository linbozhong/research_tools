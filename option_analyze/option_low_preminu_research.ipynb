{
 "cells": [
  {
   "cell_type": "code",
   "execution_count": null,
   "metadata": {},
   "outputs": [],
   "source": [
    "import pandas as pd\n",
    "from datetime import datetime, timedelta\n",
    "from pathlib import Path\n",
    "\n",
    "def backtest(df: pd.DataFrame, price: int = 0.002):\n",
    "    result_dict = {}\n",
    "    pos = 0\n",
    "    max_high = 0\n",
    "    is_long_day_interval = False\n",
    "    last_date = None\n",
    "    for idx, bar_series in df.iterrows():\n",
    "        if not pos:\n",
    "            if bar_series['low'] > price:\n",
    "                continue\n",
    "            else:\n",
    "                if bar_series['high'] > price:\n",
    "                    result_dict['start'] = bar_series['date']\n",
    "                    result_dict['entry'] = price * 10000\n",
    "                    pos = 1\n",
    "                    last_date = bar_series['date']\n",
    "                    max_high = max(max_high, bar_series['close'])\n",
    "        else:\n",
    "            max_high = max(max_high, bar_series['high'])\n",
    "            if not is_long_day_interval:\n",
    "                if last_date:\n",
    "#                     print('last_date', last_date)\n",
    "#                     print('today', bar_series['date'])\n",
    "                    if bar_series['date'] - last_date > timedelta(days=1):\n",
    "                        is_long_day_interval = True\n",
    "                last_date = bar_series['date']\n",
    "\n",
    "    if pos:\n",
    "        result_dict['code'] = df.iloc[-1]['code']\n",
    "        result_dict['trading_code'] = df.iloc[-1]['trading_code']\n",
    "        result_dict['end'] = df.iloc[-1]['date']\n",
    "        result_dict['exit'] = df.iloc[-1]['close'] * 10000\n",
    "        result_dict['max_high'] = max_high * 10000\n",
    "        result_dict['duration'] = (result_dict['end'] - result_dict['start']).days\n",
    "        result_dict['max_db'] = min(0, result_dict['entry'] - result_dict['max_high'])\n",
    "        result_dict['long_date_gap'] = is_long_day_interval\n",
    "    else:\n",
    "        #         print('no position')\n",
    "        return\n",
    "        \n",
    "#     print(result_dict)\n",
    "    return result_dict"
   ]
  },
  {
   "cell_type": "code",
   "execution_count": null,
   "metadata": {},
   "outputs": [],
   "source": [
    "# 载入数据\n",
    "keep_items = ['code', 'date', 'open', 'high', 'low', 'close', 'volume', 'position', 'trading_code', 'status']\n",
    "\n",
    "data_path = Path.cwd().joinpath('daily_bar')\n",
    "files = list(data_path.glob('*.csv'))\n",
    "files\n",
    "\n",
    "df_list = [pd.read_csv(file, index_col=0, parse_dates=[4]) for file in files]\n",
    "df = pd.concat(df_list, ignore_index=True)\n",
    "df = df[keep_items]\n",
    "\n",
    "# 去掉调整过以及交易中的合约\n",
    "df2 = df[(df['trading_code'].map(lambda x: x[11] == 'M')) & (df['status'] == 'DELIST')].copy()"
   ]
  },
  {
   "cell_type": "code",
   "execution_count": null,
   "metadata": {},
   "outputs": [],
   "source": [
    "# 关于最大回撤，因为当天触发交易和最高价的先后顺序从k线之中无法判断，因此当天下单后的最高价取当天收盘价，以后的交易日取最高价\n",
    "res_list = []\n",
    "for _code, bar_df in df2.groupby('code'):\n",
    "    res_dict = backtest(bar_df)\n",
    "    if res_dict:\n",
    "        res_list.append(res_dict)\n",
    "res_df = pd.DataFrame(res_list)"
   ]
  },
  {
   "cell_type": "code",
   "execution_count": null,
   "metadata": {},
   "outputs": [],
   "source": [
    "# 保存结果\n",
    "new_order = ['code', 'trading_code', 'start', 'end', 'duration', 'entry', 'exit', 'max_high', 'max_db', 'long_date_gap']\n",
    "res_df = res_df[new_order]\n",
    "res_df.to_csv(Path.cwd().joinpath('result', 'low_preminu.csv'))"
   ]
  },
  {
   "cell_type": "code",
   "execution_count": null,
   "metadata": {},
   "outputs": [],
   "source": [
    "# 分析\n",
    "days_within_2 = res_df[res_df['duration'] <= 3]\n",
    "print(\"all count:\", len(days_within_2))\n",
    "\n",
    "days_within_2_no_db = days_within_2[days_within_2['max_db'] == 0]\n",
    "print('without drawback:', len(days_within_2_no_db))\n",
    "\n",
    "days_within_2.describe()"
   ]
  },
  {
   "cell_type": "code",
   "execution_count": null,
   "metadata": {},
   "outputs": [],
   "source": [
    "# 测试代码\n",
    "code = '10000081.XSHG'\n",
    "test_df = df2[df2['code'] == code]\n",
    "test_df"
   ]
  },
  {
   "cell_type": "code",
   "execution_count": null,
   "metadata": {},
   "outputs": [],
   "source": [
    "res = backtest(test_df)\n",
    "res"
   ]
  }
 ],
 "metadata": {
  "kernelspec": {
   "display_name": "Python 3",
   "language": "python",
   "name": "python3"
  },
  "language_info": {
   "codemirror_mode": {
    "name": "ipython",
    "version": 3
   },
   "file_extension": ".py",
   "mimetype": "text/x-python",
   "name": "python",
   "nbconvert_exporter": "python",
   "pygments_lexer": "ipython3",
   "version": "3.7.1"
  }
 },
 "nbformat": 4,
 "nbformat_minor": 4
}
