{
 "cells": [
  {
   "cell_type": "code",
   "execution_count": null,
   "metadata": {},
   "outputs": [],
   "source": [
    "import pandas as pd\n",
    "from datetime import datetime, timedelta\n",
    "from datetime import time as dt_time\n",
    "import seaborn as sns\n",
    "sns.set(style='darkgrid', font_scale=1.5)\n",
    "pd.set_option('display.float_format', '{:.2f}'.format)\n",
    "\n",
    "\n",
    "def night_adjust(dt: datetime) -> datetime:\n",
    "    if dt.time() > dt_time(20, 0):\n",
    "        return (dt - timedelta(1))\n",
    "    else:\n",
    "        return dt\n",
    "\n",
    "\n",
    "def strip_digt(symbol: str) -> str:\n",
    "    res = \"\"\n",
    "    for char in symbol:\n",
    "        if not char.isdigit():\n",
    "            res += char\n",
    "        else:\n",
    "            break\n",
    "    return res\n",
    "\n",
    "\n",
    "def trade_stats(df: pd.DataFrame) -> pd.DataFrame:\n",
    "    pos = df[df['pnl_by_trade'] > 0]\n",
    "    neg = df[df['pnl_by_trade'] <= 0]\n",
    "    profit_mean = pos['pnl_by_trade'].mean()\n",
    "    loss_mean = neg['pnl_by_trade'].mean()\n",
    "    \n",
    "    d = {\n",
    "        'profit_num': len(pos),\n",
    "        'loss_num': len(neg),\n",
    "        'all_num': len(df),\n",
    "        'accuracy_rate': len(pos) / len(df),\n",
    "        'profit_mean': profit_mean,\n",
    "        'loss_mean': loss_mean,\n",
    "        'ratio': profit_mean / abs(loss_mean)\n",
    "    }\n",
    "    return pd.DataFrame([d])\n",
    "    "
   ]
  },
  {
   "cell_type": "code",
   "execution_count": null,
   "metadata": {},
   "outputs": [],
   "source": [
    "# load data\n",
    "df = pd.read_csv('trade_clean_demo2.csv',\n",
    "                 usecols=[0, 1, 2, 4, 5, 6, 7, 8, 9, 10, 11, 17])\n",
    "new_cols = [\n",
    "    'account', 'contract', 'direction', 'price', 'volume', 'turnover',\n",
    "    'offset', 'commission', 'pnl_by_date', 'pnl_by_trade', 'time', 'date'\n",
    "]\n",
    "df.columns = new_cols\n",
    "\n",
    "# change data type\n",
    "df[['account', 'date']] = df[['account', 'date']].astype('str')\n",
    "df['underlying'] = df['contract'].map(strip_digt)\n",
    "col_lst = ['turnover', 'pnl_by_date', 'pnl_by_trade']\n",
    "for col in col_lst:\n",
    "    df[col] = df[col].map(lambda x: float(x.replace(',', '')))\n",
    "\n",
    "# add datetime and adjust night trade order\n",
    "df['dt'] = df['date'] + df['time']\n",
    "df['dt'] = df['dt'].map(lambda x: datetime.strptime(x, '%Y%m%d%H:%M:%S'))\n",
    "df['dt'] = df['dt'].map(night_adjust)\n",
    "df.sort_values(by='dt', inplace=True)\n",
    "df.to_csv('trade_cleaned.csv', encoding='utf-8-sig')"
   ]
  },
  {
   "cell_type": "code",
   "execution_count": null,
   "metadata": {},
   "outputs": [],
   "source": [
    "df3 = df.groupby(['contract', 'dt','direction', 'offset', 'price']).agg(sum)\n",
    "df3.head(100)\n",
    "# df3.to_csv('cleaned.csv')"
   ]
  },
  {
   "cell_type": "code",
   "execution_count": null,
   "metadata": {},
   "outputs": [],
   "source": [
    "df_dt = df.groupby(['dt','contract', 'direction', 'offset', 'price']).agg(sum)\n",
    "df_dt.to_csv('cleaned_trade_dt.csv')\n",
    "df_dt.head(100)"
   ]
  },
  {
   "cell_type": "code",
   "execution_count": null,
   "metadata": {},
   "outputs": [],
   "source": [
    "df_under = df.groupby(['dt','underlying', 'contract', 'direction', 'offset', 'price']).agg(sum)\n",
    "df_under.to_csv('cleaned_trade_under.csv')\n",
    "df_under.head()"
   ]
  },
  {
   "cell_type": "code",
   "execution_count": null,
   "metadata": {},
   "outputs": [],
   "source": [
    "df_res = df[df.offset != '开仓']\n",
    "df_res.head()\n",
    "df_stats = df_res.groupby(['underlying', 'contract']).apply(trade_stats)\n",
    "df_stats.to_csv('trade_stats.csv')\n",
    "\n",
    "# df_stats = df_res.groupby('underlying').apply(trade_stats)\n",
    "# df_stats.to_csv('trade_stats_underlying.csv', index=False)\n",
    "df_stats"
   ]
  },
  {
   "cell_type": "code",
   "execution_count": null,
   "metadata": {},
   "outputs": [],
   "source": []
  }
 ],
 "metadata": {
  "kernelspec": {
   "display_name": "Python 3",
   "language": "python",
   "name": "python3"
  },
  "language_info": {
   "codemirror_mode": {
    "name": "ipython",
    "version": 3
   },
   "file_extension": ".py",
   "mimetype": "text/x-python",
   "name": "python",
   "nbconvert_exporter": "python",
   "pygments_lexer": "ipython3",
   "version": "3.7.1"
  },
  "varInspector": {
   "cols": {
    "lenName": 16,
    "lenType": 16,
    "lenVar": 40
   },
   "kernels_config": {
    "python": {
     "delete_cmd_postfix": "",
     "delete_cmd_prefix": "del ",
     "library": "var_list.py",
     "varRefreshCmd": "print(var_dic_list())"
    },
    "r": {
     "delete_cmd_postfix": ") ",
     "delete_cmd_prefix": "rm(",
     "library": "var_list.r",
     "varRefreshCmd": "cat(var_dic_list()) "
    }
   },
   "types_to_exclude": [
    "module",
    "function",
    "builtin_function_or_method",
    "instance",
    "_Feature"
   ],
   "window_display": false
  }
 },
 "nbformat": 4,
 "nbformat_minor": 2
}
