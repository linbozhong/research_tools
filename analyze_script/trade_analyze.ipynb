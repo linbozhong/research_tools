{
 "cells": [
  {
   "cell_type": "code",
   "execution_count": null,
   "metadata": {},
   "outputs": [],
   "source": [
    "import json\n",
    "import numpy as np\n",
    "import pandas as pd\n",
    "import matplotlib.pyplot as plt\n",
    "import seaborn as sns\n",
    "from typing import Optional\n",
    "from copy import copy\n",
    "plt.style.use('ggplot')\n",
    "\n",
    "with open('multiplier.json', 'r') as f:\n",
    "    multis = json.load(f)\n",
    "    \n",
    "DIR_LONG = '多'\n",
    "DIR_SHORT = '空'\n",
    "OFFSET_CLOSE = '平'\n",
    "OFFSET_OPEN = '开'\n",
    "OFFSET_CLOSE_YESTERDAY = '平昨'\n",
    "OFFSET_CLOSE_TODAY = '平今'\n",
    "CLOSE_SET = set([OFFSET_CLOSE, OFFSET_CLOSE_TODAY, OFFSET_CLOSE_YESTERDAY])"
   ]
  },
  {
   "cell_type": "code",
   "execution_count": null,
   "metadata": {},
   "outputs": [],
   "source": [
    "def strip_digt(symbol: str) -> str:\n",
    "    res = \"\"\n",
    "    for char in symbol:\n",
    "        if not char.isdigit():\n",
    "            res += char\n",
    "        else:\n",
    "            break\n",
    "    return res\n",
    "\n",
    "\n",
    "def add_multiplier(symbol: str) -> Optional[float]:\n",
    "    underlying = strip_digt(symbol).upper()\n",
    "    return multis.get(underlying)\n",
    "\n",
    "\n",
    "def load_trade_file(filename: str) -> pd.DataFrame:\n",
    "    trade_columns = [\n",
    "        'datetime', 'exchange', 'trade_id', 'order_id', 'symbol', 'direction',\n",
    "        'offset', 'price', 'volume'\n",
    "    ]\n",
    "    trade_df = pd.read_csv(filename, header=None, names=trade_columns)\n",
    "    trade_df.drop(['trade_id', 'order_id'], axis=1, inplace=True)\n",
    "    trade_df['underlying'] = trade_df['symbol'].map(strip_digt)\n",
    "    trade_df['multiplier'] = trade_df['symbol'].map(add_multiplier)\n",
    "    trade_df.loc[trade_df.direction == DIR_SHORT, 'volume'] *= -1\n",
    "    return trade_df\n",
    "\n",
    "\n",
    "def cal_trading_pnl(df: pd.DataFrame) -> pd.DataFrame:\n",
    "    # 如果这里直接对源df进行修改（inplace=True），可能会产生意料不到的问题\n",
    "    df = df.reset_index(drop=True)\n",
    "    start, end = 0, len(df) - 1\n",
    "    drop_list = []\n",
    "\n",
    "    if df.iloc[start].offset != OFFSET_OPEN:\n",
    "        drop_list.append(start)\n",
    "    if df.iloc[end].offset == OFFSET_OPEN:\n",
    "        drop_list.append(end)\n",
    "    if drop_list:\n",
    "        df.drop(drop_list, inplace=True)\n",
    "\n",
    "    df_open = df[df.offset == OFFSET_OPEN].copy()\n",
    "    df_open.reset_index(drop=True, inplace=True)\n",
    "    df_close = df[df.offset.isin(CLOSE_SET)].copy()\n",
    "    df_close = df_close[['datetime', 'direction', 'offset', 'price']]\n",
    "    df_close = df_close.add_prefix('out_')\n",
    "    df_close.reset_index(drop=True, inplace=True)\n",
    "\n",
    "    res_df = pd.concat([df_open, df_close], axis=1)\n",
    "    res_df['profit'] = (res_df['out_price'] - res_df['price']\n",
    "                        ) * res_df['volume'] * res_df['multiplier']\n",
    "    return res_df\n",
    "\n",
    "def trade_stats(df: pd.DataFrame) -> pd.DataFrame:\n",
    "    pos = df[df['profit'] > 0]\n",
    "    neg = df[df['profit'] <= 0]\n",
    "    profit_mean = pos['profit'].mean()\n",
    "    loss_mean = neg['profit'].mean()\n",
    "    \n",
    "    d = {\n",
    "        'profit_num': len(pos),\n",
    "        'loss_num': len(neg),\n",
    "        'all_num': len(df),\n",
    "        'accuracy_rate': len(pos) / len(df),\n",
    "        'profit_mean': profit_mean,\n",
    "        'loss_mean': loss_mean,\n",
    "        'ratio': profit_mean / abs(loss_mean)\n",
    "    }\n",
    "    return pd.DataFrame([d])\n",
    "\n",
    "\n",
    "def t_df(df):\n",
    "    print(df)\n",
    "    df = df.iloc[0:2, 0:5]\n",
    "    return df"
   ]
  },
  {
   "cell_type": "code",
   "execution_count": null,
   "metadata": {},
   "outputs": [],
   "source": [
    "fnames = ['trade_20.csv', 'trade_50.csv']\n",
    "res_lst = []\n",
    "for fname in fnames:\n",
    "    df = load_trade_file(fname)\n",
    "    r = df.groupby('underlying', group_keys=False).apply(cal_trading_pnl)\n",
    "    r.to_csv(f'{fname}_pnl.csv', encoding='utf-8-sig')\n",
    "    res_lst.append(r)"
   ]
  },
  {
   "cell_type": "code",
   "execution_count": null,
   "metadata": {},
   "outputs": [],
   "source": [
    "t20, t50 = res_lst\n",
    "t20.groupby('underlying').apply(trade_stats)"
   ]
  },
  {
   "cell_type": "code",
   "execution_count": null,
   "metadata": {},
   "outputs": [],
   "source": [
    "t50.groupby('underlying').apply(trade_stats)"
   ]
  },
  {
   "cell_type": "code",
   "execution_count": null,
   "metadata": {},
   "outputs": [],
   "source": []
  }
 ],
 "metadata": {
  "kernelspec": {
   "display_name": "Python 3",
   "language": "python",
   "name": "python3"
  },
  "language_info": {
   "codemirror_mode": {
    "name": "ipython",
    "version": 3
   },
   "file_extension": ".py",
   "mimetype": "text/x-python",
   "name": "python",
   "nbconvert_exporter": "python",
   "pygments_lexer": "ipython3",
   "version": "3.7.1"
  },
  "varInspector": {
   "cols": {
    "lenName": 16,
    "lenType": 16,
    "lenVar": 40
   },
   "kernels_config": {
    "python": {
     "delete_cmd_postfix": "",
     "delete_cmd_prefix": "del ",
     "library": "var_list.py",
     "varRefreshCmd": "print(var_dic_list())"
    },
    "r": {
     "delete_cmd_postfix": ") ",
     "delete_cmd_prefix": "rm(",
     "library": "var_list.r",
     "varRefreshCmd": "cat(var_dic_list()) "
    }
   },
   "types_to_exclude": [
    "module",
    "function",
    "builtin_function_or_method",
    "instance",
    "_Feature"
   ],
   "window_display": false
  }
 },
 "nbformat": 4,
 "nbformat_minor": 2
}
