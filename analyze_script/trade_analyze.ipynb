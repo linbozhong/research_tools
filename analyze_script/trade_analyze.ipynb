{
 "cells": [
  {
   "cell_type": "code",
   "execution_count": 12,
   "metadata": {},
   "outputs": [],
   "source": [
    "import json\n",
    "import numpy as np\n",
    "import pandas as pd\n",
    "import matplotlib.pyplot as plt\n",
    "import seaborn as sns\n",
    "from typing import Optional\n",
    "from copy import copy\n",
    "plt.style.use('ggplot')\n",
    "\n",
    "with open('multiplier.json', 'r') as f:\n",
    "    multis = json.load(f)\n",
    "    \n",
    "DIR_LONG = '多'\n",
    "DIR_SHORT = '空'\n",
    "OFFSET_CLOSE = '平'\n",
    "OFFSET_OPEN = '开'\n",
    "OFFSET_CLOSE_YESTERDAY = '平昨'\n",
    "OFFSET_CLOSE_TODAY = '平今'\n",
    "CLOSE_SET = set([OFFSET_CLOSE, OFFSET_CLOSE_TODAY, OFFSET_CLOSE_YESTERDAY])"
   ]
  },
  {
   "cell_type": "code",
   "execution_count": 13,
   "metadata": {},
   "outputs": [],
   "source": [
    "def strip_digt(symbol: str) -> str:\n",
    "    res = \"\"\n",
    "    for char in symbol:\n",
    "        if not char.isdigit():\n",
    "            res += char\n",
    "        else:\n",
    "            break\n",
    "    return res\n",
    "\n",
    "\n",
    "def add_multiplier(symbol: str) -> Optional[float]:\n",
    "    underlying = strip_digt(symbol).upper()\n",
    "    return multis.get(underlying)\n",
    "\n",
    "\n",
    "def load_trade_file(filename: str) -> pd.DataFrame:\n",
    "    trade_columns = [\n",
    "        'datetime', 'exchange', 'trade_id', 'order_id', 'symbol', 'direction',\n",
    "        'offset', 'price', 'volume'\n",
    "    ]\n",
    "    trade_df = pd.read_csv(filename, header=None, names=trade_columns)\n",
    "    trade_df.drop(['trade_id', 'order_id'], axis=1, inplace=True)\n",
    "    trade_df['underlying'] = trade_df['symbol'].map(strip_digt)\n",
    "    trade_df['multiplier'] = trade_df['symbol'].map(add_multiplier)\n",
    "    trade_df.loc[trade_df.direction == DIR_SHORT, 'volume'] *= -1\n",
    "    return trade_df\n",
    "\n",
    "\n",
    "def cal_trading_pnl(df: pd.DataFrame) -> pd.DataFrame:\n",
    "    # 如果这里直接对源df进行修改（inplace=True），可能会产生意料不到的问题\n",
    "    df = df.reset_index(drop=True)\n",
    "    start, end = 0, len(df) - 1\n",
    "    drop_list = []\n",
    "\n",
    "    if df.iloc[start].offset != OFFSET_OPEN:\n",
    "        drop_list.append(start)\n",
    "    if df.iloc[end].offset == OFFSET_OPEN:\n",
    "        drop_list.append(end)\n",
    "    if drop_list:\n",
    "        df.drop(drop_list, inplace=True)\n",
    "        \n",
    "    df_open = df[df.offset == OFFSET_OPEN].copy()\n",
    "    df_open.reset_index(drop=True, inplace=True)\n",
    "    df_close = df[df.offset.isin(CLOSE_SET)].copy()\n",
    "    df_close = df_close[['datetime', 'direction', 'offset', 'price']]\n",
    "    df_close = df_close.add_prefix('out_')\n",
    "    df_close.reset_index(drop=True, inplace=True)\n",
    "\n",
    "    res_df = pd.concat([df_open, df_close], axis=1)\n",
    "    res_df['profit'] = (res_df['out_price'] - res_df['price']\n",
    "                        ) * res_df['volume'] * res_df['multiplier']\n",
    "    return res_df\n",
    "\n",
    "def t_df(df):\n",
    "    print(df)\n",
    "    df = df.iloc[0: 2, 0: 5]\n",
    "    return df"
   ]
  },
  {
   "cell_type": "code",
   "execution_count": 16,
   "metadata": {},
   "outputs": [
    {
     "name": "stdout",
     "output_type": "stream",
     "text": [
      "underlying\n",
      "MA    -5230.0\n",
      "RM   -10480.0\n",
      "SM     -980.0\n",
      "ZC    -4080.0\n",
      "bu     5060.0\n",
      "jd    -3720.0\n",
      "p     -4780.0\n",
      "pp     4130.0\n",
      "rb    -5330.0\n",
      "Name: profit, dtype: float64 -25409.99999999997\n",
      "underlying\n",
      "AP    -2640.0\n",
      "CF    -5525.0\n",
      "FG    -4680.0\n",
      "MA    -9410.0\n",
      "SM     3780.0\n",
      "SR     5280.0\n",
      "TA   -19060.0\n",
      "ZC   -20680.0\n",
      "a    -13050.0\n",
      "ag   -10395.0\n",
      "bu     4520.0\n",
      "cs    -5130.0\n",
      "cu    44300.0\n",
      "jd   -11090.0\n",
      "p      3040.0\n",
      "pp    -7960.0\n",
      "rb     5270.0\n",
      "ru     6000.0\n",
      "sp    13680.0\n",
      "Name: profit, dtype: float64 -23750.00000000016\n"
     ]
    }
   ],
   "source": [
    "fnames = ['trade_20.csv', 'trade_50.csv']\n",
    "for fname in fnames:\n",
    "    df = load_trade_file(fname)\n",
    "    r = df.groupby('underlying', group_keys=False).apply(cal_trading_pnl)\n",
    "    r.to_csv(f'{fname}_pnl.csv', encoding='utf-8-sig')\n",
    "    pnl = r.groupby('underlying')['profit'].sum()\n",
    "    print(pnl, pnl.sum())"
   ]
  },
  {
   "cell_type": "code",
   "execution_count": 4,
   "metadata": {},
   "outputs": [
    {
     "name": "stderr",
     "output_type": "stream",
     "text": [
      "c:\\vnstudio\\lib\\site-packages\\pandas\\core\\frame.py:3930: SettingWithCopyWarning: \n",
      "A value is trying to be set on a copy of a slice from a DataFrame\n",
      "\n",
      "See the caveats in the documentation: http://pandas.pydata.org/pandas-docs/stable/indexing.html#indexing-view-versus-copy\n",
      "  errors=errors)\n"
     ]
    }
   ],
   "source": [
    "fname = 'trade_20.csv'\n",
    "df = load_trade_file(fname)\n",
    "\n",
    "dfs = [cal_trading_pnl(sub_df) for name, sub_df in df.groupby('underlying')]\n",
    "# r = pd.concat(dfs)\n",
    "# r.to_csv(f'{fname}_pnl.csv', encoding='utf-8-sig')\n",
    "# r.groupby('underlying')['profit'].sum()\n",
    "# ma_df = df[df.underlying == 'pp'].copy()\n",
    "# # ma_df\n",
    "# ma_df = cal_trading_pnl(ma_df)\n",
    "# ma_df\n",
    "\n",
    "\n",
    "# df.groupby('underlying')['volume'].sum()\n",
    "# r = data.groupby('underlying').apply(t_df)\n",
    "# r = data.groupby('underlying').apply(cal_trading_pnl)\n",
    "# r\n",
    "# r.to_csv(f'{fname}_pnl.csv', encoding='utf-8-sig')\n",
    "# r.groupby('underlying')['profit'].sum()"
   ]
  },
  {
   "cell_type": "code",
   "execution_count": null,
   "metadata": {},
   "outputs": [],
   "source": []
  }
 ],
 "metadata": {
  "kernelspec": {
   "display_name": "Python 3",
   "language": "python",
   "name": "python3"
  },
  "language_info": {
   "codemirror_mode": {
    "name": "ipython",
    "version": 3
   },
   "file_extension": ".py",
   "mimetype": "text/x-python",
   "name": "python",
   "nbconvert_exporter": "python",
   "pygments_lexer": "ipython3",
   "version": "3.7.1"
  }
 },
 "nbformat": 4,
 "nbformat_minor": 2
}
