{
 "cells": [
  {
   "cell_type": "code",
   "execution_count": null,
   "metadata": {},
   "outputs": [],
   "source": [
    "import pandas as pd\n",
    "import numpy as np\n",
    "from pathlib import Path"
   ]
  },
  {
   "cell_type": "code",
   "execution_count": null,
   "metadata": {},
   "outputs": [],
   "source": [
    "commission_multiple = {\n",
    "    '10032518': 1.1,\n",
    "    '12200707': 1.3\n",
    "}\n",
    "\n",
    "size_dict = {\n",
    "    'IF': 300,\n",
    "    'IH': 300,\n",
    "    'IC': 200\n",
    "}\n",
    "\n",
    "def strip_digit(symbol: str):\n",
    "    res = \"\"\n",
    "    for char in symbol:\n",
    "        if not char.isdigit():\n",
    "            res += char\n",
    "        else:\n",
    "            break\n",
    "    return res\n",
    "\n",
    "def calc_trade(df: pd.DataFrame, account_type: str):\n",
    "    df_sel = df[df['account_type'] == account_type].copy()\n",
    "    df_sel['size'] = df_sel['symbol'].map(strip_digit).map(size_dict)\n",
    "    df_sel['turnover'] = df_sel['price'] * df_sel['volume'] * df_sel['size']\n",
    "    df_sel['com_multiple'] = df_sel['account_id'].map(commission_multiple)\n",
    "    df_sel['comission'] = df_sel['turnover'] * df_sel['com_multiple'] * (0.23 / 10000)\n",
    "    \n",
    "    df_sel_long = df_sel[df_sel['direction'] == \"多\"]\n",
    "    df_sel_short = df_sel[df_sel['direction'] == \"空\"]\n",
    "    \n",
    "    d = {}\n",
    "    d['date'] = df_sel.iloc[0]['date']\n",
    "    d['account'] = df_sel.iloc[0]['account_id']\n",
    "    d['comission'] = df_sel['comission'].sum()\n",
    "    d['long_volume'] = df_sel_long['volume'].sum()\n",
    "    d['long_turnover'] = df_sel_long['turnover'].sum()\n",
    "    d['long_cost'] = sum(df_sel_long['price'] * df_sel_long['volume']) / d['long_volume']\n",
    "    d['short_volume'] = df_sel_short['volume'].sum()\n",
    "    d['short_turnover'] = df_sel_short['turnover'].sum()\n",
    "    d['short_cost'] = sum(df_sel_short['price'] * df_sel_short['volume']) / d['short_volume']\n",
    "    d['trade_pnl'] = d['short_turnover'] - d['long_turnover']\n",
    "    d['net_pnl'] = d['trade_pnl'] - d['comission']\n",
    "    d['all_volume'] = d['long_volume'] + d['short_volume']\n",
    "    \n",
    "    df = pd.DataFrame([d])\n",
    "#     df.set_index('date', inplace=True)\n",
    "    return df\n",
    "\n",
    "def stats_trade_by_date(file):\n",
    "    df = pd.read_csv(file, parse_dates=[0])\n",
    "    df[['account_id', 'tradeid']] = df[['account_id', 'tradeid']].astype('str')\n",
    "    \n",
    "    source_res = calc_trade(df, 'source')\n",
    "    target_res = calc_trade(df, 'target')\n",
    "    \n",
    "    df_res = pd.merge(source_res, target_res, how='outer', on='date', suffixes=('_source', '_target'))\n",
    "    df_res['net_pnl_diff'] = df_res['net_pnl_source'] - df_res['net_pnl_target']\n",
    "    df_res['trade_pnl_diff'] = df_res['trade_pnl_source'] - df_res['trade_pnl_target']\n",
    "    df_res['long_diff'] = df_res['long_cost_target'] - df_res['long_cost_source']\n",
    "    df_res['short_diff'] = df_res['short_cost_source'] - df_res['short_cost_target']\n",
    "    df_res['trade_diff'] = (df_res['long_diff'] + df_res['short_diff']) / 2\n",
    "    \n",
    "    return df_res"
   ]
  },
  {
   "cell_type": "code",
   "execution_count": null,
   "metadata": {},
   "outputs": [],
   "source": [
    "folder = Path(r'D:\\work')\n",
    "files = folder.glob('*.csv')\n",
    "for file in files:\n",
    "    print(file, type(file))"
   ]
  },
  {
   "cell_type": "code",
   "execution_count": null,
   "metadata": {},
   "outputs": [],
   "source": [
    "file = Path(r'D:\\work\\trade_20200730.csv')\n",
    "df = stats_trade_by_date(file)"
   ]
  },
  {
   "cell_type": "code",
   "execution_count": null,
   "metadata": {},
   "outputs": [],
   "source": [
    "df"
   ]
  },
  {
   "cell_type": "code",
   "execution_count": null,
   "metadata": {},
   "outputs": [],
   "source": []
  }
 ],
 "metadata": {
  "kernelspec": {
   "display_name": "Python 3",
   "language": "python",
   "name": "python3"
  },
  "language_info": {
   "codemirror_mode": {
    "name": "ipython",
    "version": 3
   },
   "file_extension": ".py",
   "mimetype": "text/x-python",
   "name": "python",
   "nbconvert_exporter": "python",
   "pygments_lexer": "ipython3",
   "version": "3.7.1"
  }
 },
 "nbformat": 4,
 "nbformat_minor": 4
}
