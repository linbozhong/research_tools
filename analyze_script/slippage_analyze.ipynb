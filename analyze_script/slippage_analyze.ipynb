{
 "cells": [
  {
   "cell_type": "code",
   "execution_count": 2,
   "metadata": {},
   "outputs": [],
   "source": [
    "import pandas as pd\n",
    "import numpy as np\n",
    "from pathlib import Path\n",
    "\n",
    "pd.set_option('display.float_format', '{:.2f}'.format)"
   ]
  },
  {
   "cell_type": "code",
   "execution_count": 3,
   "metadata": {},
   "outputs": [],
   "source": [
    "p1 = Path(r'D:\\vnpy-2.0.7\\examples\\rohan_follow\\.vntrader\\trade')\n",
    "p2 = Path(r'D:\\vnpy-2.0.7\\examples\\ruida_follow\\.vntrader\\trade')\n",
    "p3 = Path(r'D:\\vnpy-2.0.7\\examples\\guomao_follow\\.vntrader\\trade')\n",
    "# p2 = Path(r'D:\\vnpy-2.0.7\\examples\\guomao_follow\\.vntrader\\trade')\n",
    "folders = [p1, p2, p3]"
   ]
  },
  {
   "cell_type": "code",
   "execution_count": 4,
   "metadata": {},
   "outputs": [
    {
     "data": {
      "text/plain": [
       "[WindowsPath('D:/vnpy-2.0.7/examples/rohan_follow/.vntrader/trade/trade_20191213.csv'),\n",
       " WindowsPath('D:/vnpy-2.0.7/examples/rohan_follow/.vntrader/trade/trade_20191216.csv'),\n",
       " WindowsPath('D:/vnpy-2.0.7/examples/ruida_follow/.vntrader/trade/trade_20191213.csv'),\n",
       " WindowsPath('D:/vnpy-2.0.7/examples/ruida_follow/.vntrader/trade/trade_20191216.csv'),\n",
       " WindowsPath('D:/vnpy-2.0.7/examples/guomao_follow/.vntrader/trade/trade_20191213.csv'),\n",
       " WindowsPath('D:/vnpy-2.0.7/examples/guomao_follow/.vntrader/trade/trade_20191216.csv')]"
      ]
     },
     "execution_count": 4,
     "metadata": {},
     "output_type": "execute_result"
    }
   ],
   "source": [
    "group_files = [list(p.glob('*.csv')) for p in folders]\n",
    "files = [f for g in group_files for f in g]\n",
    "files"
   ]
  },
  {
   "cell_type": "code",
   "execution_count": 5,
   "metadata": {},
   "outputs": [],
   "source": [
    "df = pd.concat([pd.read_csv(file) for file in files], ignore_index=True)"
   ]
  },
  {
   "cell_type": "code",
   "execution_count": 6,
   "metadata": {},
   "outputs": [],
   "source": [
    "df2 = df.groupby(['source_account', 'gateway_name', 'direction'])['price'].agg(['mean', 'count']).unstack().T\n",
    "# df2['slippage'] =  np.abs(df2['RPC'] - df2['ROHON'])\n",
    "# df2\n"
   ]
  },
  {
   "cell_type": "code",
   "execution_count": 7,
   "metadata": {},
   "outputs": [],
   "source": [
    "df2['811887-slippage'] = df2.iloc[:, 1] - df2.iloc[:, 0]\n",
    "df2['918068-slippage'] = df2.iloc[:, 3] - df2.iloc[:, 2]\n",
    "df2['10032518-slippage'] = df2.iloc[:, 5] - df2.iloc[:, 4]\n",
    "df2['all-slippage'] = (df2['811887-slippage'] + df2['918068-slippage'] + df2['10032518-slippage']) / 3"
   ]
  },
  {
   "cell_type": "code",
   "execution_count": 8,
   "metadata": {},
   "outputs": [
    {
     "data": {
      "text/html": [
       "<div>\n",
       "<style scoped>\n",
       "    .dataframe tbody tr th:only-of-type {\n",
       "        vertical-align: middle;\n",
       "    }\n",
       "\n",
       "    .dataframe tbody tr th {\n",
       "        vertical-align: top;\n",
       "    }\n",
       "\n",
       "    .dataframe thead tr th {\n",
       "        text-align: left;\n",
       "    }\n",
       "\n",
       "    .dataframe thead tr:last-of-type th {\n",
       "        text-align: right;\n",
       "    }\n",
       "</style>\n",
       "<table border=\"1\" class=\"dataframe\">\n",
       "  <thead>\n",
       "    <tr>\n",
       "      <th></th>\n",
       "      <th>source_account</th>\n",
       "      <th colspan=\"2\" halign=\"left\">811887</th>\n",
       "      <th colspan=\"2\" halign=\"left\">918068</th>\n",
       "      <th colspan=\"2\" halign=\"left\">10032518</th>\n",
       "      <th>811887-slippage</th>\n",
       "      <th>918068-slippage</th>\n",
       "      <th>10032518-slippage</th>\n",
       "      <th>all-slippage</th>\n",
       "    </tr>\n",
       "    <tr>\n",
       "      <th></th>\n",
       "      <th>gateway_name</th>\n",
       "      <th>CTP</th>\n",
       "      <th>RPC</th>\n",
       "      <th>ROHON</th>\n",
       "      <th>RPC</th>\n",
       "      <th>CTP</th>\n",
       "      <th>RPC</th>\n",
       "      <th></th>\n",
       "      <th></th>\n",
       "      <th></th>\n",
       "      <th></th>\n",
       "    </tr>\n",
       "    <tr>\n",
       "      <th></th>\n",
       "      <th>direction</th>\n",
       "      <th></th>\n",
       "      <th></th>\n",
       "      <th></th>\n",
       "      <th></th>\n",
       "      <th></th>\n",
       "      <th></th>\n",
       "      <th></th>\n",
       "      <th></th>\n",
       "      <th></th>\n",
       "      <th></th>\n",
       "    </tr>\n",
       "  </thead>\n",
       "  <tbody>\n",
       "    <tr>\n",
       "      <th rowspan=\"2\" valign=\"top\">mean</th>\n",
       "      <th>多</th>\n",
       "      <td>4316.00</td>\n",
       "      <td>4316.93</td>\n",
       "      <td>3973.65</td>\n",
       "      <td>3973.84</td>\n",
       "      <td>4502.33</td>\n",
       "      <td>4502.77</td>\n",
       "      <td>0.93</td>\n",
       "      <td>0.19</td>\n",
       "      <td>0.43</td>\n",
       "      <td>0.52</td>\n",
       "    </tr>\n",
       "    <tr>\n",
       "      <th>空</th>\n",
       "      <td>4548.55</td>\n",
       "      <td>4548.21</td>\n",
       "      <td>3970.04</td>\n",
       "      <td>3969.78</td>\n",
       "      <td>4137.52</td>\n",
       "      <td>4137.05</td>\n",
       "      <td>-0.34</td>\n",
       "      <td>-0.26</td>\n",
       "      <td>-0.46</td>\n",
       "      <td>-0.35</td>\n",
       "    </tr>\n",
       "    <tr>\n",
       "      <th rowspan=\"2\" valign=\"top\">count</th>\n",
       "      <th>多</th>\n",
       "      <td>12.00</td>\n",
       "      <td>12.00</td>\n",
       "      <td>28.00</td>\n",
       "      <td>28.00</td>\n",
       "      <td>12.00</td>\n",
       "      <td>12.00</td>\n",
       "      <td>0.00</td>\n",
       "      <td>0.00</td>\n",
       "      <td>0.00</td>\n",
       "      <td>0.00</td>\n",
       "    </tr>\n",
       "    <tr>\n",
       "      <th>空</th>\n",
       "      <td>51.00</td>\n",
       "      <td>51.00</td>\n",
       "      <td>35.00</td>\n",
       "      <td>35.00</td>\n",
       "      <td>55.00</td>\n",
       "      <td>55.00</td>\n",
       "      <td>0.00</td>\n",
       "      <td>0.00</td>\n",
       "      <td>0.00</td>\n",
       "      <td>0.00</td>\n",
       "    </tr>\n",
       "  </tbody>\n",
       "</table>\n",
       "</div>"
      ],
      "text/plain": [
       "source_account   811887          918068         10032518          \\\n",
       "gateway_name        CTP     RPC   ROHON     RPC      CTP     RPC   \n",
       "      direction                                                    \n",
       "mean  多         4316.00 4316.93 3973.65 3973.84  4502.33 4502.77   \n",
       "      空         4548.55 4548.21 3970.04 3969.78  4137.52 4137.05   \n",
       "count 多           12.00   12.00   28.00   28.00    12.00   12.00   \n",
       "      空           51.00   51.00   35.00   35.00    55.00   55.00   \n",
       "\n",
       "source_account  811887-slippage 918068-slippage 10032518-slippage all-slippage  \n",
       "gateway_name                                                                    \n",
       "      direction                                                                 \n",
       "mean  多                    0.93            0.19              0.43         0.52  \n",
       "      空                   -0.34           -0.26             -0.46        -0.35  \n",
       "count 多                    0.00            0.00              0.00         0.00  \n",
       "      空                    0.00            0.00              0.00         0.00  "
      ]
     },
     "execution_count": 8,
     "metadata": {},
     "output_type": "execute_result"
    }
   ],
   "source": [
    "df2"
   ]
  },
  {
   "cell_type": "code",
   "execution_count": null,
   "metadata": {},
   "outputs": [],
   "source": []
  }
 ],
 "metadata": {
  "kernelspec": {
   "display_name": "Python 3",
   "language": "python",
   "name": "python3"
  },
  "language_info": {
   "codemirror_mode": {
    "name": "ipython",
    "version": 3
   },
   "file_extension": ".py",
   "mimetype": "text/x-python",
   "name": "python",
   "nbconvert_exporter": "python",
   "pygments_lexer": "ipython3",
   "version": "3.7.1"
  },
  "varInspector": {
   "cols": {
    "lenName": 16,
    "lenType": 16,
    "lenVar": 40
   },
   "kernels_config": {
    "python": {
     "delete_cmd_postfix": "",
     "delete_cmd_prefix": "del ",
     "library": "var_list.py",
     "varRefreshCmd": "print(var_dic_list())"
    },
    "r": {
     "delete_cmd_postfix": ") ",
     "delete_cmd_prefix": "rm(",
     "library": "var_list.r",
     "varRefreshCmd": "cat(var_dic_list()) "
    }
   },
   "types_to_exclude": [
    "module",
    "function",
    "builtin_function_or_method",
    "instance",
    "_Feature"
   ],
   "window_display": false
  }
 },
 "nbformat": 4,
 "nbformat_minor": 2
}
