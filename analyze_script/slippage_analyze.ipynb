{
 "cells": [
  {
   "cell_type": "code",
   "execution_count": null,
   "metadata": {},
   "outputs": [],
   "source": [
    "import pandas as pd\n",
    "import numpy as np\n",
    "from pathlib import Path\n",
    "from pandas.errors import EmptyDataError\n",
    "\n",
    "WEIGHT_MEAN_PRICE = '成交均价滑差'\n",
    "TRADE_VOLUME = '成交手数'\n",
    "\n",
    "pd.set_option('display.float_format', '{:.2f}'.format)\n",
    "\n",
    "def calc_mean_price_and_vol(df):\n",
    "    \"\"\"Groud process function\"\"\"\n",
    "    df = df.copy()\n",
    "    turnover = np.dot(df.price, df.volume)\n",
    "    volume = df.volume.sum()\n",
    "    mean_price = turnover / volume\n",
    "    return pd.Series({WEIGHT_MEAN_PRICE: mean_price, TRADE_VOLUME: volume})\n",
    "    "
   ]
  },
  {
   "cell_type": "code",
   "execution_count": null,
   "metadata": {},
   "outputs": [],
   "source": [
    "# filter_id is date.tradeid\n",
    "filter_list = [\n",
    "    '811887.20191226.110427',\n",
    "    '811887.20191227.58998'\n",
    "]\n",
    "\n",
    "p1 = Path(r'D:\\vnpy-2.0.7\\examples\\rohon_follower\\.vntrader\\trade')\n",
    "p2 = Path(r'D:\\vnpy-2.0.7\\examples\\ruida_follower\\.vntrader\\trade')\n",
    "p3 = Path(r'D:\\vnpy-2.0.7\\examples\\guomao_follower\\.vntrader\\trade')\n",
    "folders = [p1, p2, p3]\n",
    "\n",
    "group_files = [list(p.glob('*.csv')) for p in folders]\n",
    "files = [f for g in group_files for f in g]\n",
    "files"
   ]
  },
  {
   "cell_type": "code",
   "execution_count": null,
   "metadata": {},
   "outputs": [],
   "source": [
    "# 检查单日成交数据是否正常（2个账户成交数量是否一致）\n",
    "for file in files:\n",
    "    try:\n",
    "        df = pd.read_csv(file)\n",
    "    except EmptyDataError:\n",
    "        pass\n",
    "#         print(\"The File is empty\")\n",
    "#         print(file)\n",
    "#         print(\"=\" * 50)\n",
    "    if not df.empty:\n",
    "        res = df.groupby(['gateway_name', 'direction'])['volume'].sum().unstack().T\n",
    "        try:\n",
    "            comp = res.iloc[:, 0] - res.iloc[:, 1]\n",
    "        except:\n",
    "            print('unknown error')\n",
    "            print(file)\n",
    "            print(res)\n",
    "            print(\"=\" * 50)\n",
    "        if sum(comp) != 0:\n",
    "            print(\"Trade count is not identical:\")\n",
    "            print(file)\n",
    "            print(res)\n",
    "            print(\"=\" * 50)\n"
   ]
  },
  {
   "cell_type": "code",
   "execution_count": null,
   "metadata": {
    "scrolled": true
   },
   "outputs": [],
   "source": [
    "dflist = []\n",
    "for file in files:\n",
    "    try:\n",
    "        dflist.append(pd.read_csv(file))\n",
    "    except:\n",
    "        pass\n",
    "\n",
    "df = pd.concat(dflist, ignore_index=True)\n",
    "df[['date', 'source_account', 'tradeid']] = df[['date', 'source_account', 'tradeid']].astype('str')\n",
    "\n",
    "# 过滤重复成交记录，行情中断重连会导致成交记录重复推送\n",
    "df.drop_duplicates(inplace=True)\n",
    "\n",
    "# 去除要过滤的单子\n",
    "f = lambda x: x + '.'\n",
    "df['filter_id'] = df['source_account'].map(f) + df['date'].map(f) + df['tradeid']\n",
    "df = df[~df['filter_id'].isin(filter_list)].copy()\n"
   ]
  },
  {
   "cell_type": "code",
   "execution_count": null,
   "metadata": {},
   "outputs": [],
   "source": [
    "# 分组聚合计算成交均价\n",
    "res = df.groupby(['source_account', 'gateway_name', 'direction']).apply(calc_mean_price_and_vol).unstack().T\n",
    "res"
   ]
  },
  {
   "cell_type": "code",
   "execution_count": null,
   "metadata": {},
   "outputs": [],
   "source": [
    "# 计算滑差\n",
    "res['811887S'] = res.iloc[:, 1] - res.iloc[:, 0]\n",
    "res['918068S'] = res.iloc[:, 3] - res.iloc[:, 2]\n",
    "res['10032518S'] = res.iloc[:, 5] - res.iloc[:, 4]\n",
    "res['all'] = 0\n",
    "res"
   ]
  },
  {
   "cell_type": "code",
   "execution_count": null,
   "metadata": {},
   "outputs": [],
   "source": [
    "# 根据成交量计算权重\n",
    "long_vol = res.iloc[2, :].sum() / 2\n",
    "short_vol = res.iloc[3, :].sum() / 2\n",
    "# print(long_vol, short_vol)\n",
    "long_weights = [res.iloc[2, 1] / long_vol, res.iloc[2, 3] / long_vol, res.iloc[2, 5] / long_vol]\n",
    "short_weights = [res.iloc[3, 1] / short_vol, res.iloc[3, 3] / short_vol, res.iloc[3, 5] / short_vol]\n",
    "# long_weights, short_weights, sum(long_weights), sum(short_weights)"
   ]
  },
  {
   "cell_type": "code",
   "execution_count": null,
   "metadata": {},
   "outputs": [],
   "source": [
    "# 计算加权平均跟踪滑差\n",
    "res.iloc[0, 9] = np.dot(long_weights, res.iloc[0, 6:9])\n",
    "res.iloc[1, 9] = np.dot(short_weights, res.iloc[1, 6:9])\n",
    "res.iloc[2, 9] = long_vol\n",
    "res.iloc[3, 9] = short_vol\n",
    "res"
   ]
  },
  {
   "cell_type": "code",
   "execution_count": null,
   "metadata": {},
   "outputs": [],
   "source": [
    "# 调整要展示的数据\n",
    "res.iloc[2, 6:9] = res.iloc[2, [0, 2, 4]].values\n",
    "res.iloc[3, 6:9] = res.iloc[3, [0, 2, 4]].values\n",
    "n_res = res.iloc[:, 6:].copy()\n",
    "n_res.columns.names = ['account', '']\n",
    "n_res"
   ]
  },
  {
   "cell_type": "code",
   "execution_count": null,
   "metadata": {},
   "outputs": [],
   "source": [
    "# df2 = df.groupby(['source_account', 'gateway_name', 'direction'])['price'].agg(['mean', 'count']).unstack().T\n",
    "# df2['slippage'] =  np.abs(df2['RPC'] - df2['ROHON'])\n",
    "# df2\n"
   ]
  },
  {
   "cell_type": "code",
   "execution_count": null,
   "metadata": {},
   "outputs": [],
   "source": []
  }
 ],
 "metadata": {
  "kernelspec": {
   "display_name": "Python 3",
   "language": "python",
   "name": "python3"
  },
  "language_info": {
   "codemirror_mode": {
    "name": "ipython",
    "version": 3
   },
   "file_extension": ".py",
   "mimetype": "text/x-python",
   "name": "python",
   "nbconvert_exporter": "python",
   "pygments_lexer": "ipython3",
   "version": "3.7.1"
  },
  "varInspector": {
   "cols": {
    "lenName": 16,
    "lenType": 16,
    "lenVar": 40
   },
   "kernels_config": {
    "python": {
     "delete_cmd_postfix": "",
     "delete_cmd_prefix": "del ",
     "library": "var_list.py",
     "varRefreshCmd": "print(var_dic_list())"
    },
    "r": {
     "delete_cmd_postfix": ") ",
     "delete_cmd_prefix": "rm(",
     "library": "var_list.r",
     "varRefreshCmd": "cat(var_dic_list()) "
    }
   },
   "types_to_exclude": [
    "module",
    "function",
    "builtin_function_or_method",
    "instance",
    "_Feature"
   ],
   "window_display": false
  }
 },
 "nbformat": 4,
 "nbformat_minor": 2
}
