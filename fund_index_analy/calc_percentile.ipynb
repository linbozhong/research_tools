{
 "cells": [
  {
   "cell_type": "code",
   "execution_count": null,
   "id": "3d9bbbe1",
   "metadata": {},
   "outputs": [],
   "source": [
    "import requests\n",
    "import pandas as pd\n",
    "\n",
    "# 获取数据\n",
    "data_url = \"https://danjuanfunds.com/djapi/index_eva/pe_history/SZ399317?day=5y\"\n",
    "\n",
    "# 绕过最基础的反爬虫\n",
    "headers = {\n",
    "'Accept': '*/*',\n",
    "'Accept-Encoding': 'gzip, deflate, br',\n",
    "'Accept-Language': 'zh-CN,zh;q=0.8,zh-TW;q=0.7,zh-HK;q=0.5,en-US;q=0.3,en;q=0.2',\n",
    "'Connection': 'keep-alive',\n",
    "'User-agent': 'Mozilla/5.0 (Windows NT 10.0; Win64; x64) AppleWebKit/537.36 (KHTML, like Gecko) Chrome/112.0.0.0 Safari/537.36'\n",
    "}\n",
    "resp = requests.get(data_url, headers=headers)\n",
    "data = resp.json()['data']['index_eva_pe_growths']"
   ]
  },
  {
   "cell_type": "code",
   "execution_count": null,
   "id": "64433818",
   "metadata": {},
   "outputs": [],
   "source": [
    "df = pd.DataFrame(data)\n",
    "\n",
    "# 10位时间戳单位是s，13位的单位是ms\n",
    "df['date'] = pd.to_datetime(df['ts'], unit='ms')\n",
    "df.set_index('date')\n",
    "df"
   ]
  },
  {
   "cell_type": "code",
   "execution_count": null,
   "id": "12cafd6f",
   "metadata": {},
   "outputs": [],
   "source": [
    "# 计算百分位\n",
    "loc_lst = [i/10 for i in range(10)]\n",
    "df['pe'].quantile(loc_lst)"
   ]
  }
 ],
 "metadata": {
  "kernelspec": {
   "display_name": "Python 3 (ipykernel)",
   "language": "python",
   "name": "python3"
  },
  "language_info": {
   "codemirror_mode": {
    "name": "ipython",
    "version": 3
   },
   "file_extension": ".py",
   "mimetype": "text/x-python",
   "name": "python",
   "nbconvert_exporter": "python",
   "pygments_lexer": "ipython3",
   "version": "3.10.9"
  },
  "varInspector": {
   "cols": {
    "lenName": 16,
    "lenType": 16,
    "lenVar": 40
   },
   "kernels_config": {
    "python": {
     "delete_cmd_postfix": "",
     "delete_cmd_prefix": "del ",
     "library": "var_list.py",
     "varRefreshCmd": "print(var_dic_list())"
    },
    "r": {
     "delete_cmd_postfix": ") ",
     "delete_cmd_prefix": "rm(",
     "library": "var_list.r",
     "varRefreshCmd": "cat(var_dic_list()) "
    }
   },
   "types_to_exclude": [
    "module",
    "function",
    "builtin_function_or_method",
    "instance",
    "_Feature"
   ],
   "window_display": false
  }
 },
 "nbformat": 4,
 "nbformat_minor": 5
}
