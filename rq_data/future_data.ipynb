{
 "cells": [
  {
   "cell_type": "code",
   "execution_count": null,
   "metadata": {},
   "outputs": [],
   "source": [
    "import json\n",
    "import time\n",
    "import pandas as pd\n",
    "from datetime import datetime\n",
    "from rpc.utility import load_json, save_json, strip_digt, to_vt_symbol\n",
    "\n",
    "future_basic_data = pd.DataFrame()\n",
    "\n",
    "\n",
    "def get_future_basic():\n",
    "    \"\"\"获取期货合约基础数据\"\"\"\n",
    "    today = datetime.now()\n",
    "    df = all_instruments(type=\"Future\", market=\"cn\", date=today)\n",
    "    df[\"order_book_id\"] = df[\"order_book_id\"].map(strip_digt)\n",
    "    df.drop_duplicates(subset=\"order_book_id\", inplace=True)\n",
    "    df.set_index(\"order_book_id\", inplace=True)\n",
    "    return df\n",
    "\n",
    "    \n",
    "def save_multiplier():\n",
    "    \"\"\"导出期货合约交易乘数到json文件\"\"\"\n",
    "    df = future_basic_data\n",
    "    d = dict(df[\"contract_multiplier\"])\n",
    "    save_json('multiplier.json', d)\n",
    "    return d\n",
    "\n",
    "\n",
    "def gf_dominant_lifespan(df):\n",
    "    \"\"\"\n",
    "    分组处理函数\n",
    "    按品种分组，获取每个主力合约的生命周期并返回为df\n",
    "    \"\"\"\n",
    "    d = dict()\n",
    "    d['start'] = df.index[0]\n",
    "    d['end'] = df.index[-1]\n",
    "    \n",
    "    rq_symbol = df.iloc[0]['dominant']\n",
    "    underlying = strip_digt(df.iloc[0]['dominant'])\n",
    "    exchange = future_basic_data.loc[underlying]['exchange']\n",
    "    vt_symbol = to_vt_symbol('.'.join([rq_symbol, exchange]))\n",
    "    \n",
    "    d['underlying'] = underlying\n",
    "    d['exchange'] = exchange\n",
    "    d['vt_symbol'] = vt_symbol\n",
    "    new_df = pd.DataFrame([d])\n",
    "    new_df = new_df[['start', 'end', 'underlying', 'exchange', 'vt_symbol']]\n",
    "    return new_df\n",
    "\n",
    "\n",
    "def get_dominant_start_end(underlying, end_date):\n",
    "    \"\"\"获取每个品种的主力合约起止日期数据\"\"\"\n",
    "    s = futures.get_dominant(underlying, end_date=end_date)\n",
    "    df = pd.DataFrame(s)\n",
    "\n",
    "    df2 = df.groupby('dominant').apply(gf_dominant_lifespan)\n",
    "    df2 = df2.droplevel(1)\n",
    "    return df2\n",
    "\n",
    "\n",
    "def save_all_dominant_period():\n",
    "    commodities = future_basic_data.index.values\n",
    "    end_date = datetime.now()\n",
    "    dfs = []\n",
    "    for commodity in commodities:\n",
    "        dfs.append(get_dominant_start_end(commodity, end_date))\n",
    "        print(f\"{commodity}获取完成\")\n",
    "        time.sleep(1)\n",
    "    df = pd.concat(dfs)\n",
    "    df.to_csv('dominant_data.csv')\n",
    "    \n",
    "    print(f\"{end_date}合并保存成功\")\n",
    "    return df\n",
    "    \n",
    "\n",
    "future_basic_data = get_future_basic()\n"
   ]
  },
  {
   "cell_type": "code",
   "execution_count": null,
   "metadata": {},
   "outputs": [],
   "source": [
    "df = save_all_dominant_period()\n",
    "df"
   ]
  },
  {
   "cell_type": "code",
   "execution_count": null,
   "metadata": {},
   "outputs": [],
   "source": [
    "df = get_dominant_start_end('AP', datetime.now())\n",
    "df"
   ]
  },
  {
   "cell_type": "code",
   "execution_count": null,
   "metadata": {},
   "outputs": [],
   "source": [
    "d = save_multiplier()\n",
    "d"
   ]
  }
 ],
 "metadata": {
  "kernelspec": {
   "display_name": "Python 3",
   "language": "python",
   "name": "python3"
  },
  "language_info": {
   "codemirror_mode": {
    "name": "ipython",
    "version": 3
   },
   "file_extension": ".py",
   "mimetype": "text/x-python",
   "name": "python",
   "nbconvert_exporter": "python",
   "pygments_lexer": "ipython3",
   "version": "3.6.8"
  }
 },
 "nbformat": 4,
 "nbformat_minor": 2
}
