{
 "cells": [
  {
   "cell_type": "code",
   "execution_count": null,
   "metadata": {},
   "outputs": [],
   "source": [
    "import traceback\n",
    "import socket\n",
    "from datetime import datetime, timedelta\n",
    "from typing import Optional, Sequence, List\n",
    "from rpc.client import RpcClient\n",
    "from rpc.utility import INTERVAL_ADJUSTMENT_MAP\n",
    "from rpc.utility import get_duration, extract_vt_symbol, to_rq_symbol, handle_df, load_json\n",
    "\n",
    "\n",
    "def get_trading_symbols() -> set:\n",
    "    symbols = set()\n",
    "    df = all_instruments(date=datetime.now())\n",
    "    for ix, row in df.iterrows():\n",
    "        symbols.add(row[\"order_book_id\"])\n",
    "    return symbols\n",
    "    \n",
    "    \n",
    "def query_by_symbol(vt_symbol: str, rq_interval: str, start_date: datetime, end_date: datetime) -> dict:\n",
    "    symbol, exchange = extract_vt_symbol(vt_symbol)\n",
    "    rq_symbol = to_rq_symbol(symbol, exchange)\n",
    "    adjustment = INTERVAL_ADJUSTMENT_MAP[rq_interval]\n",
    "    end_date += timedelta(1)\n",
    "\n",
    "    df = get_price(\n",
    "        rq_symbol,\n",
    "        frequency=rq_interval,\n",
    "        fields=[\"open\", \"high\", \"low\", \"close\", \"volume\"],\n",
    "        start_date=start_date,\n",
    "        end_date=end_date,\n",
    "        adjust_type=\"none\"\n",
    "    )\n",
    "    \n",
    "    df = handle_df(df, rq_interval)\n",
    "    return df.to_dict(orient=\"records\")\n",
    "\n",
    "def init_client(host: str, port: int, authkey: bytes):\n",
    "    client = RpcClient(host, port, authkey)\n",
    "    client.connect()\n",
    "    try:\n",
    "        return client\n",
    "    except:\n",
    "        traceback.print_exc()\n",
    "\n",
    "        \n",
    "def get_update_symbol(client: RpcClient) -> List:\n",
    "    symbols = client.get_update_symbol()\n",
    "    print(\"待更新的合约列表获取成功：\")\n",
    "    print(symbols)\n",
    "    return symbols\n",
    "\n",
    "\n",
    "def save_all_data(client: RpcClient, rq_interval: str, start: datetime, end: datetime, symbols: Optional[Sequence[str]] = None):\n",
    "    if symbols is None:\n",
    "        symbols = get_update_symbol(client)\n",
    "    for vt_symbol in symbols:\n",
    "        data_dict = query_by_symbol(vt_symbol, rq_interval, start, end)\n",
    "        client.save_to_database(data_dict, vt_symbol, rq_interval)\n",
    "        print(f\"{vt_symbol}合约数据保存成功\")\n",
    "        \n",
    "connect_setting = load_json('connect.json')"
   ]
  },
  {
   "cell_type": "code",
   "execution_count": null,
   "metadata": {},
   "outputs": [],
   "source": [
    "host_home = socket.gethostbyname(connect_setting['host_home'])\n",
    "host_tencent = connect_setting['host_tencent']\n",
    "port = connect_setting['port']\n",
    "authkey = connect_setting['authkey'].encode('ascii')\n",
    "print(datetime.now(), host_home)"
   ]
  },
  {
   "cell_type": "markdown",
   "metadata": {},
   "source": [
    "### 分别推送"
   ]
  },
  {
   "cell_type": "code",
   "execution_count": null,
   "metadata": {},
   "outputs": [],
   "source": [
    "def update_to_2server():   \n",
    "    rq_interval = \"60m\"\n",
    "    back_days = 30\n",
    "    start, end = get_duration(back_days)\n",
    "    \n",
    "    client_home = init_client(host_home, port, authkey)\n",
    "    if client_home:\n",
    "        save_all_data(client_home, rq_interval, start, end)\n",
    "        client_home.close()\n",
    "\n",
    "    client_tencent = init_client(host_tencent, port, authkey)\n",
    "    if client_tencent:\n",
    "        save_all_data(client_tencent, rq_interval, start, end)\n",
    "        client_tencent.close()\n",
    "\n",
    "    return client_home, client_tencent\n",
    "    \n",
    "client_h, client_t = update_to_2server()"
   ]
  },
  {
   "cell_type": "markdown",
   "metadata": {},
   "source": [
    "### 合并推送"
   ]
  },
  {
   "cell_type": "code",
   "execution_count": null,
   "metadata": {},
   "outputs": [],
   "source": [
    "def main():    \n",
    "    home_symbols = None\n",
    "    \n",
    "    rq_interval = \"60m\"\n",
    "    back_days = 30\n",
    "    start, end = get_duration(back_days)\n",
    "\n",
    "    \n",
    "    client_home = init_client(host_home, port, authkey)\n",
    "    if client_home:\n",
    "        home_symbols = get_update_symbol(client_home)\n",
    "\n",
    "    client = init_client(host_tencent, port, authkey)\n",
    "    if client:\n",
    "        tencent_symbols = get_update_symbol(client)\n",
    "        if home_symbols:\n",
    "            tencent_symbols.extend(home_symbols)\n",
    "            tencent_symbols = set(tencent_symbols)\n",
    "            \n",
    "        print(\"合并后待更新的合约列表：\")\n",
    "        print(tencent_symbols)\n",
    "        \n",
    "        save_all_data(client, rq_interval, start, end, tencent_symbols)\n",
    "        client.close()\n",
    "\n",
    "    return client\n",
    "    \n",
    "client = main()"
   ]
  }
 ],
 "metadata": {
  "kernelspec": {
   "display_name": "Python 3",
   "language": "python",
   "name": "python3"
  },
  "language_info": {
   "codemirror_mode": {
    "name": "ipython",
    "version": 3
   },
   "file_extension": ".py",
   "mimetype": "text/x-python",
   "name": "python",
   "nbconvert_exporter": "python",
   "pygments_lexer": "ipython3",
   "version": "3.6.8"
  }
 },
 "nbformat": 4,
 "nbformat_minor": 2
}
