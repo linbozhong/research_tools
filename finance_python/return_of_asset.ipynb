{
 "cells": [
  {
   "cell_type": "code",
   "execution_count": null,
   "metadata": {},
   "outputs": [],
   "source": [
    "import tushare as ts\n",
    "import numpy as np\n",
    "import pandas as pd\n",
    "import matplotlib.pyplot as plt\n",
    "from scipy import stats"
   ]
  },
  {
   "cell_type": "code",
   "execution_count": null,
   "metadata": {},
   "outputs": [],
   "source": [
    "etf_50 = ts.get_k_data(\"510050\", start=\"2005-01-01\", end=\"2019-01-01\")\n",
    "etf_50[\"simple_return\"] = etf_50[\"close\"] / etf_50[\"close\"].shift(1) - 1\n",
    "etf_50[\"log_return\"] = np.log(etf_50[\"close\"] / etf_50[\"close\"].shift(1))\n",
    "# etf_50[[\"simple_return\", \"log_return\"]]"
   ]
  },
  {
   "cell_type": "code",
   "execution_count": null,
   "metadata": {},
   "outputs": [],
   "source": [
    "etf_50[\"simple_return\"].plot(figsize=(8, 5))"
   ]
  },
  {
   "cell_type": "code",
   "execution_count": null,
   "metadata": {},
   "outputs": [],
   "source": [
    "etf_50[\"log_return\"].plot(figsize=(8, 5))"
   ]
  },
  {
   "cell_type": "code",
   "execution_count": null,
   "metadata": {},
   "outputs": [],
   "source": [
    "average_return_d = etf_50[\"simple_return\"].mean()\n",
    "log_return_mean_d = etf_50[\"log_return\"].mean()\n",
    "average_return_d, log_return_mean_d"
   ]
  },
  {
   "cell_type": "code",
   "execution_count": null,
   "metadata": {},
   "outputs": [],
   "source": [
    "average_return_y = average_return_d * 250\n",
    "log_return_y = log_return_mean_d * 250\n",
    "average_return_y, log_return_y"
   ]
  },
  {
   "cell_type": "markdown",
   "metadata": {},
   "source": [
    "### 输出收益率的概率密度函数图"
   ]
  },
  {
   "cell_type": "code",
   "execution_count": null,
   "metadata": {},
   "outputs": [],
   "source": [
    "r = etf_50['log_return']\n",
    "r = r.dropna()\n",
    "r = r * 100\n",
    "\n",
    "# 定义区间和分割间隔\n",
    "density = stats.kde.gaussian_kde(r)\n",
    "bins = np.arange(-11, 11, 0.02)\n",
    "# density(bins)"
   ]
  },
  {
   "cell_type": "code",
   "execution_count": null,
   "metadata": {},
   "outputs": [],
   "source": [
    "%matplotlib notebook\n",
    "\n",
    "f = plt.figure(figsize=(10, 8))\n",
    "\n",
    "plt.subplot(211)\n",
    "plt.plot(bins, density(bins))\n",
    "\n",
    "plt.subplot(212)\n",
    "plt.plot(bins, density(bins).cumsum())"
   ]
  },
  {
   "cell_type": "markdown",
   "metadata": {},
   "source": [
    "#### value at risk 计算"
   ]
  },
  {
   "cell_type": "code",
   "execution_count": null,
   "metadata": {},
   "outputs": [],
   "source": [
    "stats.norm.ppf(0.05, r.mean(), r.std())"
   ]
  },
  {
   "cell_type": "code",
   "execution_count": null,
   "metadata": {},
   "outputs": [],
   "source": []
  }
 ],
 "metadata": {
  "kernelspec": {
   "display_name": "Python 3",
   "language": "python",
   "name": "python3"
  },
  "language_info": {
   "codemirror_mode": {
    "name": "ipython",
    "version": 3
   },
   "file_extension": ".py",
   "mimetype": "text/x-python",
   "name": "python",
   "nbconvert_exporter": "python",
   "pygments_lexer": "ipython3",
   "version": "3.7.1"
  }
 },
 "nbformat": 4,
 "nbformat_minor": 2
}
