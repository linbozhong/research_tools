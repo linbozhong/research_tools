{
 "cells": [
  {
   "cell_type": "code",
   "execution_count": null,
   "metadata": {},
   "outputs": [],
   "source": [
    "# 在本机未更新至2.0.8的情况下，使用vnpy2.0.8的回测逻辑\n",
    "import sys\n",
    "import os\n",
    "from pathlib import Path\n",
    "new_version_path = Path(os.getenv('VNPY2.0.8'))\n",
    "sys.path.insert(0, str(new_version_path))\n",
    "\n",
    "import matplotlib.pyplot as plt\n",
    "import pandas as pd\n",
    "import numpy as np\n",
    "plt.style.use('ggplot')\n",
    "pd.set_option('display.float_format', '{:.2f}'.format)\n",
    "\n",
    "from datetime import datetime, timedelta\n",
    "from typing import Optional\n",
    "from utility import load_data, strip_digt, comodity_to_vt_symbol\n",
    "\n",
    "def get_hist_vol(\n",
    "    commodity: str,\n",
    "    start: Optional[datetime] = None,\n",
    "    end: Optional[datetime] = None,\n",
    "    n: int = 20\n",
    "):\n",
    "    vt_symbol = comodity_to_vt_symbol(commodity, data_mode='index')\n",
    "    if not end:\n",
    "        end = datetime.now()\n",
    "    if not start:\n",
    "        start = end - timedelta(days=365 * 5)\n",
    "        \n",
    "    df = load_data(vt_symbol, 'd', start, end)\n",
    "    df[\"returns\"] = np.log(df[\"close\"] / df[\"close\"].shift(1))\n",
    "    df['hist_vol'] = df['returns'].rolling(n).std() * np.sqrt(252) * 100\n",
    "    df = df.dropna()\n",
    "    return df"
   ]
  },
  {
   "cell_type": "code",
   "execution_count": null,
   "metadata": {},
   "outputs": [],
   "source": [
    "df = get_hist_vol('cu')\n",
    "df.head()"
   ]
  },
  {
   "cell_type": "code",
   "execution_count": null,
   "metadata": {},
   "outputs": [],
   "source": [
    "%matplotlib notebook\n",
    "plt.figure(figsize=(10, 8))\n",
    "\n",
    "close_plot = plt.subplot(2, 1, 1)\n",
    "close_plot.set_title(\"Close\")\n",
    "close_plot.plot(df[\"close\"].index, df[\"close\"].values)\n",
    "\n",
    "vol_plot = plt.subplot(2, 1, 2)\n",
    "vol_plot.set_title(\"Hist volotility\")\n",
    "vol_plot.plot(df[\"hist_vol\"].index, df['hist_vol'].values)\n",
    "\n",
    "plt.tight_layout() "
   ]
  },
  {
   "cell_type": "code",
   "execution_count": null,
   "metadata": {},
   "outputs": [],
   "source": []
  }
 ],
 "metadata": {
  "kernelspec": {
   "display_name": "Python 3",
   "language": "python",
   "name": "python3"
  },
  "language_info": {
   "codemirror_mode": {
    "name": "ipython",
    "version": 3
   },
   "file_extension": ".py",
   "mimetype": "text/x-python",
   "name": "python",
   "nbconvert_exporter": "python",
   "pygments_lexer": "ipython3",
   "version": "3.7.1"
  }
 },
 "nbformat": 4,
 "nbformat_minor": 2
}
