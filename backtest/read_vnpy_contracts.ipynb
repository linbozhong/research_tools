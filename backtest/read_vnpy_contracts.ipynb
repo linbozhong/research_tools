{
 "cells": [
  {
   "cell_type": "code",
   "execution_count": null,
   "metadata": {},
   "outputs": [],
   "source": [
    "import pickle\n",
    "import pandas as pd\n",
    "import numpy as np\n",
    "from collections import defaultdict\n",
    "from utility import strip_digt\n",
    "\n",
    "def vt_contract_to_df(contracts):\n",
    "    data = defaultdict(list)\n",
    "    for contract in contracts:\n",
    "        data['vt_symbol'].append(contract.vt_symbol)\n",
    "        data['product'].append(contract.product.value)\n",
    "        data['exchange'].append(contract.exchange.value)\n",
    "        data['size'].append(contract.size)\n",
    "        data['pricetick'].append(contract.pricetick)\n",
    "    df = pd.DataFrame(data)\n",
    "    return df\n",
    "\n",
    "def get_mean_price(commodity):\n",
    "    df = pd.read_csv('future_mean_price.csv', index_col=0, header=None, names=['mean_close'])\n",
    "    d = dict(df['mean_close'])\n",
    "    return d.get(commodity.upper(), None)\n",
    "\n",
    "with open('contracts.data', 'rb') as f:\n",
    "    data = pickle.load(f)\n",
    "    \n",
    "    \n",
    "df = vt_contract_to_df(data)\n",
    "df['commodity'] = df['vt_symbol'].map(strip_digt)\n",
    "df['product'] = df['product'].map({'期货': 'future'})\n",
    "df = df[df['product'] == 'future'].copy()\n",
    "df.drop_duplicates(subset='commodity', inplace=True)\n",
    "\n",
    "df['mean_close'] = df['commodity'].map(get_mean_price)\n",
    "df['backtest_capital'] = np.floor(df['mean_close'] * df['size'] / 1000) * 1000\n",
    "\n",
    "export_items = ['commodity', 'product', 'exchange', 'size', 'pricetick', 'mean_close', 'backtest_capital']\n",
    "df.to_csv('future_basic_data.csv', index=False, columns=export_items)"
   ]
  },
  {
   "cell_type": "code",
   "execution_count": null,
   "metadata": {},
   "outputs": [],
   "source": [
    "future_basic_data = pd.read_csv('future_basic_data.csv', index_col=0)"
   ]
  }
 ],
 "metadata": {
  "kernelspec": {
   "display_name": "Python 3",
   "language": "python",
   "name": "python3"
  },
  "language_info": {
   "codemirror_mode": {
    "name": "ipython",
    "version": 3
   },
   "file_extension": ".py",
   "mimetype": "text/x-python",
   "name": "python",
   "nbconvert_exporter": "python",
   "pygments_lexer": "ipython3",
   "version": "3.7.1"
  },
  "varInspector": {
   "cols": {
    "lenName": 16,
    "lenType": 16,
    "lenVar": 40
   },
   "kernels_config": {
    "python": {
     "delete_cmd_postfix": "",
     "delete_cmd_prefix": "del ",
     "library": "var_list.py",
     "varRefreshCmd": "print(var_dic_list())"
    },
    "r": {
     "delete_cmd_postfix": ") ",
     "delete_cmd_prefix": "rm(",
     "library": "var_list.r",
     "varRefreshCmd": "cat(var_dic_list()) "
    }
   },
   "types_to_exclude": [
    "module",
    "function",
    "builtin_function_or_method",
    "instance",
    "_Feature"
   ],
   "window_display": false
  }
 },
 "nbformat": 4,
 "nbformat_minor": 2
}
