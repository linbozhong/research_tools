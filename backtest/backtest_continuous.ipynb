{
 "cells": [
  {
   "cell_type": "code",
   "execution_count": null,
   "metadata": {},
   "outputs": [],
   "source": [
    "# 在本机未更新至2.0.8的情况下，使用vnpy2.0.8的回测逻辑\n",
    "import sys\n",
    "from pathlib import Path\n",
    "new_version_path = Path(r'D:\\vnpy-2.0.8')\n",
    "# new_version_path = Path(r'E:\\vnpy\\vnpy-2.0.8')\n",
    "sys.path.insert(0, str(new_version_path))\n",
    "# sys.path\n",
    "\n",
    "import vnpy\n",
    "print(vnpy.__version__)"
   ]
  },
  {
   "cell_type": "code",
   "execution_count": null,
   "metadata": {},
   "outputs": [],
   "source": [
    "import matplotlib.pyplot as plt\n",
    "import pandas as pd\n",
    "plt.style.use('ggplot')\n",
    "\n",
    "from datetime import datetime\n",
    "from vnpy.app.cta_strategy.backtesting import BacktestingEngine, OptimizationSetting\n",
    "from boll_channel_strategy import BollChannelStrategy\n",
    "from utility import (vt_trade_to_df, load_data)"
   ]
  },
  {
   "cell_type": "markdown",
   "metadata": {},
   "source": [
    "### 设置回测参数和策略"
   ]
  },
  {
   "cell_type": "code",
   "execution_count": null,
   "metadata": {},
   "outputs": [],
   "source": [
    "test_symbol = 'RB888.SHFE'\n",
    "test_interval = '1h'\n",
    "test_start = datetime(2018, 1, 1)\n",
    "test_end = datetime(2019, 12, 1)\n",
    "\n",
    "engine = BacktestingEngine()\n",
    "engine.set_parameters(\n",
    "    vt_symbol=test_symbol,\n",
    "    interval=test_interval,\n",
    "    start=test_start,\n",
    "    end=test_end,\n",
    "    rate=0,\n",
    "    slippage=0,\n",
    "    size=10,\n",
    "    pricetick=1,\n",
    "    capital=100000,\n",
    ")\n",
    "engine.add_strategy(BollChannelStrategy, {})"
   ]
  },
  {
   "cell_type": "markdown",
   "metadata": {},
   "source": [
    "### 运行回测输出统计结果"
   ]
  },
  {
   "cell_type": "code",
   "execution_count": null,
   "metadata": {},
   "outputs": [],
   "source": [
    "# 运行回测\n",
    "engine.load_data()\n",
    "engine.run_backtesting()\n",
    "\n",
    "# 保存成交记录\n",
    "trades = engine.get_all_trades()\n",
    "trade_df = vt_trade_to_df(trades)\n",
    "trade_df.to_csv(f'{engine.vt_symbol}_trade_continuous.csv')\n",
    "\n",
    "# 统计成交结果并保存\n",
    "pnl_df = engine.calculate_result()\n",
    "pnl_df.to_csv(f'{engine.vt_symbol}_pnl_continuous.csv')\n",
    "engine.calculate_statistics()"
   ]
  },
  {
   "cell_type": "markdown",
   "metadata": {},
   "source": [
    "### 绘制回测结果"
   ]
  },
  {
   "cell_type": "code",
   "execution_count": null,
   "metadata": {},
   "outputs": [],
   "source": [
    "stats_df = engine.daily_df\n",
    "\n",
    "%matplotlib notebook\n",
    "plt.figure(figsize=(10, 16))\n",
    "\n",
    "\n",
    "balance_plot = plt.subplot(4, 1, 1)\n",
    "balance_plot.set_title(\"Balance\")\n",
    "balance_plot.plot(stats_df[\"balance\"].index, stats_df[\"balance\"].values)\n",
    "\n",
    "drawdown_plot = plt.subplot(4, 1, 2)\n",
    "drawdown_plot.set_title(\"DrawdownPercent\")\n",
    "drawdown_plot.fill_between(stats_df[\"ddpercent\"].index, stats_df['ddpercent'].values, facecolor='green', alpha=0.5)\n",
    "\n",
    "pnl_plot = plt.subplot(4, 1, 3)\n",
    "pnl_plot.set_title(\"Daily Pnl\")\n",
    "stats_df[\"net_pnl\"].plot(legend=False)\n",
    "\n",
    "distribution_plot = plt.subplot(4, 1, 4)\n",
    "distribution_plot.set_title(\"Daily Pnl Distribution\")\n",
    "stats_df[\"net_pnl\"].hist(bins=50)\n",
    "\n",
    "plt.tight_layout() "
   ]
  },
  {
   "cell_type": "markdown",
   "metadata": {},
   "source": [
    "### 绘制成交点"
   ]
  },
  {
   "cell_type": "code",
   "execution_count": null,
   "metadata": {},
   "outputs": [],
   "source": [
    "long_df = trade_df[trade_df.direction == '多']\n",
    "short_df = trade_df[trade_df.direction == '空']\n",
    "\n",
    "# 计算成交点x,y序列\n",
    "price = load_data(test_symbol, test_interval, test_start, test_end)\n",
    "price['id'] = range(len(price))\n",
    "\n",
    "long_x = price.loc[long_df.index].id.values\n",
    "long_y = long_df.price.values\n",
    "short_x = price.loc[short_df.index].id.values\n",
    "short_y = short_df.price.values\n",
    "\n",
    "# 绘制成交点位\n",
    "%matplotlib notebook\n",
    "price2 = price.reset_index()\n",
    "axe = price2.close.plot(figsize=(12, 6), color='#a8a8a8', zorder=10)\n",
    "axe.scatter(long_x, long_y, color='r', marker=6, zorder=20)\n",
    "axe.scatter(short_x, short_y, color='g', marker=7, zorder=30)\n",
    "# plt.show()"
   ]
  }
 ],
 "metadata": {
  "kernelspec": {
   "display_name": "Python 3",
   "language": "python",
   "name": "python3"
  },
  "language_info": {
   "codemirror_mode": {
    "name": "ipython",
    "version": 3
   },
   "file_extension": ".py",
   "mimetype": "text/x-python",
   "name": "python",
   "nbconvert_exporter": "python",
   "pygments_lexer": "ipython3",
   "version": "3.7.1"
  },
  "varInspector": {
   "cols": {
    "lenName": 16,
    "lenType": 16,
    "lenVar": 40
   },
   "kernels_config": {
    "python": {
     "delete_cmd_postfix": "",
     "delete_cmd_prefix": "del ",
     "library": "var_list.py",
     "varRefreshCmd": "print(var_dic_list())"
    },
    "r": {
     "delete_cmd_postfix": ") ",
     "delete_cmd_prefix": "rm(",
     "library": "var_list.r",
     "varRefreshCmd": "cat(var_dic_list()) "
    }
   },
   "types_to_exclude": [
    "module",
    "function",
    "builtin_function_or_method",
    "instance",
    "_Feature"
   ],
   "window_display": false
  }
 },
 "nbformat": 4,
 "nbformat_minor": 2
}
