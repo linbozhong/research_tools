{
 "cells": [
  {
   "cell_type": "code",
   "execution_count": null,
   "metadata": {},
   "outputs": [],
   "source": [
    "# 在本机未更新至2.0.8的情况下，使用vnpy2.0.8的回测逻辑\n",
    "import sys\n",
    "import os\n",
    "from pathlib import Path\n",
    "\n",
    "# 如果出现未能成功切换到指定目录的情况，请检查设置的目录是否存在或准确\n",
    "new_version_path = Path(os.getenv('VNPY2.0.8'))\n",
    "sys.path.insert(0, str(new_version_path))\n",
    "print(sys.path)\n",
    "\n",
    "import vnpy\n",
    "print(vnpy.__version__)"
   ]
  },
  {
   "cell_type": "code",
   "execution_count": null,
   "metadata": {},
   "outputs": [],
   "source": [
    "import matplotlib.pyplot as plt\n",
    "import pandas as pd\n",
    "plt.style.use('ggplot')\n",
    "\n",
    "from datetime import datetime\n",
    "from vnpy.app.cta_strategy.backtesting import BacktestingEngine, OptimizationSetting\n",
    "# from boll_channel_strategy import BollChannelStrategy\n",
    "# from turtle_signal_strategy import TurtleSignalStrategy\n",
    "from utility import (\n",
    "    vt_trade_to_df,\n",
    "    load_data,\n",
    "    get_output_path,\n",
    "    trade_zh_to_en,\n",
    "    strategy_dict,\n",
    "    comodity_to_vt_symbol,\n",
    "    continuous_backtest\n",
    ")"
   ]
  },
  {
   "cell_type": "markdown",
   "metadata": {},
   "source": [
    "### 运行回测"
   ]
  },
  {
   "cell_type": "code",
   "execution_count": null,
   "metadata": {},
   "outputs": [],
   "source": [
    "commodity = 'rb'\n",
    "data_mode = 'main'\n",
    "interval = '1h'\n",
    "strategy_name = 'turtle'\n",
    "strategy_params = {}\n",
    "capital = 100000\n",
    "start = datetime(2018, 1, 1)\n",
    "end = datetime(2019, 12, 1)\n",
    "\n",
    "trade_df, pnl_df, stats_df, _ = continuous_backtest(commodity, data_mode, interval, strategy_name, strategy_params, capital, start, end)"
   ]
  },
  {
   "cell_type": "markdown",
   "metadata": {},
   "source": [
    "### 绘制回测结果"
   ]
  },
  {
   "cell_type": "code",
   "execution_count": null,
   "metadata": {},
   "outputs": [],
   "source": [
    "%matplotlib notebook\n",
    "plt.figure(figsize=(10, 16))\n",
    "\n",
    "\n",
    "balance_plot = plt.subplot(4, 1, 1)\n",
    "balance_plot.set_title(\"Balance\")\n",
    "balance_plot.plot(stats_df[\"balance\"].index, stats_df[\"balance\"].values)\n",
    "\n",
    "drawdown_plot = plt.subplot(4, 1, 2)\n",
    "drawdown_plot.set_title(\"DrawdownPercent\")\n",
    "drawdown_plot.fill_between(stats_df[\"ddpercent\"].index, stats_df['ddpercent'].values, facecolor='green', alpha=0.5)\n",
    "\n",
    "pnl_plot = plt.subplot(4, 1, 3)\n",
    "pnl_plot.set_title(\"Daily Pnl\")\n",
    "stats_df[\"net_pnl\"].plot(legend=False)\n",
    "\n",
    "distribution_plot = plt.subplot(4, 1, 4)\n",
    "distribution_plot.set_title(\"Daily Pnl Distribution\")\n",
    "stats_df[\"net_pnl\"].hist(bins=50)\n",
    "\n",
    "plt.tight_layout() "
   ]
  },
  {
   "cell_type": "markdown",
   "metadata": {},
   "source": [
    "### 绘制成交点"
   ]
  },
  {
   "cell_type": "code",
   "execution_count": null,
   "metadata": {},
   "outputs": [],
   "source": [
    "long_df = trade_df[trade_df.direction == 'long']\n",
    "short_df = trade_df[trade_df.direction == 'short']\n",
    "\n",
    "# 计算成交点x,y序列\n",
    "symbol = comodity_to_vt_symbol(commodity, 'main')\n",
    "price = load_data(symbol, interval, start, end)\n",
    "price['id'] = range(len(price))\n",
    "\n",
    "long_x = price.loc[long_df.index].id.values\n",
    "long_y = long_df.price.values\n",
    "short_x = price.loc[short_df.index].id.values\n",
    "short_y = short_df.price.values\n",
    "\n",
    "# 绘制成交点位\n",
    "%matplotlib notebook\n",
    "price2 = price.reset_index()\n",
    "axe = price2.close.plot(figsize=(12, 6), color='#a8a8a8', zorder=10)\n",
    "axe.scatter(long_x, long_y, color='r', marker=6, zorder=20)\n",
    "axe.scatter(short_x, short_y, color='g', marker=7, zorder=30)\n",
    "# plt.show()"
   ]
  },
  {
   "cell_type": "code",
   "execution_count": null,
   "metadata": {},
   "outputs": [],
   "source": []
  }
 ],
 "metadata": {
  "kernelspec": {
   "display_name": "Python 3",
   "language": "python",
   "name": "python3"
  },
  "language_info": {
   "codemirror_mode": {
    "name": "ipython",
    "version": 3
   },
   "file_extension": ".py",
   "mimetype": "text/x-python",
   "name": "python",
   "nbconvert_exporter": "python",
   "pygments_lexer": "ipython3",
   "version": "3.7.1"
  },
  "varInspector": {
   "cols": {
    "lenName": 16,
    "lenType": 16,
    "lenVar": 40
   },
   "kernels_config": {
    "python": {
     "delete_cmd_postfix": "",
     "delete_cmd_prefix": "del ",
     "library": "var_list.py",
     "varRefreshCmd": "print(var_dic_list())"
    },
    "r": {
     "delete_cmd_postfix": ") ",
     "delete_cmd_prefix": "rm(",
     "library": "var_list.r",
     "varRefreshCmd": "cat(var_dic_list()) "
    }
   },
   "types_to_exclude": [
    "module",
    "function",
    "builtin_function_or_method",
    "instance",
    "_Feature"
   ],
   "window_display": false
  }
 },
 "nbformat": 4,
 "nbformat_minor": 2
}
