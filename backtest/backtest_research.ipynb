{
 "cells": [
  {
   "cell_type": "code",
   "execution_count": 1,
   "metadata": {},
   "outputs": [
    {
     "name": "stdout",
     "output_type": "stream",
     "text": [
      "2.0.8\n"
     ]
    }
   ],
   "source": [
    "# 在本机未更新至2.0.8的情况下，使用vnpy2.0.8的回测逻辑\n",
    "import sys\n",
    "from pathlib import Path\n",
    "# new_version_path = Path(r'D:\\vnpy-2.0.8')\n",
    "new_version_path = Path(r'E:\\vnpy\\vnpy-2.0.8')\n",
    "sys.path.insert(0, str(new_version_path))\n",
    "# sys.path\n",
    "\n",
    "import vnpy\n",
    "print(vnpy.__version__)"
   ]
  },
  {
   "cell_type": "code",
   "execution_count": 2,
   "metadata": {},
   "outputs": [],
   "source": [
    "import pandas as pd\n",
    "from datetime import datetime\n",
    "from vnpy.app.cta_strategy.backtesting import BacktestingEngine\n",
    "from vnpy.trader.constant import Offset\n",
    "\n",
    "from utility import comodity_to_vt_symbol, get_output_path\n",
    "from backtesting import ResearchBacktestingEngine\n",
    "from trade_match import calculate_trades_result, generate_trade_df, exhaust_trade_result\n",
    "from turtle_b_strategy import TurtleBStrategy\n",
    "\n",
    "future_basic_data = pd.read_csv('future_basic_data.csv', index_col=0)"
   ]
  },
  {
   "cell_type": "code",
   "execution_count": 3,
   "metadata": {},
   "outputs": [],
   "source": [
    "commodity = 'RM'\n",
    "data_mode = 'main'\n",
    "interval = '1h'\n",
    "strategy_name = 'turtle'\n",
    "strategy_params = {}\n",
    "capital = 100000\n",
    "rate = 0\n",
    "start = datetime(2015, 1, 1)\n",
    "end = datetime(2019, 12, 1)\n",
    "\n",
    "vt_symbol = comodity_to_vt_symbol(commodity, 'main')\n",
    "size = future_basic_data.loc[commodity]['size']\n",
    "pricetick = future_basic_data.loc[commodity]['pricetick']\n",
    "\n",
    "engine = ResearchBacktestingEngine()\n",
    "engine.set_parameters(\n",
    "    vt_symbol=vt_symbol,\n",
    "    interval=interval,\n",
    "    start=start,\n",
    "    end=end,\n",
    "    rate=rate,\n",
    "    slippage=pricetick,\n",
    "    size=size,\n",
    "    pricetick=pricetick,\n",
    "    capital=capital\n",
    ")\n",
    "engine.add_strategy(TurtleBStrategy, strategy_params)\n",
    "\n",
    "# run backtest\n",
    "engine.load_data()\n",
    "engine.run_backtesting()\n",
    "\n",
    "trades = engine.get_all_trades()\n",
    "last_trade = trades[-1]\n",
    "if last_trade.offset == Offset.OPEN:\n",
    "    engine.trades.pop(last_trade.vt_tradeid)\n",
    "    \n",
    "pnl_df = engine.calculate_result()\n",
    "# pnl_df.to_csv(get_output_path('pnl_day_by_day.csv'))\n",
    "day_res = engine.calculate_statistics()\n",
    "\n",
    "trades = engine.trades\n",
    "trade_res = exhaust_trade_result(trades, size, rate, pricetick, capital, show_long_short_condition=False)\n",
    "\n",
    "d = {\n",
    "    'day_end_balance': day_res['end_balance'],\n",
    "    'trade_end_balance': trade_res['end_balance'],\n",
    "    'day_max_drawdown': day_res['max_drawdown'],\n",
    "    'trade_max_drawdown': trade_res['max_drawdown'],\n",
    "    'day_max_ddpercent': day_res['max_ddpercent'],\n",
    "    'trade_max_ddpercent': trade_res['max_ddpercent'],\n",
    "    'total_return': day_res['total_return'],\n",
    "    'annual_return': day_res['annual_return'],\n",
    "    'sharpe_ratio': day_res['sharpe_ratio'],\n",
    "    'return_drawdown_ratio': day_res['return_drawdown_ratio'],\n",
    "    'winning_rate': trade_res['winning_rate'],\n",
    "    'win_loss_pnl_ratio': trade_res['win_loss_pnl_ratio']\n",
    "}"
   ]
  },
  {
   "cell_type": "code",
   "execution_count": 4,
   "metadata": {},
   "outputs": [
    {
     "data": {
      "text/plain": [
       "{'day_end_balance': 93950.0,\n",
       " 'trade_end_balance': 93950.0,\n",
       " 'day_max_drawdown': -14450.0,\n",
       " 'trade_max_drawdown': -13750.0,\n",
       " 'day_max_ddpercent': -14.145863925599608,\n",
       " 'trade_max_ddpercent': -13.553474618038441,\n",
       " 'total_return': -6.05,\n",
       " 'annual_return': -1.233644859813084,\n",
       " 'sharpe_ratio': -0.3167137739944342,\n",
       " 'return_drawdown_ratio': -0.4276868512110727,\n",
       " 'winning_rate': 0.2857142857142857,\n",
       " 'win_loss_pnl_ratio': 2.11151073005267}"
      ]
     },
     "execution_count": 4,
     "metadata": {},
     "output_type": "execute_result"
    }
   ],
   "source": [
    "d"
   ]
  },
  {
   "cell_type": "code",
   "execution_count": null,
   "metadata": {},
   "outputs": [],
   "source": [
    "# save trade\n",
    "trades = engine.trades\n",
    "\n",
    "df = calculate_trades_result(trades)\n",
    "df\n",
    "# df.head()"
   ]
  },
  {
   "cell_type": "code",
   "execution_count": null,
   "metadata": {},
   "outputs": [],
   "source": [
    "df2 = generate_trade_df(trades, size, 0.0001, pricetick, capital)\n",
    "df2"
   ]
  },
  {
   "cell_type": "code",
   "execution_count": null,
   "metadata": {
    "scrolled": false
   },
   "outputs": [],
   "source": []
  },
  {
   "cell_type": "code",
   "execution_count": null,
   "metadata": {},
   "outputs": [],
   "source": []
  }
 ],
 "metadata": {
  "kernelspec": {
   "display_name": "Python 3",
   "language": "python",
   "name": "python3"
  },
  "language_info": {
   "codemirror_mode": {
    "name": "ipython",
    "version": 3
   },
   "file_extension": ".py",
   "mimetype": "text/x-python",
   "name": "python",
   "nbconvert_exporter": "python",
   "pygments_lexer": "ipython3",
   "version": "3.7.1"
  }
 },
 "nbformat": 4,
 "nbformat_minor": 2
}
