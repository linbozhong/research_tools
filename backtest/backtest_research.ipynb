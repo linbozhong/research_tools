{
 "cells": [
  {
   "cell_type": "code",
   "execution_count": null,
   "metadata": {},
   "outputs": [],
   "source": [
    "# 在本机未更新至2.0.8的情况下，使用vnpy2.0.8的回测逻辑\n",
    "import sys\n",
    "from pathlib import Path\n",
    "# new_version_path = Path(r'D:\\vnpy-2.0.8')\n",
    "new_version_path = Path(r'E:\\vnpy\\vnpy-2.0.8')\n",
    "sys.path.insert(0, str(new_version_path))\n",
    "# sys.path\n",
    "\n",
    "import vnpy\n",
    "print(vnpy.__version__)"
   ]
  },
  {
   "cell_type": "code",
   "execution_count": null,
   "metadata": {},
   "outputs": [],
   "source": [
    "import pandas as pd\n",
    "from datetime import datetime\n",
    "from vnpy.app.cta_strategy.backtesting import BacktestingEngine\n",
    "from vnpy.trader.constant import Offset\n",
    "\n",
    "from utility import comodity_to_vt_symbol, get_output_path, vt_trade_to_df, trade_zh_to_en\n",
    "from backtesting import ResearchBacktestingEngine\n",
    "from trade_match import calculate_trades_result, generate_trade_df, exhaust_trade_result\n",
    "from turtle_b_strategy import TurtleBStrategy\n",
    "\n",
    "future_basic_data = pd.read_csv('future_basic_data.csv', index_col=0)\n",
    "future_hot_start = pd.read_csv('future_hot_start.csv', index_col=0,  header=None, names=['hot_start'])\n",
    "\n",
    "def get_hot_start(commodity: str) -> datetime:\n",
    "    start = future_hot_start.loc[commodity.upper()]['hot_start']\n",
    "    start = datetime.strptime(start, '%Y-%m-%d')\n",
    "    if not pd.isna(start):\n",
    "        return start\n",
    "\n",
    "def run_research_backtest(commodity: str, start: datetime, end: datetime, trade_output=False) -> dict:\n",
    "    interval = '1h'\n",
    "    strategy_name = 'turtle'\n",
    "    strategy_params = {}\n",
    "    rate = 0\n",
    "\n",
    "    vt_symbol = comodity_to_vt_symbol(commodity, 'main')\n",
    "    size = future_basic_data.loc[commodity]['size']\n",
    "    pricetick = future_basic_data.loc[commodity]['pricetick']\n",
    "    capital = future_basic_data.loc[commodity]['backtest_capital']\n",
    "    \n",
    "    engine = ResearchBacktestingEngine()\n",
    "    engine.set_parameters(\n",
    "        vt_symbol=vt_symbol,\n",
    "        interval=interval,\n",
    "        start=start,\n",
    "        end=end,\n",
    "        rate=rate,\n",
    "        slippage=pricetick,\n",
    "        size=size,\n",
    "        pricetick=pricetick,\n",
    "        capital=capital\n",
    "    )\n",
    "    engine.add_strategy(TurtleBStrategy, strategy_params)\n",
    "\n",
    "    # run backtest\n",
    "    engine.load_data()\n",
    "    engine.run_backtesting()\n",
    "\n",
    "    trades = engine.get_all_trades()\n",
    "    last_trade = trades[-1]\n",
    "    if last_trade.offset == Offset.OPEN:\n",
    "        engine.trades.pop(last_trade.vt_tradeid)\n",
    "        \n",
    "    if trade_output:\n",
    "        fn = f'{commodity}-trades.csv'\n",
    "        trade_df = vt_trade_to_df(engine.get_all_trades())\n",
    "        trade_df = trade_zh_to_en(trade_df)\n",
    "        trade_df.to_csv(get_output_path(fn))\n",
    "\n",
    "    pnl_df = engine.calculate_result()\n",
    "    day_res = engine.calculate_statistics()\n",
    "\n",
    "    trades = engine.trades\n",
    "    trade_res = exhaust_trade_result(trades, size, rate, pricetick, capital, show_long_short_condition=False)\n",
    "\n",
    "    d = {\n",
    "        'commodity': commodity,\n",
    "        'start_date': day_res['start_date'],\n",
    "        'end_date': day_res['end_date'],\n",
    "        'capital': day_res['capital'],\n",
    "        'day_end_balance': day_res['end_balance'],\n",
    "        'trade_end_balance': trade_res['end_balance'],\n",
    "        'day_max_drawdown': day_res['max_drawdown'],\n",
    "        'trade_max_drawdown': trade_res['max_drawdown'],\n",
    "        'day_max_ddpercent': day_res['max_ddpercent'],\n",
    "        'trade_max_ddpercent': trade_res['max_ddpercent'],\n",
    "        'net_pnl': day_res['total_net_pnl'],\n",
    "        'total_return': day_res['total_return'],\n",
    "        'annual_return': day_res['annual_return'],\n",
    "        'sharpe_ratio': day_res['sharpe_ratio'],\n",
    "        'return_drawdown_ratio': day_res['return_drawdown_ratio'],\n",
    "        'trade_count': trade_res['trade_count'],\n",
    "        'winning_rate': trade_res['winning_rate'],\n",
    "        'win_loss_pnl_ratio': trade_res['win_loss_pnl_ratio']\n",
    "    }\n",
    "    \n",
    "    print(f\"{commodity}-回测完成\")\n",
    "    return d"
   ]
  },
  {
   "cell_type": "markdown",
   "metadata": {},
   "source": [
    "#### 多品种回测测试"
   ]
  },
  {
   "cell_type": "code",
   "execution_count": null,
   "metadata": {},
   "outputs": [],
   "source": [
    "# commodities = [\n",
    "#     \"cu\", \"al\", \"zn\"\n",
    "# ]\n",
    "\n",
    "commodities = [\n",
    "    \"cu\", \"al\", \"zn\", \"pb\", \"ni\", \"sn\", \"au\", \"ag\", \"rb\", \"hc\", \"bu\", \"ru\", \"sp\",\n",
    "    \"m\", \"y\", \"a\", \"b\", \"p\", \"c\", \"cs\", \"jd\", \"l\", \"v\", \"pp\", \"j\", \"jm\", \"i\",\n",
    "    \"SR\", \"CF\", \"ZC\", \"FG\", \"TA\", \"MA\", \"OI\", \"RM\", \"SF\", \"SM\"\n",
    "]\n",
    "\n",
    "res_list = []\n",
    "columns = []\n",
    "for commodity in commodities:\n",
    "    start = get_hot_start(commodity)\n",
    "    end = datetime(2019, 12, 1)\n",
    "    \n",
    "    res = run_research_backtest(commodity, start, end)\n",
    "    res_list.append(res)\n",
    "    columns = list(res.keys())\n",
    "\n",
    "\n",
    "df = pd.DataFrame(res_list, columns=columns)\n",
    "# df.set_index('commodity', inplace=True)\n",
    "df.to_csv(get_output_path('research_backtest_result.csv'), index=False)\n",
    "df"
   ]
  },
  {
   "cell_type": "markdown",
   "metadata": {},
   "source": [
    "#### 单品种回测测试"
   ]
  },
  {
   "cell_type": "code",
   "execution_count": null,
   "metadata": {},
   "outputs": [],
   "source": [
    "commodity = 'FG'\n",
    "start = get_hot_start(commodity)\n",
    "end = datetime(2019, 12, 1)\n",
    "\n",
    "res_dict = run_research_backtest(commodity, start, end, trade_output=True)\n",
    "res_dict"
   ]
  },
  {
   "cell_type": "markdown",
   "metadata": {},
   "source": [
    "#### 分析成交记录"
   ]
  },
  {
   "cell_type": "code",
   "execution_count": null,
   "metadata": {
    "scrolled": false
   },
   "outputs": [],
   "source": [
    "filename = 'FG-trades.csv'\n",
    "trades = pd.read_csv(get_output_path(filename))\n",
    "for idx, trade in trades.iterrows():\n",
    "    print(f\"{trade.vt_symbol} \\t {trade.datetime} \\t {trade.direction} \\t {trade.price}\")\n",
    "    if trade.offset == \"open\":\n",
    "        entry = trade.price\n",
    "        volume = 1 if trade.direction == \"long\" else -1\n",
    "    \n",
    "    if trade.offset == \"close\":\n",
    "        pnl = (trade.price - entry) * volume\n",
    "        print(f\"Trade Pnl: {pnl}\")\n",
    "        print(\"=\" * 60)\n",
    "        print(\"\\n\")"
   ]
  },
  {
   "cell_type": "code",
   "execution_count": null,
   "metadata": {},
   "outputs": [],
   "source": []
  }
 ],
 "metadata": {
  "kernelspec": {
   "display_name": "Python 3",
   "language": "python",
   "name": "python3"
  },
  "language_info": {
   "codemirror_mode": {
    "name": "ipython",
    "version": 3
   },
   "file_extension": ".py",
   "mimetype": "text/x-python",
   "name": "python",
   "nbconvert_exporter": "python",
   "pygments_lexer": "ipython3",
   "version": "3.7.1"
  }
 },
 "nbformat": 4,
 "nbformat_minor": 2
}
