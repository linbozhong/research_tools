{
 "cells": [
  {
   "cell_type": "code",
   "execution_count": null,
   "metadata": {},
   "outputs": [],
   "source": [
    "# 在本机未更新至2.0.8的情况下，使用vnpy2.0.8的回测逻辑\n",
    "import sys\n",
    "import os\n",
    "from pathlib import Path\n",
    "new_version_path = Path(os.getenv('VNPY2.0.8'))\n",
    "sys.path.insert(0, str(new_version_path))\n",
    "\n",
    "import matplotlib.pyplot as plt\n",
    "import pandas as pd\n",
    "plt.style.use('ggplot')\n",
    "\n",
    "from datetime import datetime\n",
    "from research_backtest import get_hot_start, run_research_backtest, batch_run, analyze_multi_bt, str_to_params, params_to_str\n",
    "from utility import get_output_folder, get_output_path"
   ]
  },
  {
   "cell_type": "markdown",
   "metadata": {},
   "source": [
    "#### 单品种回测及成交记录分析"
   ]
  },
  {
   "cell_type": "code",
   "execution_count": null,
   "metadata": {
    "scrolled": false
   },
   "outputs": [],
   "source": [
    "commodity = 'rb'\n",
    "strategy_name = 'entry_50_following_stop'\n",
    "start = get_hot_start(commodity)\n",
    "end = datetime(2019, 12, 1)\n",
    "params_dict = {\n",
    "    'entry_window': 50,\n",
    "#     'exit_window': 20,\n",
    "    'sl_multiplier': 3\n",
    "}\n",
    "\n",
    "res_dict = run_research_backtest(commodity, start, end, strategy_name, params_dict, trade_output=True, curve_output=True)\n",
    "res_dict\n",
    "\n",
    "params_str = params_to_str(params_dict)\n",
    "filename = f'{strategy_name}.{commodity}.{params_str}.default.trades.csv'\n",
    "trades = pd.read_csv(get_output_path(filename, 'trades'))\n",
    "cum_pnl = 0\n",
    "for idx, trade in trades.iterrows():\n",
    "    print(f\"{trade.vt_symbol} \\t {trade.datetime} \\t {trade.direction} \\t {trade.price}\")\n",
    "    if trade.offset == \"open\":\n",
    "        entry = trade.price\n",
    "        volume = 1 if trade.direction == \"long\" else -1\n",
    "    \n",
    "    if trade.offset == \"close\":\n",
    "        pnl = (trade.price - entry) * volume\n",
    "        cum_pnl += pnl\n",
    "        print(f\"Trade Pnl: {pnl} \\t Cum Pnl: {cum_pnl}\")\n",
    "        print(\"=\" * 60)\n",
    "        print(\"\\n\")"
   ]
  },
  {
   "cell_type": "markdown",
   "metadata": {},
   "source": [
    "### 统计多品种回测结果"
   ]
  },
  {
   "cell_type": "code",
   "execution_count": null,
   "metadata": {},
   "outputs": [],
   "source": [
    "note = 'entry_80_exit_ma_stop_atr'\n",
    "params_sep_str = '.'\n",
    "\n",
    "folder = get_output_folder('multi_backtest', note)\n",
    "files = list(folder.glob(f'*.csv'))\n",
    "\n",
    "res_list = []\n",
    "columns = []\n",
    "for file in files:\n",
    "    res = analyze_multi_bt(file.name, note)\n",
    "    res_list.append(res)\n",
    "    columns = list(res.keys())\n",
    "\n",
    "df = pd.DataFrame(res_list, columns=columns)\n",
    "df['note'] = df['test_name'].map(lambda x: x.split('@')[-1])\n",
    "\n",
    "# 添加参数列，用于筛选\n",
    "df = df[df['note'] == note]\n",
    "\n",
    "params_dict_list = [str_to_params(name.split('@')[1], sep=params_sep_str) for name in df['test_name']]\n",
    "params_df = pd.DataFrame(params_dict_list, index=df.index)\n",
    "df = pd.concat([df, params_df], axis=1)\n",
    "\n",
    "df\n",
    "\n",
    "# show_items = ['annual_mean', 'all_invest', 'sharpe_mean', 'max_dd', 'win_mean', 'win_to_loss']\n",
    "# pivoted = df.pivot('exit_window', 'stop_multiple', show_items)\n",
    "# pivoted = df.pivot('entry_window', 'exit_window', show_items)\n",
    "\n",
    "df\n",
    "# pivoted['sharpe_mean']\n",
    "# sel = df[df['stop_multiple']==7]\n",
    "# sel.sort_values(by='exit_window')"
   ]
  },
  {
   "cell_type": "markdown",
   "metadata": {},
   "source": [
    "#### 双变量概览"
   ]
  },
  {
   "cell_type": "code",
   "execution_count": null,
   "metadata": {
    "scrolled": false
   },
   "outputs": [],
   "source": [
    "# 展示热力图\n",
    "%matplotlib notebook\n",
    "plt.rcParams.update({'font.size': 8})\n",
    "import seaborn as sns\n",
    "\n",
    "show_items = ['annual_mean', 'all_invest', 'sharpe_mean', 'max_dd', 'win_mean', 'win_to_loss']\n",
    "\n",
    "plt.figure(figsize=(10, 12))\n",
    "\n",
    "annual_plot = plt.subplot(3, 2, 1)\n",
    "annual_plot.set_title(\"Annual Return Mean\")\n",
    "sns.heatmap(pivoted['annual_mean'], fmt='d', linewidths=.5, cmap='YlGnBu')\n",
    "\n",
    "invest_plot = plt.subplot(3, 2, 2)\n",
    "invest_plot.set_title('Invest count')\n",
    "sns.heatmap(pivoted['all_invest'], fmt='d', linewidths=.5, cmap='YlGnBu')\n",
    "\n",
    "sharpe = plt.subplot(3, 2, 3)\n",
    "sharpe.set_title('Sharpe Ratio Mean')\n",
    "sns.heatmap(pivoted['sharpe_mean'], fmt='d', linewidths=.5, cmap='YlGnBu')\n",
    "\n",
    "drawdown_plot = plt.subplot(3, 2, 4)\n",
    "drawdown_plot.set_title('Max drawdown percent Mean')\n",
    "sns.heatmap(pivoted['max_dd'], fmt='d', linewidths=.5, cmap='YlGnBu')\n",
    "\n",
    "win_plot = plt.subplot(3, 2, 5)\n",
    "win_plot.set_title('Winning rate Mean')\n",
    "sns.heatmap(pivoted['win_mean'], fmt='d', linewidths=.5, cmap='YlGnBu')\n",
    "\n",
    "win_to_loss_plot = plt.subplot(3, 2, 6)\n",
    "win_to_loss_plot.set_title('Win to loss mean ')\n",
    "sns.heatmap(pivoted['win_to_loss'], fmt='d', linewidths=.5, cmap='YlGnBu')\n",
    "\n",
    "plt.tight_layout(pad=4) "
   ]
  },
  {
   "cell_type": "markdown",
   "metadata": {},
   "source": [
    "#### 单变量分析"
   ]
  },
  {
   "cell_type": "code",
   "execution_count": null,
   "metadata": {},
   "outputs": [],
   "source": [
    "df_single = df.copy()\n",
    "\n",
    "fixed_var = 'entry_window'\n",
    "fixed_var_value = 80\n",
    "# analyze_var = 'sl_multiplier'\n",
    "analyze_var = 'stop_multiple'\n",
    "\n",
    "\n",
    "df_single = df_single[df_single[fixed_var] == fixed_var_value]\n",
    "# df_single = df_single[df_single[analyze_var] >= 3]\n",
    "df_single.set_index(analyze_var, inplace=True)\n",
    "\n",
    "\n",
    "# df_single = df_single[df_single['stop_multiple'] == 4]\n",
    "# df_single.set_index('exit_window', inplace=True)\n",
    "\n",
    "# df_single.set_index('stop_multiple', inplace=True)\n",
    "df_single.sort_index(inplace=True)\n",
    "# df_single"
   ]
  },
  {
   "cell_type": "code",
   "execution_count": null,
   "metadata": {
    "scrolled": false
   },
   "outputs": [],
   "source": [
    "%matplotlib notebook\n",
    "plt.rcParams.update({'font.size': 8})\n",
    "fig = plt.figure(figsize=(8, 12))\n",
    "fig.suptitle(f'{fixed_var}:{fixed_var_value}', fontsize=16, y=1)\n",
    "\n",
    "annual_plot = plt.subplot(4, 2, 1)\n",
    "annual_plot.set_title(\"Annual Return Mean\")\n",
    "df_single['sharpe_mean'].plot()\n",
    "\n",
    "invest_plot = plt.subplot(4, 2, 2)\n",
    "invest_plot.set_title('Invest count')\n",
    "df_single['all_invest'].plot()\n",
    "\n",
    "sharpe = plt.subplot(4, 2, 3)\n",
    "sharpe.set_title('Sharpe Ratio Mean')\n",
    "df_single['sharpe_mean'].plot()\n",
    "\n",
    "drawdown_plot = plt.subplot(4, 2, 4)\n",
    "drawdown_plot.set_title('Max drawdown percent Mean')\n",
    "df_single['max_dd'].plot()\n",
    "\n",
    "win_plot = plt.subplot(4, 2, 5)\n",
    "win_plot.set_title('Winning rate Mean')\n",
    "df_single['win_mean'].plot()\n",
    "\n",
    "win_to_loss_plot = plt.subplot(4, 2, 6)\n",
    "win_to_loss_plot.set_title('Win to loss mean')\n",
    "df_single['win_to_loss'].plot()\n",
    "\n",
    "cost_ratio_plot = plt.subplot(4, 2, 7)\n",
    "cost_ratio_plot.set_title('Cost raito')\n",
    "df_single['cost_ratio'].plot()\n",
    "\n",
    "pos_duration_plot = plt.subplot(4, 2, 8)\n",
    "pos_duration_plot.set_title('Position Duration (days)')\n",
    "df_single['pos_duration'] /= 24\n",
    "df_single['pos_duration'].plot()\n",
    "\n",
    "plt.tight_layout(pad=3)\n"
   ]
  },
  {
   "cell_type": "code",
   "execution_count": null,
   "metadata": {},
   "outputs": [],
   "source": []
  }
 ],
 "metadata": {
  "kernelspec": {
   "display_name": "Python 3",
   "language": "python",
   "name": "python3"
  },
  "language_info": {
   "codemirror_mode": {
    "name": "ipython",
    "version": 3
   },
   "file_extension": ".py",
   "mimetype": "text/x-python",
   "name": "python",
   "nbconvert_exporter": "python",
   "pygments_lexer": "ipython3",
   "version": "3.7.1"
  }
 },
 "nbformat": 4,
 "nbformat_minor": 2
}
