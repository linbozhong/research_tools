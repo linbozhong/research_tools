{
 "cells": [
  {
   "cell_type": "code",
   "execution_count": null,
   "metadata": {},
   "outputs": [],
   "source": [
    "# 在本机未更新至2.0.8的情况下，使用vnpy2.0.8的回测逻辑\n",
    "import sys\n",
    "from pathlib import Path\n",
    "# new_version_path = Path(r'D:\\vnpy-2.0.8')\n",
    "new_version_path = Path(r'E:\\vnpy\\vnpy-2.0.8')\n",
    "sys.path.insert(0, str(new_version_path))\n",
    "# sys.path\n",
    "\n",
    "import vnpy\n",
    "print(vnpy.__version__)"
   ]
  },
  {
   "cell_type": "code",
   "execution_count": null,
   "metadata": {},
   "outputs": [],
   "source": [
    "import pandas as pd\n",
    "from datetime import datetime\n",
    "from vnpy.app.cta_strategy.backtesting import BacktestingEngine\n",
    "\n",
    "from utility import comodity_to_vt_symbol, get_output_path\n",
    "from trade_match import calculate_trades_result, generate_trade_df, exhaust_trade_result\n",
    "from turtle_b_strategy import TurtleBStrategy\n",
    "\n",
    "future_basic_data = pd.read_csv('future_basic_data.csv', index_col=0)"
   ]
  },
  {
   "cell_type": "code",
   "execution_count": null,
   "metadata": {},
   "outputs": [],
   "source": [
    "commodity = 'jd'\n",
    "data_mode = 'main'\n",
    "interval = '1h'\n",
    "strategy_name = 'turtle'\n",
    "strategy_params = {}\n",
    "capital = 100000\n",
    "start = datetime(2015, 1, 1)\n",
    "end = datetime(2019, 12, 1)\n",
    "\n",
    "vt_symbol = comodity_to_vt_symbol(commodity, 'main')\n",
    "size = future_basic_data.loc[commodity]['size']\n",
    "pricetick = future_basic_data.loc[commodity]['pricetick']\n",
    "\n",
    "engine = BacktestingEngine()\n",
    "engine.set_parameters(\n",
    "    vt_symbol=vt_symbol,\n",
    "    interval=interval,\n",
    "    start=start,\n",
    "    end=end,\n",
    "    rate=0.0001,\n",
    "    slippage=pricetick,\n",
    "    size=size,\n",
    "    pricetick=pricetick,\n",
    "    capital=capital\n",
    ")\n",
    "engine.add_strategy(TurtleBStrategy, strategy_params)"
   ]
  },
  {
   "cell_type": "code",
   "execution_count": null,
   "metadata": {},
   "outputs": [],
   "source": [
    "# run backtest\n",
    "engine.load_data()\n",
    "engine.run_backtesting()\n"
   ]
  },
  {
   "cell_type": "code",
   "execution_count": null,
   "metadata": {},
   "outputs": [],
   "source": [
    "pnl_df = engine.calculate_result()\n",
    "pnl_df.to_csv(get_output_path('pnl_day_by_day.csv'))\n",
    "\n",
    "engine.calculate_statistics()"
   ]
  },
  {
   "cell_type": "code",
   "execution_count": null,
   "metadata": {},
   "outputs": [],
   "source": [
    "# save trade\n",
    "trades = engine.trades\n",
    "\n",
    "df = calculate_trades_result(trades)\n",
    "df\n",
    "# df.head()"
   ]
  },
  {
   "cell_type": "code",
   "execution_count": null,
   "metadata": {},
   "outputs": [],
   "source": [
    "df2 = generate_trade_df(trades, size, 0.0001, pricetick, capital)\n",
    "df2"
   ]
  },
  {
   "cell_type": "code",
   "execution_count": null,
   "metadata": {},
   "outputs": [],
   "source": [
    "trades = engine.trades\n",
    "exhaust_trade_result(trades, size, 0.0001, pricetick, capital)"
   ]
  },
  {
   "cell_type": "code",
   "execution_count": null,
   "metadata": {},
   "outputs": [],
   "source": []
  }
 ],
 "metadata": {
  "kernelspec": {
   "display_name": "Python 3",
   "language": "python",
   "name": "python3"
  },
  "language_info": {
   "codemirror_mode": {
    "name": "ipython",
    "version": 3
   },
   "file_extension": ".py",
   "mimetype": "text/x-python",
   "name": "python",
   "nbconvert_exporter": "python",
   "pygments_lexer": "ipython3",
   "version": "3.7.1"
  }
 },
 "nbformat": 4,
 "nbformat_minor": 2
}
