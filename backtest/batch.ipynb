{
 "cells": [
  {
   "cell_type": "code",
   "execution_count": null,
   "metadata": {},
   "outputs": [],
   "source": [
    "import sys\n",
    "import os\n",
    "from pathlib import Path\n",
    "new_version_path = Path(os.getenv('VNPY2.0.8'))\n",
    "sys.path.insert(0, str(new_version_path))\n",
    "\n",
    "import vnpy\n",
    "vnpy"
   ]
  },
  {
   "cell_type": "code",
   "execution_count": null,
   "metadata": {},
   "outputs": [],
   "source": [
    "import pandas as pd\n",
    "import multiprocessing\n",
    "\n",
    "from itertools import product\n",
    "from pathlib import Path\n",
    "from datetime import datetime\n",
    "from vnpy.app.cta_strategy.backtesting import OptimizationSetting\n",
    "from utility import continuous_backtest, segment_backtest, merge_result, get_output_path\n",
    "          \n",
    "def multi_run(gen_setting: dict, settings_list: list):    \n",
    "    pool = multiprocessing.Pool(multiprocessing.cpu_count())\n",
    "    results = []\n",
    "    for setting_kwargs in settings_list:\n",
    "        print(f\"begin{setting_kwargs}\")\n",
    "        gen_setting.update(setting_kwargs)\n",
    "        print(gen_setting)\n",
    "        result = pool.apply_async(merge_result, kwds=gen_setting)\n",
    "        results.append(result)\n",
    "    pool.close()\n",
    "    pool.join()\n",
    "    \n",
    "    result_values = [result.get() for result in results]\n",
    "#     result_values = [result for result in result_values if result]\n",
    "    return result_values\n",
    "\n",
    "def sync_run(gen_setting: dict, settings_list: list):\n",
    "    results = []\n",
    "    for setting_kwargs in settings_list:\n",
    "        gen_setting.update(setting_kwargs)\n",
    "        res = merge_result(**gen_setting)\n",
    "        if res:\n",
    "            results.append(res)\n",
    "    print(\"All finished!\")\n",
    "    return results\n",
    "    "
   ]
  },
  {
   "cell_type": "markdown",
   "metadata": {},
   "source": [
    "### 多组回测"
   ]
  },
  {
   "cell_type": "code",
   "execution_count": null,
   "metadata": {},
   "outputs": [],
   "source": [
    "commodities = [\n",
    "    \"cu\", \"al\", \"zn\", \"pb\", \"ag\", \"rb\", \"ru\", \"bu\", \"hc\", \"au\", \"ni\",\n",
    "    \"jd\", \"p\", \"j\", \"m\", \"y\", \"jm\", \"a\", \"i\", \"l\", \"pp\", \"cs\", \"c\", \"v\",\n",
    "    \"SF\", \"SM\", \"SR\", \"CF\", \"TA\", \"MA\", \"RM\", \"OI\", \"FG\", \"ZC\",\n",
    "    \"IF\", \"IH\", \"IC\",\n",
    "    'sc'\n",
    "]\n",
    "\n",
    "# commodities = [\"rb\"]\n",
    "\n",
    "boll_gen = OptimizationSetting()\n",
    "boll_gen.add_parameter(\"boll_window\", 20, 40, 10)\n",
    "boll_gen.add_parameter(\"sl_multiplier\", 2, 4, 1)\n",
    "boll_settings = boll_gen.generate_setting()\n",
    "\n",
    "turtle_gen = OptimizationSetting()\n",
    "turtle_gen.add_parameter(\"entry_window\", 25, 55, 15)\n",
    "turtle_gen.add_parameter(\"exit_window\", 10, 20, 5)\n",
    "turtle_settings = turtle_gen.generate_setting()\n",
    "\n",
    "boll_params_values = list(product(commodities, boll_settings, ['boll']))\n",
    "turtle_params_values = list(product(commodities, turtle_settings, ['turtle']))\n",
    "\n",
    "params_keys = ['commodity','strategy_params', 'strategy_name']\n",
    "boll_kwargs_list = [dict(zip(params_keys, value_tuple)) for value_tuple in boll_params_values]\n",
    "turtle_kwargs_list = [dict(zip(params_keys, value_tuple)) for value_tuple in turtle_params_values]\n",
    "all_kwargs_list = boll_kwargs_list + turtle_kwargs_list\n",
    "\n",
    "gen_settings= {\n",
    "    'interval': '1h',\n",
    "    'capital': 100000,\n",
    "    'start': datetime(2017, 1, 1),\n",
    "    'end': datetime(2019, 12, 1)\n",
    "}\n",
    "\n",
    "# res_list = multi_run(gen_settings, all_kwargs_list)\n",
    "res_list = sync_run(gen_settings, all_kwargs_list)\n",
    "df = pd.DataFrame(res_list)\n",
    "df.to_csv(get_output_path('batch_result.csv'))"
   ]
  },
  {
   "cell_type": "markdown",
   "metadata": {},
   "source": [
    "### 单例回测"
   ]
  },
  {
   "cell_type": "code",
   "execution_count": null,
   "metadata": {
    "scrolled": false
   },
   "outputs": [],
   "source": [
    "commodity = 'sc'\n",
    "data_mode = 'main'\n",
    "interval = '1h'\n",
    "strategy_name = 'turtle'\n",
    "strategy_params = {'entry_window': 25, 'exit_window': 10, 'fixed_size': 1}\n",
    "capital = 100000\n",
    "start = datetime(2017, 1, 1)\n",
    "end = datetime(2019, 12, 1)\n",
    "\n",
    "# continuous_backtest(commodity, data_mode, interval, strategy_name, strategy_params, capital, start, end)\n",
    "# segment_backtest(commodity, interval, strategy_name, strategy_params, capital, start, end)\n",
    "# print(f'{commodity}.{strategy_name}.{strategy_params} test over')\n",
    "\n",
    "single_res = merge_result(commodity, interval, strategy_name, strategy_params, capital, start, end)"
   ]
  }
 ],
 "metadata": {
  "kernelspec": {
   "display_name": "Python 3",
   "language": "python",
   "name": "python3"
  },
  "language_info": {
   "codemirror_mode": {
    "name": "ipython",
    "version": 3
   },
   "file_extension": ".py",
   "mimetype": "text/x-python",
   "name": "python",
   "nbconvert_exporter": "python",
   "pygments_lexer": "ipython3",
   "version": "3.7.1"
  },
  "varInspector": {
   "cols": {
    "lenName": 16,
    "lenType": 16,
    "lenVar": 40
   },
   "kernels_config": {
    "python": {
     "delete_cmd_postfix": "",
     "delete_cmd_prefix": "del ",
     "library": "var_list.py",
     "varRefreshCmd": "print(var_dic_list())"
    },
    "r": {
     "delete_cmd_postfix": ") ",
     "delete_cmd_prefix": "rm(",
     "library": "var_list.r",
     "varRefreshCmd": "cat(var_dic_list()) "
    }
   },
   "types_to_exclude": [
    "module",
    "function",
    "builtin_function_or_method",
    "instance",
    "_Feature"
   ],
   "window_display": false
  }
 },
 "nbformat": 4,
 "nbformat_minor": 2
}
