{
 "cells": [
  {
   "cell_type": "code",
   "execution_count": null,
   "metadata": {},
   "outputs": [],
   "source": [
    "import pandas as pd\n",
    "from itertools import product\n",
    "from pathlib import Path\n",
    "from datetime import datetime\n",
    "\n",
    "from  vnpy.app.cta_strategy.backtesting import OptimizationSetting\n",
    "from utility import (\n",
    "    continuous_backtest,\n",
    "    segment_backtest\n",
    ")\n",
    "\n",
    "commodity = 'ZC'\n",
    "data_mode = 'main'\n",
    "interval = '1h'\n",
    "strategy_name = 'turtle'\n",
    "strategy_params = {}\n",
    "capital = 100000\n",
    "start = datetime(2017, 1, 1)\n",
    "end = datetime(2019, 12, 1)\n",
    "\n",
    "commodities = [\n",
    "    \"cu\", \"al\", \"zn\", \"pb\", \"ag\", \"rb\", \"ru\", \"bu\", \"hc\",\n",
    "    \"jd\", \"p\", \"j\", \"m\", \"y\", \"jm\", \"a\", \"i\", \"l\", \"pp\", \"cs\",\n",
    "    \"SF\", \"SM\", \"SR\", \"CF\", \"TA\", \"MA\", \"RM\", \"OI\", \"FG\", \"ZC\"\n",
    "]\n",
    "\n",
    "def merge_result(\n",
    "    commodity: str,\n",
    "    interval: str,\n",
    "    strategy_name: str,\n",
    "    strategy_params: dict,\n",
    "    capital: int,\n",
    "    backtest_start: datetime,\n",
    "    backtest_end: datetime,\n",
    "    data_mode: str = 'main'\n",
    "):\n",
    "    name = f\"{commodity}.{strategy_name}\"\n",
    "    _, _, _, res_cont = continuous_backtest(commodity, data_mode, interval, strategy_name, strategy_params, capital, start, end)\n",
    "    _, _, _, res_seg = segment_backtest(commodity, interval, strategy_name, strategy_params, capital, start, end)\n",
    "    if not res_seg:\n",
    "        return\n",
    "    cont_new = {key + '_cnt': value for key, value in res_cont.items()}\n",
    "    seg_new = {key + '_seg': value for key, value in res_cont.items()}\n",
    "    cont_new.update(seg_new)\n",
    "    return cont_new\n",
    "    "
   ]
  },
  {
   "cell_type": "code",
   "execution_count": null,
   "metadata": {},
   "outputs": [],
   "source": [
    "boll_gen = OptimizationSetting()\n",
    "boll_gen.add_parameter(\"boll_window\", 20, 40, 10)\n",
    "boll_gen.add_parameter(\"sl_multiplier\", 2, 4, 1)\n",
    "boll_settings = boll_gen.generate_setting()\n",
    "\n",
    "turtle_gen = OptimizationSetting()\n",
    "turtle_gen.add_parameter(\"entry_window\", 25, 55, 15)\n",
    "turtle_gen.add_parameter(\"exit_window\", 10, 20, 5)\n",
    "turtle_settings = turtle_gen.generate_setting()\n",
    "\n",
    "boll = list(product(commodities, ['1h'], ['boll'], boll_settings, [100000], [datetime(2017, 1, 1)], [datetime(2019, 12, 1)]))\n",
    "turtle = list(product(commodities, ['1h'], ['turtle'], turtle_settings, [100000], [datetime(2017, 1, 1)], [datetime(2019, 12, 1)]))\n"
   ]
  },
  {
   "cell_type": "code",
   "execution_count": null,
   "metadata": {
    "scrolled": false
   },
   "outputs": [],
   "source": [
    "continuous_backtest(commodity, data_mode, interval, strategy_name, strategy_params, capital, start, end)\n",
    "segment_backtest(commodity, interval, strategy_name, strategy_params, capital, start, end)\n",
    "print('over')"
   ]
  }
 ],
 "metadata": {
  "kernelspec": {
   "display_name": "Python 3",
   "language": "python",
   "name": "python3"
  },
  "language_info": {
   "codemirror_mode": {
    "name": "ipython",
    "version": 3
   },
   "file_extension": ".py",
   "mimetype": "text/x-python",
   "name": "python",
   "nbconvert_exporter": "python",
   "pygments_lexer": "ipython3",
   "version": "3.7.1"
  },
  "varInspector": {
   "cols": {
    "lenName": 16,
    "lenType": 16,
    "lenVar": 40
   },
   "kernels_config": {
    "python": {
     "delete_cmd_postfix": "",
     "delete_cmd_prefix": "del ",
     "library": "var_list.py",
     "varRefreshCmd": "print(var_dic_list())"
    },
    "r": {
     "delete_cmd_postfix": ") ",
     "delete_cmd_prefix": "rm(",
     "library": "var_list.r",
     "varRefreshCmd": "cat(var_dic_list()) "
    }
   },
   "types_to_exclude": [
    "module",
    "function",
    "builtin_function_or_method",
    "instance",
    "_Feature"
   ],
   "window_display": false
  }
 },
 "nbformat": 4,
 "nbformat_minor": 2
}
