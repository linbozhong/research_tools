{
 "cells": [
  {
   "cell_type": "code",
   "execution_count": null,
   "metadata": {},
   "outputs": [],
   "source": [
    "# 在本机未更新至2.0.8的情况下，使用vnpy2.0.8的回测逻辑\n",
    "import sys\n",
    "from pathlib import Path\n",
    "new_version_path = Path(r'D:\\vnpy-2.0.8')\n",
    "# new_version_path = Path(r'E:\\vnpy\\vnpy-2.0.8')\n",
    "sys.path.insert(0, str(new_version_path))\n",
    "# sys.path\n",
    "\n",
    "import vnpy\n",
    "print(vnpy.__version__)"
   ]
  },
  {
   "cell_type": "code",
   "execution_count": null,
   "metadata": {},
   "outputs": [],
   "source": [
    "# 加载模块\n",
    "import matplotlib.pyplot as plt\n",
    "import pandas as pd\n",
    "plt.style.use('ggplot')\n",
    "\n",
    "from datetime import datetime, timedelta\n",
    "from typing import Tuple\n",
    "from vnpy.app.cta_strategy.backtesting import BacktestingEngine, OptimizationSetting\n",
    "from boll_channel_strategy import BollChannelStrategy\n",
    "from utility import (vt_bar_to_df, vt_trade_to_df, load_data, strip_digt,\n",
    "                     get_dominant_in_periods, clear_open_trade_after_deadline,\n",
    "                     single_backtest, process_last_trade_dt, get_pre_trading_date)\n"
   ]
  },
  {
   "cell_type": "markdown",
   "metadata": {},
   "source": [
    "### 进行分段合约的回测\n",
    "\n",
    "- 这种方式适用于某个合约在【变成非主力-到期】这个区间，策略一定会发出平仓信号，可以自然切换到下一个主力合约，基本上就是那些持仓周期较短的策略。对于合约快到期了，但是策略还在持仓中，需要倒仓到下个主力合约的策略，倒仓的逻辑会复杂一些，暂时不适用这种方式。\n",
    "\n",
    "- 对于永远在场的策略也不适合，比如双均线策略，原因同上，因为快到期了，策略仍然持仓，需要人工倒仓。"
   ]
  },
  {
   "cell_type": "code",
   "execution_count": null,
   "metadata": {},
   "outputs": [],
   "source": [
    "# 获取分段主力合约的开始和结束时间\n",
    "backtest_start = datetime(2018, 1, 1)\n",
    "backtest_end = datetime(2019, 12, 1)\n",
    "commodity = 'RB'\n",
    "\n",
    "dom_df = get_dominant_in_periods(commodity, backtest_start, backtest_end)\n",
    "dom_df"
   ]
  },
  {
   "cell_type": "code",
   "execution_count": null,
   "metadata": {},
   "outputs": [],
   "source": [
    "# 开始分段回测\n",
    "\n",
    "start = backtest_start\n",
    "pnl_dfs = []\n",
    "trade_dfs = []\n",
    "for (idx, row) in dom_df.iterrows():\n",
    "    # even become sub-main, but if open trade exists, it must continute until no position.\n",
    "    is_last = False\n",
    "    end = row['end'].to_pydatetime()\n",
    "    vt_symbol = row['vt_symbol']\n",
    "    \n",
    "    if idx == len(dom_df) - 1:\n",
    "        end = backtest_end\n",
    "        is_last = True\n",
    "        \n",
    "    # run backtest function\n",
    "    # the open trade after sub-main day must be deleted.\n",
    "    df_pnl, df_trade, prev_end_dt = single_backtest(vt_symbol, start, end, BollChannelStrategy, is_last)\n",
    "    pnl_dfs.append(df_pnl)\n",
    "    trade_dfs.append(df_trade)\n",
    "    \n",
    "    # backward xx trading days. xx is stretegy init days minus one.\n",
    "    # so the backtest trading begin is one day after last trade day\n",
    "    start = get_pre_trading_date(prev_end_dt, 20).to_pydatetime()\n",
    "    \n",
    "    # save to verify result\n",
    "    fname = f\"PNL—{vt_symbol}-{start.strftime('%Y%m%d')}-{prev_end_dt.strftime('%Y%m%d')}.csv\"\n",
    "    df_pnl.to_csv(fname)\n",
    "    \n",
    "all_pnl_df = pd.concat(pnl_dfs)\n",
    "all_trade_df = pd.concat(trade_dfs)\n",
    "all_pnl_df.to_csv('all_result.csv')\n",
    "all_trade_df.to_csv('all_trade.csv')"
   ]
  },
  {
   "cell_type": "markdown",
   "metadata": {},
   "source": [
    "### 成交结果对比"
   ]
  },
  {
   "cell_type": "markdown",
   "metadata": {},
   "source": [
    "### 盈亏数据对比"
   ]
  },
  {
   "cell_type": "markdown",
   "metadata": {},
   "source": [
    "#### 多样本统计"
   ]
  },
  {
   "cell_type": "code",
   "execution_count": null,
   "metadata": {},
   "outputs": [],
   "source": []
  }
 ],
 "metadata": {
  "kernelspec": {
   "display_name": "Python 3",
   "language": "python",
   "name": "python3"
  },
  "language_info": {
   "codemirror_mode": {
    "name": "ipython",
    "version": 3
   },
   "file_extension": ".py",
   "mimetype": "text/x-python",
   "name": "python",
   "nbconvert_exporter": "python",
   "pygments_lexer": "ipython3",
   "version": "3.7.1"
  },
  "varInspector": {
   "cols": {
    "lenName": 16,
    "lenType": 16,
    "lenVar": 40
   },
   "kernels_config": {
    "python": {
     "delete_cmd_postfix": "",
     "delete_cmd_prefix": "del ",
     "library": "var_list.py",
     "varRefreshCmd": "print(var_dic_list())"
    },
    "r": {
     "delete_cmd_postfix": ") ",
     "delete_cmd_prefix": "rm(",
     "library": "var_list.r",
     "varRefreshCmd": "cat(var_dic_list()) "
    }
   },
   "position": {
    "height": "591px",
    "left": "1550px",
    "right": "20px",
    "top": "120px",
    "width": "350px"
   },
   "types_to_exclude": [
    "module",
    "function",
    "builtin_function_or_method",
    "instance",
    "_Feature"
   ],
   "window_display": false
  }
 },
 "nbformat": 4,
 "nbformat_minor": 2
}
