{
 "cells": [
  {
   "cell_type": "code",
   "execution_count": null,
   "metadata": {},
   "outputs": [],
   "source": [
    "# 在本机未更新至2.0.8的情况下，使用vnpy2.0.8的回测逻辑\n",
    "import sys\n",
    "from pathlib import Path\n",
    "new_version_path = Path(r'D:\\vnpy-2.0.8')\n",
    "# new_version_path = Path(r'E:\\vnpy\\vnpy-2.0.8')\n",
    "sys.path.insert(0, str(new_version_path))\n",
    "# sys.path\n",
    "\n",
    "import vnpy\n",
    "print(vnpy.__version__)"
   ]
  },
  {
   "cell_type": "code",
   "execution_count": null,
   "metadata": {},
   "outputs": [],
   "source": [
    "# 加载模块\n",
    "import matplotlib.pyplot as plt\n",
    "import pandas as pd\n",
    "plt.style.use('ggplot')\n",
    "\n",
    "from datetime import datetime, timedelta\n",
    "from typing import Tuple\n",
    "from vnpy.app.cta_strategy.backtesting import BacktestingEngine, OptimizationSetting\n",
    "from boll_channel_strategy import BollChannelStrategy\n",
    "from utility import (\n",
    "    trade_zh_to_en,\n",
    "    vt_bar_to_df,\n",
    "    vt_trade_to_df,\n",
    "    load_data,\n",
    "    strip_digt,\n",
    "    get_output_path,\n",
    "    get_dominant_in_periods,\n",
    "    clear_open_trade_after_deadline,\n",
    "    single_backtest,\n",
    "    get_pre_trading_date,\n",
    "    strategy_dict,\n",
    "    segment_backtest\n",
    ")\n"
   ]
  },
  {
   "cell_type": "markdown",
   "metadata": {},
   "source": [
    "### 进行分段合约的回测\n",
    "\n",
    "- 这种方式只使用于合约在【变成非主力-到期】这个区间，一定会平仓离场自然切换的策略，基本上就是持仓周期较短的策略。\n",
    "- 对于合约到期了还没有平仓信号的策略（如一直持仓的双均线策略），实盘的时候需要在到期前换到下个主力合约，在vnpy现有的回测引擎下，分段回测模拟这个换仓的逻辑会比较复杂，目前关心的策略持仓周期都在几天以内，从合约切换日日到上一个主力合约到期日之间的时间足够平仓切换了，所以需要换仓的问题先不涉及了。\n",
    "- 结果对比发现，主连回测和分段回测在信号上出现的差异主要是集中在主力切换的那几天，中间段的数据基本是一致的。"
   ]
  },
  {
   "cell_type": "code",
   "execution_count": null,
   "metadata": {},
   "outputs": [],
   "source": [
    "# 获取分段主力合约的开始和结束时间\n",
    "commodity = 'rb'\n",
    "interval = '1h'\n",
    "strategy_name = 'turtle'\n",
    "strategy_params = {}\n",
    "capital = 100000\n",
    "backtest_start = datetime(2018, 1, 1)\n",
    "backtest_end = datetime(2019, 12, 1)\n",
    "\n",
    "trade_df, pnl_df, res_df, res_dict = segment_backtest(commodity, interval, strategy_name, strategy_params, capital, backtest_start, backtest_end)"
   ]
  },
  {
   "cell_type": "code",
   "execution_count": null,
   "metadata": {},
   "outputs": [],
   "source": []
  }
 ],
 "metadata": {
  "kernelspec": {
   "display_name": "Python 3",
   "language": "python",
   "name": "python3"
  },
  "language_info": {
   "codemirror_mode": {
    "name": "ipython",
    "version": 3
   },
   "file_extension": ".py",
   "mimetype": "text/x-python",
   "name": "python",
   "nbconvert_exporter": "python",
   "pygments_lexer": "ipython3",
   "version": "3.7.1"
  },
  "varInspector": {
   "cols": {
    "lenName": 16,
    "lenType": 16,
    "lenVar": 40
   },
   "kernels_config": {
    "python": {
     "delete_cmd_postfix": "",
     "delete_cmd_prefix": "del ",
     "library": "var_list.py",
     "varRefreshCmd": "print(var_dic_list())"
    },
    "r": {
     "delete_cmd_postfix": ") ",
     "delete_cmd_prefix": "rm(",
     "library": "var_list.r",
     "varRefreshCmd": "cat(var_dic_list()) "
    }
   },
   "position": {
    "height": "591px",
    "left": "1550px",
    "right": "20px",
    "top": "120px",
    "width": "350px"
   },
   "types_to_exclude": [
    "module",
    "function",
    "builtin_function_or_method",
    "instance",
    "_Feature"
   ],
   "window_display": false
  }
 },
 "nbformat": 4,
 "nbformat_minor": 2
}
