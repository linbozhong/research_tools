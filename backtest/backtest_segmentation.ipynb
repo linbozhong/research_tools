{
 "cells": [
  {
   "cell_type": "code",
   "execution_count": null,
   "metadata": {},
   "outputs": [],
   "source": [
    "# 在本机未更新至2.0.8的情况下，使用vnpy2.0.8的回测逻辑\n",
    "import sys\n",
    "from pathlib import Path\n",
    "new_version_path = Path(r'D:\\vnpy-2.0.8')\n",
    "# new_version_path = Path(r'E:\\vnpy\\vnpy-2.0.8')\n",
    "sys.path.insert(0, str(new_version_path))\n",
    "# sys.path\n",
    "\n",
    "import vnpy\n",
    "print(vnpy.__version__)"
   ]
  },
  {
   "cell_type": "code",
   "execution_count": null,
   "metadata": {},
   "outputs": [],
   "source": [
    "import matplotlib.pyplot as plt\n",
    "import pandas as pd\n",
    "plt.style.use('ggplot')\n",
    "\n",
    "from datetime import datetime, timedelta\n",
    "from typing import Tuple\n",
    "from vnpy.app.cta_strategy.backtesting import BacktestingEngine, OptimizationSetting\n",
    "from double_ma_strategy import DoubleMaStrategy\n",
    "from utility import (vt_bar_to_df, vt_trade_to_df, load_data, strip_digt,\n",
    "                     get_dominant_in_periods, clear_open_trade_after_deadline,\n",
    "                     single_backtest, process_last_trade_dt)\n"
   ]
  },
  {
   "cell_type": "code",
   "execution_count": null,
   "metadata": {},
   "outputs": [],
   "source": [
    "# 从数据库载入数据\n",
    "price = load_data('RB888.SHFE', '1h', datetime(2019, 1, 1), datetime(2019, 12, 1))\n",
    "print(f\"记录数：{len(price)} 重复数：{sum(price.index.duplicated())}\")\n",
    "price.head()"
   ]
  },
  {
   "cell_type": "code",
   "execution_count": null,
   "metadata": {},
   "outputs": [],
   "source": [
    "# 用matplot的交互式窗口查看数据是否正常\n",
    "# 按住右键上下左右移动可以上下左右缩放，按住左键可以平移\n",
    "price2 = price.reset_index()\n",
    "price2.head()\n",
    "\n",
    "%matplotlib notebook\n",
    "axe = price2.close.plot(figsize=(12, 6))\n",
    "axe.scatter([2, 10], [2596, 2612], color='b')\n",
    "plt.show()"
   ]
  },
  {
   "cell_type": "code",
   "execution_count": null,
   "metadata": {},
   "outputs": [],
   "source": [
    "# 设置回测参数\n",
    "\n",
    "engine = BacktestingEngine()\n",
    "engine.set_parameters(\n",
    "    vt_symbol=\"RB888.SHFE\",\n",
    "    interval=\"1h\",\n",
    "    start=datetime(2019, 1, 1),\n",
    "    end=datetime(2019, 12, 1),\n",
    "    rate=1/10000,\n",
    "    slippage=1,\n",
    "    size=10,\n",
    "    pricetick=1,\n",
    "    capital=100000,\n",
    ")\n",
    "engine.add_strategy(DoubleMaStrategy, {})"
   ]
  },
  {
   "cell_type": "code",
   "execution_count": null,
   "metadata": {},
   "outputs": [],
   "source": [
    "# 运行回测\n",
    "engine.load_data()\n",
    "engine.run_backtesting()\n",
    "df = engine.calculate_result()\n",
    "df.to_csv('result.csv')\n",
    "# engine.calculate_statistics()\n",
    "# engine.show_chart()"
   ]
  },
  {
   "cell_type": "code",
   "execution_count": null,
   "metadata": {},
   "outputs": [],
   "source": [
    "# 获取成交数据并在收盘价上绘制成交点\n",
    "trades = engine.get_all_trades()\n",
    "trade_df = vt_trade_to_df(trades)\n",
    "long_df = trade_df[trade_df.direction == '多']\n",
    "short_df = trade_df[trade_df.direction == '空']\n",
    "\n",
    "# 计算成交点x,y序列\n",
    "price['id'] = range(len(price))\n",
    "long_x = price.loc[long_df.index].id.values\n",
    "long_y = long_df.price.values\n",
    "short_x = price.loc[short_df.index].id.values\n",
    "short_y = short_df.price.values\n"
   ]
  },
  {
   "cell_type": "code",
   "execution_count": null,
   "metadata": {},
   "outputs": [],
   "source": [
    "trade_df"
   ]
  },
  {
   "cell_type": "code",
   "execution_count": null,
   "metadata": {},
   "outputs": [],
   "source": [
    "trade_list = clear_open_trade_after_deadline(trades, deadline=datetime(2019, 8, 26))\n",
    "trade_list"
   ]
  },
  {
   "cell_type": "code",
   "execution_count": null,
   "metadata": {},
   "outputs": [],
   "source": [
    "# 绘制数据\n",
    "%matplotlib notebook\n",
    "price2 = price.reset_index()\n",
    "axe = price2.close.plot(figsize=(12, 6), color='#a8a8a8', zorder=10)\n",
    "axe.scatter(long_x, long_y, color='r', marker=6, zorder=20)\n",
    "axe.scatter(short_x, short_y, color='g', marker=7, zorder=30)\n",
    "plt.show()"
   ]
  },
  {
   "cell_type": "code",
   "execution_count": null,
   "metadata": {},
   "outputs": [],
   "source": [
    "# 进行连续合约的回测"
   ]
  },
  {
   "cell_type": "markdown",
   "metadata": {},
   "source": [
    "### 进行分段合约的回测\n",
    "\n",
    "- 这种方式适用于某个合约在【变成非主力-到期】这个区间，策略一定会发出平仓信号，可以自然切换到下一个主力合约，基本上就是那些持仓周期较短的策略。对于合约快到期了，但是策略还在持仓中，需要倒仓到下个主力合约的策略，倒仓的逻辑会复杂一些，暂时不适用这种方式。\n",
    "\n",
    "- 对于永远在场的策略也不适合，比如双均线策略，原因同上，因为快到期了，策略仍然持仓，需要人工倒仓。"
   ]
  },
  {
   "cell_type": "code",
   "execution_count": null,
   "metadata": {},
   "outputs": [],
   "source": [
    "# 载入分段主力合约数据\n",
    "backtest_start = datetime(2018, 2, 10)\n",
    "backtest_end = datetime(2019, 12, 10)\n",
    "\n",
    "# 载入主力合约起止日期数据\n",
    "seg = pd.read_csv('dominant_data.csv', parse_dates=[1, 2])\n",
    "# seg['underlying'] = seg['dominant'].map(lambda x: strip_digt(x))\n",
    "\n",
    "# 找出主力合约的起点\n",
    "sel = seg[seg['underlying'] == 'RB'].copy()\n",
    "# sel['vt_symbol'] = sel['dominant'].map(lambda x: x + '.')\n",
    "# sel['vt_symbol'] = sel['vt_symbol'] + sel['exchange']\n",
    "# sel['vt_symbol'] = sel['vt_symbol'].map(to_vt_symbol)\n",
    "sel.reset_index(inplace=True)\n",
    "passed = sel[sel['start'] < backtest_start]\n",
    "after = sel[sel['start'] > backtest_end]\n",
    "\n",
    "passed_closest_idx = passed.index.values[-1]\n",
    "after_first_idx = after.index.values[0] if not after.empty else len(sel)\n",
    "\n",
    "# 选出的合约如果变非主力的日期和回测开始日期相比，只剩几天（不够初始化历史数据）应该排除。\n",
    "# 过滤天数：30天计算指标的历史数据 + 最少可交易7天（相当于1周交易天数）\n",
    "if passed.iloc[-1]['end'] - backtest_start < timedelta(days=37):\n",
    "    passed_closest_idx += 1\n",
    "sel[passed_closest_idx: after_first_idx]\n"
   ]
  },
  {
   "cell_type": "code",
   "execution_count": null,
   "metadata": {},
   "outputs": [],
   "source": [
    "backtest_start = datetime(2018, 1, 1)\n",
    "backtest_end = datetime(2019, 10, 1)\n",
    "commodity = 'RB'\n",
    "\n",
    "dom_df = get_dominant_in_periods(commodity, backtest_start, backtest_end)\n",
    "dom_df"
   ]
  },
  {
   "cell_type": "code",
   "execution_count": null,
   "metadata": {},
   "outputs": [],
   "source": [
    "start = backtest_start\n",
    "btest_dfs = []\n",
    "for (idx, row) in dom_df.iterrows():\n",
    "    # even become sub-main, but if open trade exists, it must continute until no position.\n",
    "    end = row['end'] \n",
    "    vt_symbol = row['vt_symbol']\n",
    "    if idx == len(dom_df) - 1:\n",
    "        end = backtest_end\n",
    "        \n",
    "    # run backtest function\n",
    "    # the open trade after sub-main day must be deleted.\n",
    "    df, last_trade_dt = single_backtest(vt_symbol, start, end)\n",
    "    btest_dfs.append(df)\n",
    "    \n",
    "    # last_trade_dt to the closest open dt of last trade\n",
    "    # backward xx days so as to init history data\n",
    "    start = process_last_trade_dt(last_trade_dt)\n",
    "    \n",
    "all_df = pd.concat(btest_dfs)\n",
    "    "
   ]
  },
  {
   "cell_type": "code",
   "execution_count": null,
   "metadata": {},
   "outputs": [],
   "source": [
    "to_vt_symbol('RB2005.SHFE')\n",
    "to_vt_symbol('A2005.DCE')\n",
    "to_vt_symbol('AP2005.CZCE')\n",
    "to_vt_symbol('SC2005.INE')\n",
    "to_vt_symbol('IF2005.CFFEX')"
   ]
  },
  {
   "cell_type": "code",
   "execution_count": null,
   "metadata": {},
   "outputs": [],
   "source": [
    "import datetime"
   ]
  },
  {
   "cell_type": "code",
   "execution_count": null,
   "metadata": {},
   "outputs": [],
   "source": [
    "datetime.time(10)"
   ]
  },
  {
   "cell_type": "code",
   "execution_count": null,
   "metadata": {},
   "outputs": [],
   "source": []
  }
 ],
 "metadata": {
  "kernelspec": {
   "display_name": "Python 3",
   "language": "python",
   "name": "python3"
  },
  "language_info": {
   "codemirror_mode": {
    "name": "ipython",
    "version": 3
   },
   "file_extension": ".py",
   "mimetype": "text/x-python",
   "name": "python",
   "nbconvert_exporter": "python",
   "pygments_lexer": "ipython3",
   "version": "3.7.1"
  },
  "varInspector": {
   "cols": {
    "lenName": 16,
    "lenType": 16,
    "lenVar": 40
   },
   "kernels_config": {
    "python": {
     "delete_cmd_postfix": "",
     "delete_cmd_prefix": "del ",
     "library": "var_list.py",
     "varRefreshCmd": "print(var_dic_list())"
    },
    "r": {
     "delete_cmd_postfix": ") ",
     "delete_cmd_prefix": "rm(",
     "library": "var_list.r",
     "varRefreshCmd": "cat(var_dic_list()) "
    }
   },
   "position": {
    "height": "591px",
    "left": "1550px",
    "right": "20px",
    "top": "120px",
    "width": "350px"
   },
   "types_to_exclude": [
    "module",
    "function",
    "builtin_function_or_method",
    "instance",
    "_Feature"
   ],
   "window_display": false
  }
 },
 "nbformat": 4,
 "nbformat_minor": 2
}
