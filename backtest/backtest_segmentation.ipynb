{
 "cells": [
  {
   "cell_type": "code",
   "execution_count": null,
   "metadata": {},
   "outputs": [],
   "source": [
    "# 在本机未更新至2.0.8的情况下，使用vnpy2.0.8的回测逻辑\n",
    "import sys\n",
    "from pathlib import Path\n",
    "# new_version_path = Path(r'D:\\vnpy-2.0.8')\n",
    "new_version_path = Path(r'E:\\vnpy\\vnpy-2.0.8')\n",
    "sys.path.insert(0, str(new_version_path))\n",
    "# sys.path\n",
    "\n",
    "import vnpy\n",
    "print(vnpy.__version__)"
   ]
  },
  {
   "cell_type": "code",
   "execution_count": null,
   "metadata": {},
   "outputs": [],
   "source": [
    "# 加载模块\n",
    "import matplotlib.pyplot as plt\n",
    "import pandas as pd\n",
    "plt.style.use('ggplot')\n",
    "\n",
    "from datetime import datetime, timedelta\n",
    "from typing import Tuple\n",
    "from vnpy.app.cta_strategy.backtesting import BacktestingEngine, OptimizationSetting\n",
    "from boll_channel_strategy import BollChannelStrategy\n",
    "from utility import (\n",
    "    trade_zh_to_en,\n",
    "    vt_bar_to_df,\n",
    "    vt_trade_to_df,\n",
    "    load_data,\n",
    "    strip_digt,\n",
    "    get_output_path,\n",
    "    get_dominant_in_periods,\n",
    "    clear_open_trade_after_deadline,\n",
    "    single_backtest,\n",
    "    get_pre_trading_date,\n",
    "    strategy_dict\n",
    ")\n"
   ]
  },
  {
   "cell_type": "markdown",
   "metadata": {},
   "source": [
    "### 进行分段合约的回测\n",
    "\n",
    "- 这种方式只使用于合约在【变成非主力-到期】这个区间，一定会平仓离场自然切换的策略，基本上就是持仓周期较短的策略。\n",
    "- 对于合约到期了还没有平仓信号的策略（如一直持仓的双均线策略），实盘的时候需要在到期前换到下个主力合约，在vnpy现有的回测引擎下，分段回测模拟这个换仓的逻辑会比较复杂，目前关心的策略持仓周期都在几天以内，从合约切换日日到上一个主力合约到期日之间的时间足够平仓切换了，所以需要换仓的问题先不涉及了。\n",
    "- 结果对比发现，主连回测和分段回测在信号上出现的差异主要是集中在主力切换的那几天，中间段的数据基本是一致的。"
   ]
  },
  {
   "cell_type": "code",
   "execution_count": null,
   "metadata": {},
   "outputs": [],
   "source": [
    "# 获取分段主力合约的开始和结束时间\n",
    "backtest_start = datetime(2018, 1, 1)\n",
    "backtest_end = datetime(2019, 12, 1)\n",
    "commodity = 'rb'\n",
    "strategy_name = 'turtle'\n",
    "\n",
    "\n",
    "dom_df = get_dominant_in_periods(commodity, backtest_start, backtest_end)\n",
    "dom_df"
   ]
  },
  {
   "cell_type": "code",
   "execution_count": null,
   "metadata": {},
   "outputs": [],
   "source": [
    "# 开始分段回测\n",
    "\n",
    "start = backtest_start\n",
    "pnl_dfs = []\n",
    "trade_dfs = []\n",
    "for (idx, row) in dom_df.iterrows():\n",
    "    # even become sub-main, but if open trade exists, it must continute until no position.\n",
    "    is_last = False\n",
    "    end = row['end'].to_pydatetime()\n",
    "    vt_symbol = row['vt_symbol']\n",
    "    \n",
    "    if idx == len(dom_df) - 1:\n",
    "        end = backtest_end\n",
    "        is_last = True\n",
    "        \n",
    "    # run backtest function\n",
    "    # the open trade after sub-main day must be deleted.\n",
    "    df_pnl, df_trade, prev_end_dt = single_backtest(vt_symbol, start, end, strategy_dict['turtle'], is_last)\n",
    "    pnl_dfs.append(df_pnl)\n",
    "    trade_dfs.append(df_trade)\n",
    "    \n",
    "    # backward n trading days. Because backtest engine use n trading days to calculate init data. \n",
    "    # n must set to stretegy init data days so the backtest trading begin is one day after last trade day\n",
    "    start = get_pre_trading_date(prev_end_dt, 20).to_pydatetime()\n",
    "    \n",
    "    # save to verify result\n",
    "    fname = f\"PNL—{vt_symbol}-{start.strftime('%Y%m%d')}-{prev_end_dt.strftime('%Y%m%d')}.csv\"\n",
    "    df_pnl.to_csv(get_output_path(fname))\n",
    "    \n",
    "all_pnl_df = pd.concat(pnl_dfs)\n",
    "all_trade_df = pd.concat(trade_dfs)\n",
    "all_trade_df = trade_zh_to_en(all_trade_df)\n",
    "all_pnl_df.to_csv(get_output_path(f'{commodity}_pnl_seg.csv'))\n",
    "all_trade_df.to_csv(get_output_path(f'{commodity}_trade_seg.csv'))"
   ]
  },
  {
   "cell_type": "markdown",
   "metadata": {},
   "source": [
    "### 生成成交结果"
   ]
  },
  {
   "cell_type": "code",
   "execution_count": null,
   "metadata": {},
   "outputs": [],
   "source": [
    "engine = BacktestingEngine()\n",
    "engine.capital = 100000\n",
    "engine.calculate_statistics(df=all_pnl_df)"
   ]
  },
  {
   "cell_type": "markdown",
   "metadata": {},
   "source": [
    "### 盈亏数据对比"
   ]
  },
  {
   "cell_type": "markdown",
   "metadata": {},
   "source": [
    "#### 多样本统计"
   ]
  },
  {
   "cell_type": "code",
   "execution_count": null,
   "metadata": {},
   "outputs": [],
   "source": []
  }
 ],
 "metadata": {
  "kernelspec": {
   "display_name": "Python 3",
   "language": "python",
   "name": "python3"
  },
  "language_info": {
   "codemirror_mode": {
    "name": "ipython",
    "version": 3
   },
   "file_extension": ".py",
   "mimetype": "text/x-python",
   "name": "python",
   "nbconvert_exporter": "python",
   "pygments_lexer": "ipython3",
   "version": "3.7.1"
  },
  "varInspector": {
   "cols": {
    "lenName": 16,
    "lenType": 16,
    "lenVar": 40
   },
   "kernels_config": {
    "python": {
     "delete_cmd_postfix": "",
     "delete_cmd_prefix": "del ",
     "library": "var_list.py",
     "varRefreshCmd": "print(var_dic_list())"
    },
    "r": {
     "delete_cmd_postfix": ") ",
     "delete_cmd_prefix": "rm(",
     "library": "var_list.r",
     "varRefreshCmd": "cat(var_dic_list()) "
    }
   },
   "position": {
    "height": "591px",
    "left": "1550px",
    "right": "20px",
    "top": "120px",
    "width": "350px"
   },
   "types_to_exclude": [
    "module",
    "function",
    "builtin_function_or_method",
    "instance",
    "_Feature"
   ],
   "window_display": false
  }
 },
 "nbformat": 4,
 "nbformat_minor": 2
}
