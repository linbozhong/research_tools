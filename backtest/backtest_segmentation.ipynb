{
 "cells": [
  {
   "cell_type": "code",
   "execution_count": null,
   "metadata": {},
   "outputs": [],
   "source": [
    "# 在本机未更新至2.0.8的情况下，使用vnpy2.0.8的回测逻辑\n",
    "import sys\n",
    "from pathlib import Path\n",
    "new_version_path = Path(r'D:\\vnpy-2.0.8')\n",
    "# new_version_path = Path(r'E:\\vnpy\\vnpy-2.0.8')\n",
    "sys.path.insert(0, str(new_version_path))\n",
    "# sys.path\n",
    "\n",
    "import vnpy\n",
    "print(vnpy.__version__)"
   ]
  },
  {
   "cell_type": "code",
   "execution_count": null,
   "metadata": {},
   "outputs": [],
   "source": [
    "import matplotlib.pyplot as plt\n",
    "import pandas as pd\n",
    "plt.style.use('ggplot')\n",
    "\n",
    "from datetime import datetime\n",
    "from vnpy.app.cta_strategy.backtesting import BacktestingEngine, OptimizationSetting\n",
    "from double_ma_strategy import DoubleMaStrategy\n",
    "from utility import vt_bar_to_df, vt_trade_to_df, load_data\n"
   ]
  },
  {
   "cell_type": "code",
   "execution_count": null,
   "metadata": {},
   "outputs": [],
   "source": [
    "# 从数据库载入数据\n",
    "price = load_data('RB888.SHFE', '1h', datetime(2019, 1, 1), datetime(2019, 12, 1))\n",
    "print(f\"记录数：{len(price)} 重复数：{sum(price.index.duplicated())}\")\n",
    "price.head()"
   ]
  },
  {
   "cell_type": "code",
   "execution_count": null,
   "metadata": {},
   "outputs": [],
   "source": [
    "# 用matplot的交互式窗口查看数据是否正常\n",
    "# 按住右键上下左右移动可以上下左右缩放，按住左键可以平移\n",
    "price2 = price.reset_index()\n",
    "price2.head()\n",
    "\n",
    "%matplotlib notebook\n",
    "axe = price2.close.plot(figsize=(12, 6))\n",
    "axe.scatter([2, 10], [2596, 2612], color='b')\n",
    "plt.show()"
   ]
  },
  {
   "cell_type": "code",
   "execution_count": null,
   "metadata": {},
   "outputs": [],
   "source": [
    "# 设置回测参数\n",
    "\n",
    "engine = BacktestingEngine()\n",
    "engine.set_parameters(\n",
    "    vt_symbol=\"RB888.SHFE\",\n",
    "    interval=\"1h\",\n",
    "    start=datetime(2019, 1, 1),\n",
    "    end=datetime(2019, 12, 1),\n",
    "    rate=1/10000,\n",
    "    slippage=1,\n",
    "    size=10,\n",
    "    pricetick=1,\n",
    "    capital=100000,\n",
    ")\n",
    "engine.add_strategy(DoubleMaStrategy, {})"
   ]
  },
  {
   "cell_type": "code",
   "execution_count": null,
   "metadata": {},
   "outputs": [],
   "source": [
    "# 运行回测\n",
    "engine.load_data()\n",
    "engine.run_backtesting()\n",
    "df = engine.calculate_result()\n",
    "df.to_csv('result.csv')\n",
    "# engine.calculate_statistics()\n",
    "# engine.show_chart()"
   ]
  },
  {
   "cell_type": "code",
   "execution_count": null,
   "metadata": {},
   "outputs": [],
   "source": [
    "# 获取成交数据并在收盘价上绘制成交点\n",
    "trades = engine.get_all_trades()\n",
    "trade_df = vt_trade_to_df(trades)\n",
    "long_df = trade_df[trade_df.direction == '多']\n",
    "short_df = trade_df[trade_df.direction == '空']\n",
    "\n",
    "# 计算成交点x,y序列\n",
    "price['id'] = range(len(price))\n",
    "long_x = price.loc[long_df.index].id.values\n",
    "long_y = long_df.price.values\n",
    "short_x = price.loc[short_df.index].id.values\n",
    "short_y = short_df.price.values\n",
    "\n",
    "# 绘制数据\n",
    "%matplotlib notebook\n",
    "price2 = price.reset_index()\n",
    "axe = price2.close.plot(figsize=(12, 6), color='#a8a8a8', zorder=10)\n",
    "axe.scatter(long_x, long_y, color='r', marker=6, zorder=20)\n",
    "axe.scatter(short_x, short_y, color='g', marker=7, zorder=30)\n",
    "plt.show()"
   ]
  },
  {
   "cell_type": "code",
   "execution_count": null,
   "metadata": {},
   "outputs": [],
   "source": [
    "# 进行连续合约的回测"
   ]
  },
  {
   "cell_type": "code",
   "execution_count": null,
   "metadata": {},
   "outputs": [],
   "source": [
    "# 进行分段合约的回测\n",
    "\n"
   ]
  }
 ],
 "metadata": {
  "kernelspec": {
   "display_name": "Python 3",
   "language": "python",
   "name": "python3"
  },
  "language_info": {
   "codemirror_mode": {
    "name": "ipython",
    "version": 3
   },
   "file_extension": ".py",
   "mimetype": "text/x-python",
   "name": "python",
   "nbconvert_exporter": "python",
   "pygments_lexer": "ipython3",
   "version": "3.7.1"
  },
  "varInspector": {
   "cols": {
    "lenName": 16,
    "lenType": 16,
    "lenVar": 40
   },
   "kernels_config": {
    "python": {
     "delete_cmd_postfix": "",
     "delete_cmd_prefix": "del ",
     "library": "var_list.py",
     "varRefreshCmd": "print(var_dic_list())"
    },
    "r": {
     "delete_cmd_postfix": ") ",
     "delete_cmd_prefix": "rm(",
     "library": "var_list.r",
     "varRefreshCmd": "cat(var_dic_list()) "
    }
   },
   "position": {
    "height": "591px",
    "left": "1550px",
    "right": "20px",
    "top": "120px",
    "width": "350px"
   },
   "types_to_exclude": [
    "module",
    "function",
    "builtin_function_or_method",
    "instance",
    "_Feature"
   ],
   "window_display": false
  }
 },
 "nbformat": 4,
 "nbformat_minor": 2
}
