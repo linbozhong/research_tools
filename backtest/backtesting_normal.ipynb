{
 "cells": [
  {
   "cell_type": "code",
   "execution_count": null,
   "metadata": {},
   "outputs": [],
   "source": [
    "#%%\n",
    "from vnpy.app.cta_strategy.backtesting import BacktestingEngine, OptimizationSetting\n",
    "from strategy.fixed_net_strategy import FixedNetStrategy\n",
    "from utility import vt_trade_to_df, get_output_path, trade_zh_to_en\n",
    "from datetime import datetime"
   ]
  },
  {
   "cell_type": "code",
   "execution_count": null,
   "metadata": {},
   "outputs": [],
   "source": [
    "#%%\n",
    "engine = BacktestingEngine()\n",
    "engine.set_parameters(\n",
    "    vt_symbol=\"000905.SSE\",\n",
    "    interval=\"1h\",\n",
    "    start=datetime(2020, 1, 1),\n",
    "    end=datetime(2021, 5, 10),\n",
    "    rate=0.3/10000,\n",
    "    slippage=0.2,\n",
    "    size=200,\n",
    "    pricetick=0.2,\n",
    "    capital=20000000,\n",
    ")\n",
    "engine.add_strategy(FixedNetStrategy, {})"
   ]
  },
  {
   "cell_type": "code",
   "execution_count": null,
   "metadata": {
    "scrolled": false
   },
   "outputs": [],
   "source": [
    "#%%\n",
    "engine.load_data()\n",
    "engine.run_backtesting()"
   ]
  },
  {
   "cell_type": "code",
   "execution_count": null,
   "metadata": {},
   "outputs": [],
   "source": [
    "trades = engine.get_all_trades()\n",
    "trade_df = vt_trade_to_df(trades)\n",
    "trade_df = trade_zh_to_en(trade_df)\n",
    "trade_df.to_csv(get_output_path('trade_000905.csv'))"
   ]
  },
  {
   "cell_type": "code",
   "execution_count": null,
   "metadata": {},
   "outputs": [],
   "source": [
    "#%%\n",
    "df = engine.calculate_result()\n",
    "engine.calculate_statistics()\n",
    "engine.show_chart()"
   ]
  },
  {
   "cell_type": "code",
   "execution_count": null,
   "metadata": {
    "scrolled": true
   },
   "outputs": [],
   "source": [
    "setting = OptimizationSetting()\n",
    "setting.set_target(\"sharpe_ratio\")\n",
    "setting.add_parameter(\"atr_length\", 3, 39, 1)\n",
    "setting.add_parameter(\"atr_ma_length\", 10, 30, 1)\n",
    "\n",
    "engine.run_ga_optimization(setting)"
   ]
  }
 ],
 "metadata": {
  "kernelspec": {
   "display_name": "Python 3",
   "language": "python",
   "name": "python3"
  },
  "language_info": {
   "codemirror_mode": {
    "name": "ipython",
    "version": 3
   },
   "file_extension": ".py",
   "mimetype": "text/x-python",
   "name": "python",
   "nbconvert_exporter": "python",
   "pygments_lexer": "ipython3",
   "version": "3.7.1"
  }
 },
 "nbformat": 4,
 "nbformat_minor": 2
}
