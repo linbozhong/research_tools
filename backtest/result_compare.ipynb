{
 "cells": [
  {
   "cell_type": "code",
   "execution_count": null,
   "metadata": {},
   "outputs": [],
   "source": [
    "import pandas as pd\n",
    "import matplotlib.pyplot as plt\n",
    "from pathlib import Path\n",
    "from utility import get_output_path\n",
    "\n",
    "plt.style.use('ggplot')\n",
    "pd.set_option('display.float_format', '{:.2f}'.format)\n",
    "\n",
    "compare_items = [\n",
    "    'end_balance',\n",
    "    'total_days',\n",
    "    'profit_days',\n",
    "    'total_trade_count',\n",
    "    'max_ddpercent',\n",
    "    'max_drawdown_duration',\n",
    "    'total_return',\n",
    "    'annual_return',\n",
    "    'return_std',\n",
    "    'daily_return',\n",
    "    'sharpe_ratio',\n",
    "    'return_drawdown_ratio'\n",
    "]"
   ]
  },
  {
   "cell_type": "code",
   "execution_count": null,
   "metadata": {},
   "outputs": [],
   "source": [
    "# 成交结果对比分析\n",
    "cnt_items = [item + '_cnt' for item in compare_items]\n",
    "seg_items = [item + '_seg' for item in compare_items]\n",
    "keep_item = cnt_items + seg_items\n",
    "keep_item.insert(0, 'name')\n",
    "\n",
    "fp = get_output_path('batch_result.csv')\n",
    "df = pd.read_csv(fp, index_col=0)\n",
    "df = df[keep_item]"
   ]
  },
  {
   "cell_type": "code",
   "execution_count": null,
   "metadata": {},
   "outputs": [],
   "source": [
    "for name in compare_items:\n",
    "    df[name] = df[name + '_cnt'] - df[name + '_seg']\n",
    "keep_items = compare_items[:]\n",
    "keep_items.insert(0, 'name')\n",
    "df = df[keep_items]\n",
    "df.to_csv(get_output_path('processed.csv'))\n",
    "df.describe()"
   ]
  },
  {
   "cell_type": "code",
   "execution_count": null,
   "metadata": {},
   "outputs": [],
   "source": [
    "df.skew()"
   ]
  },
  {
   "cell_type": "code",
   "execution_count": null,
   "metadata": {},
   "outputs": [],
   "source": [
    "df.kurt()"
   ]
  },
  {
   "cell_type": "code",
   "execution_count": null,
   "metadata": {},
   "outputs": [],
   "source": [
    "%matplotlib notebook\n",
    "\n",
    "%matplotlib notebook\n",
    "plt.figure(figsize=(10, 20))\n",
    "\n",
    "balance_plot = plt.subplot(5, 1, 1)\n",
    "balance_plot.set_title(\"Total Return\")\n",
    "df[\"total_return\"].hist(bins=50)\n",
    "\n",
    "drawdown_plot = plt.subplot(5, 1, 2)\n",
    "drawdown_plot.set_title(\"Drawdown Percent\")\n",
    "df[\"max_ddpercent\"].hist(bins=50)\n",
    "\n",
    "daily_return_plot = plt.subplot(5, 1, 3)\n",
    "daily_return_plot.set_title(\"Daily Return\")\n",
    "df[\"daily_return\"].hist(bins=50)\n",
    "\n",
    "return_std_plot = plt.subplot(5, 1, 4)\n",
    "return_std_plot.set_title(\"Daily Return Std\")\n",
    "df[\"return_std\"].hist(bins=50)\n",
    "\n",
    "return_std_plot = plt.subplot(5, 1, 5)\n",
    "return_std_plot.set_title(\"Sharpe Ratio\")\n",
    "df[\"sharpe_ratio\"].hist(bins=50)\n",
    "\n",
    "plt.tight_layout() "
   ]
  },
  {
   "cell_type": "markdown",
   "metadata": {},
   "source": [
    "### 单项结果对比"
   ]
  },
  {
   "cell_type": "code",
   "execution_count": null,
   "metadata": {},
   "outputs": [],
   "source": [
    "# test_folder = Path(r'D:\\research_tools\\backtest\\result\\sc_turtle_entry_window_25.exit_window_10')\n",
    "# test_folder = Path(r'D:\\research_tools\\backtest\\result\\sc_turtle_entry_window_25.exit_window_10.fixed_size_1')\n",
    "test_folder = Path(r'D:\\research_tools\\backtest\\result\\sc_turtle_entry_window_55.exit_window_20')\n",
    "\n",
    "trade_kwargs = {'index_col': 0, 'parse_dates': True}\n",
    "pnl_kwargs = {'index_col': 0, 'parse_dates': True, 'usecols': [0, 1, 2, 4, 5, 6, 10, 11, 12, 13]}\n",
    "result_kwargs = {'index_col': 0}\n",
    "trade_cont = pd.read_csv(test_folder.joinpath('trade_continuous.csv'), **trade_kwargs)\n",
    "trade_seg = pd.read_csv(test_folder.joinpath('trade_seg.csv'), **trade_kwargs)\n",
    "pnl_cont = pd.read_csv(test_folder.joinpath('pnl_continuous.csv'), **pnl_kwargs)\n",
    "pnl_seg = pd.read_csv(test_folder.joinpath('pnl_seg.csv'), **pnl_kwargs)\n",
    "res_cont = pd.read_csv(test_folder.joinpath('result_continuous.csv'), **result_kwargs)\n",
    "res_seg = pd.read_csv(test_folder.joinpath('result_seg.csv'), **result_kwargs)\n",
    "res_cont = res_cont[compare_items]\n",
    "res_seg = res_seg[compare_items]"
   ]
  },
  {
   "cell_type": "code",
   "execution_count": null,
   "metadata": {},
   "outputs": [],
   "source": [
    "trade_comp = trade_cont.merge(trade_seg, left_index=True, right_index=True, how='outer', suffixes=('_cont','_seg'))\n",
    "pnl_comp = pnl_cont.merge(pnl_seg, left_index=True, right_index=True, how='outer', suffixes=('_cont','_seg'))\n",
    "pnl_comp['net_pnl_diff'] = pnl_comp['net_pnl_cont'] - pnl_comp['net_pnl_seg']\n",
    "res_comp = res_cont.merge(res_seg, left_index=True, right_index=True, how='outer', suffixes=('_cont','_seg'))\n",
    "\n",
    "pnl_comp.to_csv(test_folder.joinpath('pnl_comp.csv'))\n",
    "trade_comp.to_csv(test_folder.joinpath('trade_comp.csv'))"
   ]
  },
  {
   "cell_type": "code",
   "execution_count": null,
   "metadata": {},
   "outputs": [],
   "source": [
    "test_folder = Path(r'E:\\project\\research_tools\\backtest\\result\\sc_turtle_entry_window_25.exit_window_10.fixed_size_1')\n",
    "pnl_seg = pd.read_csv(test_folder.joinpath('pnl_seg.csv'), index_col=0, parse_dates=True)\n",
    "pnl_seg.head()"
   ]
  },
  {
   "cell_type": "code",
   "execution_count": null,
   "metadata": {},
   "outputs": [],
   "source": [
    "pnl_seg.tail()\n",
    "# pnl_seg['trade_count'].sum()\n",
    "t_df = pnl_seg.iloc[-1:].copy()\n",
    "# t_df.iloc[0]['close_price'] = 999\n",
    "last_index = t_df.iloc[0].name\n",
    "t_df.loc[last_index, 'close_price'] = 888\n",
    "t_df"
   ]
  },
  {
   "cell_type": "code",
   "execution_count": null,
   "metadata": {},
   "outputs": [],
   "source": [
    "# trade_comp.head()\n",
    "# 选取拼接合约成交点位和分段回测不同的单\n",
    "df = trade_comp[trade_comp.isnull().T.any()]\n",
    "df\n",
    "# num = len(df[df['direction_cont'].notnull()])\n",
    "# num / len(trade_cont)"
   ]
  },
  {
   "cell_type": "code",
   "execution_count": null,
   "metadata": {},
   "outputs": [],
   "source": [
    "df = pnl_comp[pnl_comp.isnull().T.any()]\n",
    "df"
   ]
  },
  {
   "cell_type": "code",
   "execution_count": null,
   "metadata": {},
   "outputs": [],
   "source": [
    "# 每日盈亏数据不一致的记录\n",
    "pnl_comp.head()\n",
    "df_diff = pnl_comp[pnl_comp['net_pnl_cont'] != pnl_comp['net_pnl_seg']]\n",
    "df_diff\n",
    "len(df_diff) / len(pnl_seg)"
   ]
  },
  {
   "cell_type": "code",
   "execution_count": null,
   "metadata": {},
   "outputs": [],
   "source": [
    "# 选取成交点位相同但是方向不一致的单\n",
    "df = trade_comp[~trade_comp.isnull().T.any()]\n",
    "df[df.direction_cont != df.direction_seg]"
   ]
  }
 ],
 "metadata": {
  "kernelspec": {
   "display_name": "Python 3",
   "language": "python",
   "name": "python3"
  },
  "language_info": {
   "codemirror_mode": {
    "name": "ipython",
    "version": 3
   },
   "file_extension": ".py",
   "mimetype": "text/x-python",
   "name": "python",
   "nbconvert_exporter": "python",
   "pygments_lexer": "ipython3",
   "version": "3.7.1"
  },
  "varInspector": {
   "cols": {
    "lenName": 16,
    "lenType": 16,
    "lenVar": 40
   },
   "kernels_config": {
    "python": {
     "delete_cmd_postfix": "",
     "delete_cmd_prefix": "del ",
     "library": "var_list.py",
     "varRefreshCmd": "print(var_dic_list())"
    },
    "r": {
     "delete_cmd_postfix": ") ",
     "delete_cmd_prefix": "rm(",
     "library": "var_list.r",
     "varRefreshCmd": "cat(var_dic_list()) "
    }
   },
   "types_to_exclude": [
    "module",
    "function",
    "builtin_function_or_method",
    "instance",
    "_Feature"
   ],
   "window_display": false
  }
 },
 "nbformat": 4,
 "nbformat_minor": 2
}
