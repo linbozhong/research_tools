{
 "cells": [
  {
   "cell_type": "code",
   "execution_count": null,
   "metadata": {},
   "outputs": [],
   "source": [
    "import pandas as pd\n",
    "from pathlib import Path\n",
    "\n",
    "compare_items = [\n",
    "    'total_days',\n",
    "    'profit_days',\n",
    "    'max_ddpercent',\n",
    "    'max_drawdown_duration',\n",
    "    'total_return',\n",
    "    'return_std',\n",
    "    'daily_return',\n",
    "    'sharpe_ratio',\n",
    "    'return_drawdown_ratio'\n",
    "]\n",
    "test_folder = Path(r'D:\\research_tools\\backtest\\result\\rb_1h_2018010120191201_turtle_default')"
   ]
  },
  {
   "cell_type": "code",
   "execution_count": null,
   "metadata": {},
   "outputs": [],
   "source": [
    "trade_kwargs = {'index_col': 0, 'parse_dates': True}\n",
    "pnl_kwargs = {'index_col': 0, 'parse_dates': True, 'usecols': [0, 1, 2, 4, 5, 6, 10, 11, 12, 13]}\n",
    "result_kwargs = {'index_col': 0}\n",
    "trade_cont = pd.read_csv(test_folder.joinpath('trade_continuous.csv'), **trade_kwargs)\n",
    "trade_seg = pd.read_csv(test_folder.joinpath('trade_seg.csv'), **trade_kwargs)\n",
    "pnl_cont = pd.read_csv(test_folder.joinpath('pnl_continuous.csv'), **pnl_kwargs)\n",
    "pnl_seg = pd.read_csv(test_folder.joinpath('pnl_seg.csv'), **pnl_kwargs)\n",
    "res_cont = pd.read_csv(test_folder.joinpath('result_continuous.csv'), **result_kwargs)\n",
    "res_seg = pd.read_csv(test_folder.joinpath('result_seg.csv'), **result_kwargs)\n",
    "res_cont = res_cont[compare_items]\n",
    "res_seg = res_seg[compare_items]"
   ]
  },
  {
   "cell_type": "code",
   "execution_count": null,
   "metadata": {},
   "outputs": [],
   "source": [
    "# res_seg[compare_items] - res_cont[compare_items]"
   ]
  },
  {
   "cell_type": "code",
   "execution_count": null,
   "metadata": {},
   "outputs": [],
   "source": [
    "# (res_seg[compare_items] - res_cont[compare_items]) / res_seg[compare_items]"
   ]
  },
  {
   "cell_type": "code",
   "execution_count": null,
   "metadata": {},
   "outputs": [],
   "source": [
    "trade_cont.head()\n",
    "# trade_cont.info()\n",
    "pnl_cont.head()"
   ]
  },
  {
   "cell_type": "code",
   "execution_count": null,
   "metadata": {},
   "outputs": [],
   "source": [
    "trade_seg.head()\n",
    "pnl_seg.head()"
   ]
  },
  {
   "cell_type": "code",
   "execution_count": null,
   "metadata": {},
   "outputs": [],
   "source": [
    "trade_comp = trade_cont.merge(trade_seg, left_index=True, right_index=True, how='outer', suffixes=('_cont','_seg'))\n",
    "pnl_comp = pnl_cont.merge(pnl_seg, left_index=True, right_index=True, how='outer', suffixes=('_cont','_seg'))\n",
    "res_comp = res_cont.merge(res_seg, left_index=True, right_index=True, how='outer', suffixes=('_cont','_seg'))"
   ]
  },
  {
   "cell_type": "code",
   "execution_count": null,
   "metadata": {},
   "outputs": [],
   "source": [
    "# trade_comp.head()\n",
    "# 选取拼接合约成交点位和分段回测不同的单\n",
    "df = trade_comp[trade_comp.isnull().T.any()]\n",
    "# df\n",
    "num = len(df[df['direction_cont'].notnull()])\n",
    "num / len(trade_cont)"
   ]
  },
  {
   "cell_type": "code",
   "execution_count": null,
   "metadata": {},
   "outputs": [],
   "source": [
    "# 每日盈亏数据不一致的记录\n",
    "pnl_comp.head()\n",
    "df = pnl_comp[pnl_comp.net_pnl_cont != pnl_comp.net_pnl_seg]\n",
    "len(df) / len(pnl_seg)"
   ]
  },
  {
   "cell_type": "code",
   "execution_count": null,
   "metadata": {},
   "outputs": [],
   "source": [
    "# 选取成交点位相同但是方向不一致的单\n",
    "df = trade_comp[~trade_comp.isnull().T.any()]\n",
    "df[df.direction_cont != df.direction_seg]"
   ]
  },
  {
   "cell_type": "code",
   "execution_count": null,
   "metadata": {},
   "outputs": [],
   "source": [
    "trade_comp.to_csv('result/rb_trade_comp.csv')"
   ]
  }
 ],
 "metadata": {
  "kernelspec": {
   "display_name": "Python 3",
   "language": "python",
   "name": "python3"
  },
  "language_info": {
   "codemirror_mode": {
    "name": "ipython",
    "version": 3
   },
   "file_extension": ".py",
   "mimetype": "text/x-python",
   "name": "python",
   "nbconvert_exporter": "python",
   "pygments_lexer": "ipython3",
   "version": "3.7.1"
  },
  "varInspector": {
   "cols": {
    "lenName": 16,
    "lenType": 16,
    "lenVar": 40
   },
   "kernels_config": {
    "python": {
     "delete_cmd_postfix": "",
     "delete_cmd_prefix": "del ",
     "library": "var_list.py",
     "varRefreshCmd": "print(var_dic_list())"
    },
    "r": {
     "delete_cmd_postfix": ") ",
     "delete_cmd_prefix": "rm(",
     "library": "var_list.r",
     "varRefreshCmd": "cat(var_dic_list()) "
    }
   },
   "types_to_exclude": [
    "module",
    "function",
    "builtin_function_or_method",
    "instance",
    "_Feature"
   ],
   "window_display": false
  }
 },
 "nbformat": 4,
 "nbformat_minor": 2
}
