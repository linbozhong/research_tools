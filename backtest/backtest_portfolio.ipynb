{
 "cells": [
  {
   "cell_type": "code",
   "execution_count": null,
   "metadata": {},
   "outputs": [],
   "source": [
    "# 在本机未更新至2.0.8的情况下，使用vnpy2.0.8的回测逻辑\n",
    "import sys\n",
    "import os\n",
    "from pathlib import Path\n",
    "new_version_path = Path(os.getenv('VNPY2.0.8'))\n",
    "sys.path.insert(0, str(new_version_path))\n",
    "\n",
    "import matplotlib.pyplot as plt\n",
    "import pandas as pd\n",
    "plt.style.use('ggplot')\n",
    "\n",
    "from datetime import datetime\n",
    "from research_backtest import (run_backtest_for_portfolio, run_portfolio, ResearchBacktestingEngine,\n",
    "                               get_future_trade_date_index, get_hot_start)\n",
    "from utility import get_output_folder, get_output_path\n",
    "\n",
    "\n",
    "def show_portfolio(df):\n",
    "    engine = ResearchBacktestingEngine()\n",
    "    res = engine.calculate_statistics(df)\n",
    "    engine.show_chart(df)\n",
    "    return res"
   ]
  },
  {
   "cell_type": "code",
   "execution_count": null,
   "metadata": {},
   "outputs": [],
   "source": [
    "# commodity_list = [\n",
    "#     \"cu\", \"al\", \"ag\", \"rb\", \"bu\", \"ru\", \"sp\",\n",
    "#     \"y\", \"a\", \"b\", \"p\", \"c\", \"cs\", \"jd\", \"pp\",\n",
    "#     \"SR\", \"CF\", \"ZC\", \"FG\", \"TA\", \"MA\", \"RM\", \"SF\", \"SM\"\n",
    "# ]\n",
    "\n",
    "# commodity_list = [\n",
    "#     \"cu\", \"al\", \"zn\"\n",
    "# ]\n",
    "\n",
    "commodity_list = [\n",
    "    \"cu\", \"al\", \"zn\", \"pb\", \"ni\", \"sn\", \"au\", \"ag\", \"rb\", \"hc\", \"bu\", \"ru\", \"sp\",\n",
    "    \"m\", \"y\", \"a\", \"b\", \"p\", \"c\", \"cs\", \"jd\", \"l\", \"v\", \"pp\", \"j\", \"jm\", \"i\",\n",
    "    \"SR\", \"CF\", \"ZC\", \"FG\", \"TA\", \"MA\", \"OI\", \"RM\", \"SF\", \"SM\"\n",
    "]\n",
    "\n",
    "start = datetime(2015, 1, 1)\n",
    "end = datetime(2019, 12, 1)\n",
    "commodity_list = [commodity for commodity in commodity_list if get_hot_start(commodity) < start]\n",
    "print(commodity_list)\n",
    "\n",
    "strategy_name = 'turtle_exit_ma'\n",
    "setting = {\n",
    "    'entry_window': 60,\n",
    "    'exit_window': 20,\n",
    "}\n",
    "capital = 100000\n",
    "note_str = 'fixed_size'"
   ]
  },
  {
   "cell_type": "code",
   "execution_count": null,
   "metadata": {},
   "outputs": [],
   "source": [
    "df = run_portfolio(commodity_list, strategy_name, setting, start, end, capital, note_str, empty_cost=False)"
   ]
  },
  {
   "cell_type": "code",
   "execution_count": null,
   "metadata": {
    "scrolled": false
   },
   "outputs": [],
   "source": [
    "%matplotlib notebook\n",
    "show_portfolio(df)"
   ]
  },
  {
   "cell_type": "markdown",
   "metadata": {},
   "source": [
    "### 数据校验"
   ]
  },
  {
   "cell_type": "code",
   "execution_count": null,
   "metadata": {},
   "outputs": [],
   "source": [
    "note_str = 'fixed_size'\n",
    "\n",
    "folder = get_output_folder('portfolio', note_str, 'sub_result')\n",
    "files = list(folder.glob(f'*.csv'))\n",
    "\n",
    "res_list = []\n",
    "for file in files:\n",
    "    commodity = file.name.replace('.csv', '')\n",
    "    df = pd.read_csv(file, index_col=0)\n",
    "    stats_series = df.sum()\n",
    "    stats_series['commodity'] = commodity\n",
    "    stats_series['day_count'] = len(df)\n",
    "    res_list.append(stats_series)\n",
    "\n",
    "df = pd.DataFrame(res_list)\n",
    "df\n",
    "# df.sum()"
   ]
  },
  {
   "cell_type": "code",
   "execution_count": null,
   "metadata": {},
   "outputs": [],
   "source": [
    "commodity = 'al'\n",
    "setting = {\n",
    "    'entry_window': 60,\n",
    "    'exit_window': 20,\n",
    "}\n",
    "start = datetime(2019, 1, 1)\n",
    "end = datetime(2019, 12, 1)\n",
    "capital = 100000\n",
    "\n",
    "df = run_backtest_for_portfolio('turtle_exit_ma', setting, commodity, '1h', start, end, capital)\n",
    "df2 = df.copy()\n",
    "show_portfolio(df)"
   ]
  },
  {
   "cell_type": "code",
   "execution_count": null,
   "metadata": {},
   "outputs": [],
   "source": [
    "dates = get_future_trade_date_index(start, end)\n",
    "df2 = df2.reindex(dates, fill_value=0)\n",
    "show_portfolio(df2)"
   ]
  },
  {
   "cell_type": "code",
   "execution_count": null,
   "metadata": {},
   "outputs": [],
   "source": [
    "import tushare as ts\n",
    "k = ts.get_k_data('000001')"
   ]
  },
  {
   "cell_type": "code",
   "execution_count": null,
   "metadata": {},
   "outputs": [],
   "source": [
    "# k.set_index('date', inplace=True)\n",
    "k.sum()"
   ]
  },
  {
   "cell_type": "code",
   "execution_count": null,
   "metadata": {},
   "outputs": [],
   "source": []
  }
 ],
 "metadata": {
  "kernelspec": {
   "display_name": "Python 3",
   "language": "python",
   "name": "python3"
  },
  "language_info": {
   "codemirror_mode": {
    "name": "ipython",
    "version": 3
   },
   "file_extension": ".py",
   "mimetype": "text/x-python",
   "name": "python",
   "nbconvert_exporter": "python",
   "pygments_lexer": "ipython3",
   "version": "3.7.1"
  }
 },
 "nbformat": 4,
 "nbformat_minor": 2
}
