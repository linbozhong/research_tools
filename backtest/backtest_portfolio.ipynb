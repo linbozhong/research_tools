{
 "cells": [
  {
   "cell_type": "code",
   "execution_count": null,
   "metadata": {},
   "outputs": [],
   "source": [
    "# 在本机未更新至2.0.8的情况下，使用vnpy2.0.8的回测逻辑\n",
    "import sys\n",
    "import os\n",
    "from pathlib import Path\n",
    "new_version_path = Path(os.getenv('VNPY2.0.8'))\n",
    "sys.path.insert(0, str(new_version_path))\n",
    "\n",
    "import matplotlib.pyplot as plt\n",
    "import pandas as pd\n",
    "\n",
    "plt.style.use('ggplot')\n",
    "pd.set_option('display.float_format', '{:.2f}'.format)\n",
    "\n",
    "from datetime import datetime\n",
    "from research_backtest import (run_backtest_for_portfolio, run_portfolio, ResearchBacktestingEngine,\n",
    "                               get_future_trade_date_index, get_hot_start, params_to_str)\n",
    "from utility import get_output_folder, get_output_path\n",
    "\n",
    "\n",
    "def show_portfolio(df, capital=1000000):\n",
    "    engine = ResearchBacktestingEngine()\n",
    "    engine.capital = capital\n",
    "    res = engine.calculate_statistics(df)\n",
    "    engine.show_chart(df)\n",
    "    return res"
   ]
  },
  {
   "cell_type": "code",
   "execution_count": null,
   "metadata": {},
   "outputs": [],
   "source": [
    "# commodity_list = [\n",
    "#     \"cu\", \"al\", \"ag\", \"rb\", \"bu\", \"ru\", \"sp\",\n",
    "#     \"y\", \"a\", \"b\", \"p\", \"c\", \"cs\", \"jd\", \"pp\",\n",
    "#     \"SR\", \"CF\", \"ZC\", \"FG\", \"TA\", \"MA\", \"RM\", \"SF\", \"SM\"\n",
    "# ]\n",
    "\n",
    "# commodity_list = [\n",
    "#     \"cu\", \"al\", \"zn\"\n",
    "# ]\n",
    "\n",
    "commodity_list = [\n",
    "    \"cu\", \"al\", \"zn\", \"pb\", \"ni\", \"sn\", \"au\", \"ag\", \"rb\", \"hc\", \"bu\", \"ru\", \"sp\",\n",
    "    \"m\", \"y\", \"a\", \"b\", \"p\", \"c\", \"cs\", \"jd\", \"l\", \"v\", \"pp\", \"j\", \"jm\", \"i\",\n",
    "    \"SR\", \"CF\", \"ZC\", \"FG\", \"TA\", \"MA\", \"OI\", \"RM\", \"SF\", \"SM\"\n",
    "]\n",
    "\n",
    "# commodity_list = [\n",
    "#     \"cu\", \"al\", \"ag\", \"rb\", \"bu\", \"ru\", \"sp\",\n",
    "#     \"m\", \"y\", \"a\", \"c\",\"jd\", \"pp\", \"j\", \"i\",\n",
    "#     \"SR\", \"CF\", \"ZC\", \"FG\", \"TA\", \"MA\", \"SF\"\n",
    "# ]\n",
    "\n",
    "commodity_list = [\"SM\", \"rb\", \"sp\", \"bu\", \"ag\", \"SR\", \"TA\", \"jd\", \"a\", \"AP\", \"ru\", \"cu\", \"ZC\", \"CF\", \"pp\", \"p\", \"MA\"]\n",
    "\n",
    "# commodity_list = [\"rb\", \"SM\", \"MA\", \"p\", \"bu\", \"jd\", \"RM\", \"pp\", \"ZC\"]\n",
    "# commodity_list = [\"al\", \"cu\", \"rb\", \"zn\", \"i\", \"j\", \"m\", \"jm\"]\n",
    "\n",
    "\n",
    "start = datetime(2014, 1, 1)\n",
    "end = datetime(2020, 3, 1)\n",
    "capital = 1000000\n",
    "note_str = 'double_ma_daily'\n",
    "# commodity_list = [commodity for commodity in commodity_list if get_hot_start(commodity) < start]\n",
    "print(commodity_list)\n",
    "\n",
    "strategy_name = 'double_ma'\n",
    "setting = {\n",
    "    'fast_window': 10,\n",
    "    'slow_window': 20,\n",
    "}\n",
    "\n",
    "\n",
    "# setting = {\n",
    "#     'entry_window': 80,\n",
    "#     'exit_window': 40,\n",
    "#     'stop_multiple': 10,\n",
    "#     'risk_percent': 0.002\n",
    "# }\n",
    "\n",
    "# strategy_name = 'boll_fluid'\n",
    "# setting = {\n",
    "#     'boll_window': 80,\n",
    "#     'boll_dev': 2,\n",
    "# }"
   ]
  },
  {
   "cell_type": "code",
   "execution_count": null,
   "metadata": {},
   "outputs": [],
   "source": [
    "df = run_portfolio(commodity_list,\n",
    "                   strategy_name,\n",
    "                   setting,\n",
    "                   start,\n",
    "                   end,\n",
    "                   capital,\n",
    "                   note_str,\n",
    "                   empty_cost=False,\n",
    "                   cost_multiple=1.8,\n",
    "                   interval='d')"
   ]
  },
  {
   "cell_type": "code",
   "execution_count": null,
   "metadata": {
    "scrolled": false
   },
   "outputs": [],
   "source": [
    "%matplotlib notebook\n",
    "show_portfolio(df, capital)"
   ]
  },
  {
   "cell_type": "markdown",
   "metadata": {},
   "source": [
    "### 数据校验"
   ]
  },
  {
   "cell_type": "code",
   "execution_count": null,
   "metadata": {},
   "outputs": [],
   "source": [
    "folder = get_output_folder('portfolio', f'{strategy_name}-{note_str}', 'sub_result')\n",
    "files = list(folder.glob(f'*.csv'))\n",
    "\n",
    "res_list = []\n",
    "for file in files:\n",
    "    commodity = file.name.replace('.csv', '')\n",
    "    df = pd.read_csv(file, index_col=0)\n",
    "    stats_series = df.sum()\n",
    "    stats_series['commodity'] = commodity\n",
    "    stats_series['day_count'] = len(df)\n",
    "    res_list.append(stats_series)\n",
    "\n",
    "df = pd.DataFrame(res_list)\n",
    "df.sort_values(by='net_pnl', ascending=False)"
   ]
  },
  {
   "cell_type": "code",
   "execution_count": null,
   "metadata": {},
   "outputs": [],
   "source": [
    "df.sum()"
   ]
  },
  {
   "cell_type": "code",
   "execution_count": null,
   "metadata": {},
   "outputs": [],
   "source": [
    "portfolio_file_name = f'{strategy_name}@{params_to_str(setting)}@{note_str}.csv'\n",
    "file_path = get_output_path(portfolio_file_name, 'portfolio', f'{strategy_name}-{note_str}')\n",
    "print(file_path)\n",
    "\n",
    "sum_df = pd.read_csv(file_path, index_col=0, parse_dates=[0])\n",
    "# sum_df.info()\n",
    "show_portfolio(sum_df)"
   ]
  },
  {
   "cell_type": "code",
   "execution_count": null,
   "metadata": {},
   "outputs": [],
   "source": [
    "commodity = 'AP'\n",
    "setting = {\n",
    "    'entry_window': 60,\n",
    "    'exit_window': 20,\n",
    "}\n",
    "start = datetime(2019, 9, 1)\n",
    "end = datetime(2020, 3, 1)\n",
    "capital = 1000000\n",
    "\n",
    "df = run_backtest_for_portfolio('turtle_exit_ma', setting, commodity, '1h', start, end, capital)\n",
    "df2 = df.copy()\n",
    "show_portfolio(df)"
   ]
  },
  {
   "cell_type": "code",
   "execution_count": null,
   "metadata": {},
   "outputs": [],
   "source": [
    "dates = get_future_trade_date_index(start, end)\n",
    "df2 = df2.reindex(dates, fill_value=0)\n",
    "show_portfolio(df2)"
   ]
  }
 ],
 "metadata": {
  "kernelspec": {
   "display_name": "Python 3",
   "language": "python",
   "name": "python3"
  },
  "language_info": {
   "codemirror_mode": {
    "name": "ipython",
    "version": 3
   },
   "file_extension": ".py",
   "mimetype": "text/x-python",
   "name": "python",
   "nbconvert_exporter": "python",
   "pygments_lexer": "ipython3",
   "version": "3.7.1"
  }
 },
 "nbformat": 4,
 "nbformat_minor": 2
}
