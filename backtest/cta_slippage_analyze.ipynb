{
 "cells": [
  {
   "cell_type": "code",
   "execution_count": null,
   "metadata": {},
   "outputs": [],
   "source": [
    "import re\n",
    "import pandas as pd\n",
    "from pathlib import Path, PurePath\n",
    "\n",
    "from vnpy.trader.utility import round_to\n",
    "\n",
    "def get_cwd_path(filename: str, *folder_args) -> PurePath:\n",
    "    folder = Path.cwd().joinpath(*folder_args)\n",
    "    if not folder.exists():\n",
    "        folder.mkdir(parents=True)\n",
    "    return folder.joinpath(folder, filename)"
   ]
  },
  {
   "cell_type": "code",
   "execution_count": null,
   "metadata": {},
   "outputs": [],
   "source": [
    "file_path = get_cwd_path('vt_20191127.log', 'server_log', 'turtle_entry_20')"
   ]
  },
  {
   "cell_type": "code",
   "execution_count": null,
   "metadata": {},
   "outputs": [],
   "source": [
    "data_list = []\n",
    "with open(file_path, 'r', encoding='utf-8') as f:\n",
    "    for line in f:\n",
    "        if '[Pre-stop Order]' in line or '[Stop Order]' in line:\n",
    "            re_mode = r'(?:,|\\n|\\s)\\s*'\n",
    "            fields = re.split(re_mode, line)\n",
    "            \n",
    "            line_dict = {}\n",
    "            line_dict['datetime'] = f\"{fields[0]} {fields[1]}\"\n",
    "            line_dict['commodity'] = fields[4].replace('60m:', '')\n",
    "            line_dict['order_type'] = f\"{fields[5]} {fields[6]}\".strip('[]')\n",
    "            line_dict['direction'] = fields[7].replace('Direction:', '')\n",
    "            line_dict['offset'] = fields[8].replace('Offset:', '')\n",
    "            line_dict['price'] = fields[9].replace('Price:', '')\n",
    "            line_dict['volume'] = fields[10].replace('Volume:', '')\n",
    "\n",
    "            data_list.append(line_dict)\n",
    "data_list"
   ]
  },
  {
   "cell_type": "code",
   "execution_count": null,
   "metadata": {},
   "outputs": [],
   "source": [
    "df = pd.DataFrame(data_list)\n",
    "df['price']"
   ]
  }
 ],
 "metadata": {
  "kernelspec": {
   "display_name": "Python 3",
   "language": "python",
   "name": "python3"
  },
  "language_info": {
   "codemirror_mode": {
    "name": "ipython",
    "version": 3
   },
   "file_extension": ".py",
   "mimetype": "text/x-python",
   "name": "python",
   "nbconvert_exporter": "python",
   "pygments_lexer": "ipython3",
   "version": "3.7.1"
  }
 },
 "nbformat": 4,
 "nbformat_minor": 2
}
