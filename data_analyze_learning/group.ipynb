{
 "cells": [
  {
   "cell_type": "code",
   "execution_count": 2,
   "metadata": {},
   "outputs": [],
   "source": [
    "import pandas as pd\n",
    "import numpy as np"
   ]
  },
  {
   "cell_type": "code",
   "execution_count": 3,
   "metadata": {},
   "outputs": [],
   "source": [
    "df = pd.DataFrame({'key1': ['a', 'a', 'b', 'b', 'a'],\n",
    "                  'key2': ['one', 'two', 'one', 'two', 'one'],\n",
    "                  'data1': np.random.randn(5),\n",
    "                  'data2': np.random.randn(5)})"
   ]
  },
  {
   "cell_type": "code",
   "execution_count": 5,
   "metadata": {},
   "outputs": [
    {
     "data": {
      "text/html": [
       "<div>\n",
       "<style scoped>\n",
       "    .dataframe tbody tr th:only-of-type {\n",
       "        vertical-align: middle;\n",
       "    }\n",
       "\n",
       "    .dataframe tbody tr th {\n",
       "        vertical-align: top;\n",
       "    }\n",
       "\n",
       "    .dataframe thead th {\n",
       "        text-align: right;\n",
       "    }\n",
       "</style>\n",
       "<table border=\"1\" class=\"dataframe\">\n",
       "  <thead>\n",
       "    <tr style=\"text-align: right;\">\n",
       "      <th></th>\n",
       "      <th>key1</th>\n",
       "      <th>key2</th>\n",
       "      <th>data1</th>\n",
       "      <th>data2</th>\n",
       "    </tr>\n",
       "  </thead>\n",
       "  <tbody>\n",
       "    <tr>\n",
       "      <th>0</th>\n",
       "      <td>a</td>\n",
       "      <td>one</td>\n",
       "      <td>0.855394</td>\n",
       "      <td>0.687963</td>\n",
       "    </tr>\n",
       "    <tr>\n",
       "      <th>1</th>\n",
       "      <td>a</td>\n",
       "      <td>two</td>\n",
       "      <td>1.610987</td>\n",
       "      <td>1.341795</td>\n",
       "    </tr>\n",
       "    <tr>\n",
       "      <th>2</th>\n",
       "      <td>b</td>\n",
       "      <td>one</td>\n",
       "      <td>-0.774829</td>\n",
       "      <td>0.749897</td>\n",
       "    </tr>\n",
       "    <tr>\n",
       "      <th>3</th>\n",
       "      <td>b</td>\n",
       "      <td>two</td>\n",
       "      <td>0.975042</td>\n",
       "      <td>-1.247999</td>\n",
       "    </tr>\n",
       "    <tr>\n",
       "      <th>4</th>\n",
       "      <td>a</td>\n",
       "      <td>one</td>\n",
       "      <td>-0.568968</td>\n",
       "      <td>-0.299675</td>\n",
       "    </tr>\n",
       "  </tbody>\n",
       "</table>\n",
       "</div>"
      ],
      "text/plain": [
       "  key1 key2     data1     data2\n",
       "0    a  one  0.855394  0.687963\n",
       "1    a  two  1.610987  1.341795\n",
       "2    b  one -0.774829  0.749897\n",
       "3    b  two  0.975042 -1.247999\n",
       "4    a  one -0.568968 -0.299675"
      ]
     },
     "execution_count": 5,
     "metadata": {},
     "output_type": "execute_result"
    }
   ],
   "source": [
    "df"
   ]
  },
  {
   "cell_type": "code",
   "execution_count": 31,
   "metadata": {},
   "outputs": [
    {
     "data": {
      "text/plain": [
       "key1      object\n",
       "key2      object\n",
       "data1    float64\n",
       "data2    float64\n",
       "dtype: object"
      ]
     },
     "execution_count": 31,
     "metadata": {},
     "output_type": "execute_result"
    }
   ],
   "source": [
    "df.dtypes"
   ]
  },
  {
   "cell_type": "code",
   "execution_count": 6,
   "metadata": {},
   "outputs": [],
   "source": [
    "grouped = df['data1'].groupby(df['key1'])"
   ]
  },
  {
   "cell_type": "code",
   "execution_count": 7,
   "metadata": {},
   "outputs": [
    {
     "data": {
      "text/plain": [
       "key1\n",
       "a    0.632471\n",
       "b    0.100107\n",
       "Name: data1, dtype: float64"
      ]
     },
     "execution_count": 7,
     "metadata": {},
     "output_type": "execute_result"
    }
   ],
   "source": [
    "grouped.mean()"
   ]
  },
  {
   "cell_type": "code",
   "execution_count": 11,
   "metadata": {},
   "outputs": [
    {
     "data": {
      "text/plain": [
       "(key1  key2\n",
       " a     one     0.143213\n",
       "       two     1.610987\n",
       " b     one    -0.774829\n",
       "       two     0.975042\n",
       " Name: data1, dtype: float64, pandas.core.series.Series)"
      ]
     },
     "execution_count": 11,
     "metadata": {},
     "output_type": "execute_result"
    }
   ],
   "source": [
    "means = df['data1'].groupby([df['key1'], df['key2']]).mean()\n",
    "means, type(means)"
   ]
  },
  {
   "cell_type": "code",
   "execution_count": 13,
   "metadata": {},
   "outputs": [
    {
     "data": {
      "text/html": [
       "<div>\n",
       "<style scoped>\n",
       "    .dataframe tbody tr th:only-of-type {\n",
       "        vertical-align: middle;\n",
       "    }\n",
       "\n",
       "    .dataframe tbody tr th {\n",
       "        vertical-align: top;\n",
       "    }\n",
       "\n",
       "    .dataframe thead th {\n",
       "        text-align: right;\n",
       "    }\n",
       "</style>\n",
       "<table border=\"1\" class=\"dataframe\">\n",
       "  <thead>\n",
       "    <tr style=\"text-align: right;\">\n",
       "      <th>key2</th>\n",
       "      <th>one</th>\n",
       "      <th>two</th>\n",
       "    </tr>\n",
       "    <tr>\n",
       "      <th>key1</th>\n",
       "      <th></th>\n",
       "      <th></th>\n",
       "    </tr>\n",
       "  </thead>\n",
       "  <tbody>\n",
       "    <tr>\n",
       "      <th>a</th>\n",
       "      <td>0.143213</td>\n",
       "      <td>1.610987</td>\n",
       "    </tr>\n",
       "    <tr>\n",
       "      <th>b</th>\n",
       "      <td>-0.774829</td>\n",
       "      <td>0.975042</td>\n",
       "    </tr>\n",
       "  </tbody>\n",
       "</table>\n",
       "</div>"
      ],
      "text/plain": [
       "key2       one       two\n",
       "key1                    \n",
       "a     0.143213  1.610987\n",
       "b    -0.774829  0.975042"
      ]
     },
     "execution_count": 13,
     "metadata": {},
     "output_type": "execute_result"
    }
   ],
   "source": [
    "m2 = means.unstack()\n",
    "m2, type(m2)\n",
    "m2"
   ]
  },
  {
   "cell_type": "code",
   "execution_count": 19,
   "metadata": {},
   "outputs": [
    {
     "data": {
      "text/plain": [
       "key1  key2\n",
       "a     one     2\n",
       "      two     1\n",
       "b     one     1\n",
       "      two     1\n",
       "dtype: int64"
      ]
     },
     "execution_count": 19,
     "metadata": {},
     "output_type": "execute_result"
    }
   ],
   "source": [
    "g2 = df.groupby(['key1', 'key2']).size()\n",
    "# g2.unstack()\n",
    "g2"
   ]
  },
  {
   "cell_type": "code",
   "execution_count": 19,
   "metadata": {},
   "outputs": [
    {
     "data": {
      "text/plain": [
       "<pandas.core.groupby.generic.DataFrameGroupBy object at 0x0000028336438470>"
      ]
     },
     "execution_count": 19,
     "metadata": {},
     "output_type": "execute_result"
    }
   ],
   "source": [
    "g3 = df.groupby('key1')\n",
    "g3"
   ]
  },
  {
   "cell_type": "code",
   "execution_count": 21,
   "metadata": {},
   "outputs": [
    {
     "name": "stdout",
     "output_type": "stream",
     "text": [
      "a\n",
      "  key1 key2     data1     data2\n",
      "0    a  one  0.482157 -1.117797\n",
      "1    a  two -0.444340 -0.897264\n",
      "4    a  one -0.185859  1.610371\n"
     ]
    },
    {
     "ename": "AttributeError",
     "evalue": "'DataFrame' object has no attribute 'name'",
     "output_type": "error",
     "traceback": [
      "\u001b[1;31m---------------------------------------------------------------------------\u001b[0m",
      "\u001b[1;31mAttributeError\u001b[0m                            Traceback (most recent call last)",
      "\u001b[1;32m<ipython-input-21-6de558bc6aed>\u001b[0m in \u001b[0;36m<module>\u001b[1;34m\u001b[0m\n\u001b[0;32m      2\u001b[0m     \u001b[0mprint\u001b[0m\u001b[1;33m(\u001b[0m\u001b[0mname\u001b[0m\u001b[1;33m)\u001b[0m\u001b[1;33m\u001b[0m\u001b[1;33m\u001b[0m\u001b[0m\n\u001b[0;32m      3\u001b[0m     \u001b[0mprint\u001b[0m\u001b[1;33m(\u001b[0m\u001b[0mgroup\u001b[0m\u001b[1;33m)\u001b[0m\u001b[1;33m\u001b[0m\u001b[1;33m\u001b[0m\u001b[0m\n\u001b[1;32m----> 4\u001b[1;33m     \u001b[0mprint\u001b[0m\u001b[1;33m(\u001b[0m\u001b[0mgroup\u001b[0m\u001b[1;33m.\u001b[0m\u001b[0mname\u001b[0m\u001b[1;33m)\u001b[0m\u001b[1;33m\u001b[0m\u001b[1;33m\u001b[0m\u001b[0m\n\u001b[0m",
      "\u001b[1;32mc:\\vnstudio\\lib\\site-packages\\pandas\\core\\generic.py\u001b[0m in \u001b[0;36m__getattr__\u001b[1;34m(self, name)\u001b[0m\n\u001b[0;32m   5055\u001b[0m             \u001b[1;32mif\u001b[0m \u001b[0mself\u001b[0m\u001b[1;33m.\u001b[0m\u001b[0m_info_axis\u001b[0m\u001b[1;33m.\u001b[0m\u001b[0m_can_hold_identifiers_and_holds_name\u001b[0m\u001b[1;33m(\u001b[0m\u001b[0mname\u001b[0m\u001b[1;33m)\u001b[0m\u001b[1;33m:\u001b[0m\u001b[1;33m\u001b[0m\u001b[1;33m\u001b[0m\u001b[0m\n\u001b[0;32m   5056\u001b[0m                 \u001b[1;32mreturn\u001b[0m \u001b[0mself\u001b[0m\u001b[1;33m[\u001b[0m\u001b[0mname\u001b[0m\u001b[1;33m]\u001b[0m\u001b[1;33m\u001b[0m\u001b[1;33m\u001b[0m\u001b[0m\n\u001b[1;32m-> 5057\u001b[1;33m             \u001b[1;32mreturn\u001b[0m \u001b[0mobject\u001b[0m\u001b[1;33m.\u001b[0m\u001b[0m__getattribute__\u001b[0m\u001b[1;33m(\u001b[0m\u001b[0mself\u001b[0m\u001b[1;33m,\u001b[0m \u001b[0mname\u001b[0m\u001b[1;33m)\u001b[0m\u001b[1;33m\u001b[0m\u001b[1;33m\u001b[0m\u001b[0m\n\u001b[0m\u001b[0;32m   5058\u001b[0m \u001b[1;33m\u001b[0m\u001b[0m\n\u001b[0;32m   5059\u001b[0m     \u001b[1;32mdef\u001b[0m \u001b[0m__setattr__\u001b[0m\u001b[1;33m(\u001b[0m\u001b[0mself\u001b[0m\u001b[1;33m,\u001b[0m \u001b[0mname\u001b[0m\u001b[1;33m,\u001b[0m \u001b[0mvalue\u001b[0m\u001b[1;33m)\u001b[0m\u001b[1;33m:\u001b[0m\u001b[1;33m\u001b[0m\u001b[1;33m\u001b[0m\u001b[0m\n",
      "\u001b[1;31mAttributeError\u001b[0m: 'DataFrame' object has no attribute 'name'"
     ]
    }
   ],
   "source": [
    "for name, group in g3:\n",
    "    print(name)\n",
    "    print(group)\n",
    "    print(group.name)"
   ]
  },
  {
   "cell_type": "code",
   "execution_count": 23,
   "metadata": {},
   "outputs": [
    {
     "name": "stdout",
     "output_type": "stream",
     "text": [
      "a one\n",
      "  key1 key2     data1     data2\n",
      "0    a  one  0.855394  0.687963\n",
      "4    a  one -0.568968 -0.299675\n",
      "a two\n",
      "  key1 key2     data1     data2\n",
      "1    a  two  1.610987  1.341795\n",
      "b one\n",
      "  key1 key2     data1     data2\n",
      "2    b  one -0.774829  0.749897\n",
      "b two\n",
      "  key1 key2     data1     data2\n",
      "3    b  two  0.975042 -1.247999\n"
     ]
    }
   ],
   "source": [
    "g4 = df.groupby(['key1', 'key2'])\n",
    "for (k1, k2), group in g4:\n",
    "    print(k1, k2)\n",
    "    print(group)"
   ]
  },
  {
   "cell_type": "code",
   "execution_count": 30,
   "metadata": {},
   "outputs": [
    {
     "data": {
      "text/html": [
       "<div>\n",
       "<style scoped>\n",
       "    .dataframe tbody tr th:only-of-type {\n",
       "        vertical-align: middle;\n",
       "    }\n",
       "\n",
       "    .dataframe tbody tr th {\n",
       "        vertical-align: top;\n",
       "    }\n",
       "\n",
       "    .dataframe thead th {\n",
       "        text-align: right;\n",
       "    }\n",
       "</style>\n",
       "<table border=\"1\" class=\"dataframe\">\n",
       "  <thead>\n",
       "    <tr style=\"text-align: right;\">\n",
       "      <th></th>\n",
       "      <th>key1</th>\n",
       "      <th>key2</th>\n",
       "      <th>data1</th>\n",
       "      <th>data2</th>\n",
       "    </tr>\n",
       "  </thead>\n",
       "  <tbody>\n",
       "    <tr>\n",
       "      <th>0</th>\n",
       "      <td>a</td>\n",
       "      <td>one</td>\n",
       "      <td>0.855394</td>\n",
       "      <td>0.687963</td>\n",
       "    </tr>\n",
       "    <tr>\n",
       "      <th>1</th>\n",
       "      <td>a</td>\n",
       "      <td>two</td>\n",
       "      <td>1.610987</td>\n",
       "      <td>1.341795</td>\n",
       "    </tr>\n",
       "    <tr>\n",
       "      <th>4</th>\n",
       "      <td>a</td>\n",
       "      <td>one</td>\n",
       "      <td>-0.568968</td>\n",
       "      <td>-0.299675</td>\n",
       "    </tr>\n",
       "  </tbody>\n",
       "</table>\n",
       "</div>"
      ],
      "text/plain": [
       "  key1 key2     data1     data2\n",
       "0    a  one  0.855394  0.687963\n",
       "1    a  two  1.610987  1.341795\n",
       "4    a  one -0.568968 -0.299675"
      ]
     },
     "execution_count": 30,
     "metadata": {},
     "output_type": "execute_result"
    }
   ],
   "source": [
    "d3 = dict(list(g3))\n",
    "d3['a']"
   ]
  },
  {
   "cell_type": "code",
   "execution_count": 6,
   "metadata": {},
   "outputs": [
    {
     "data": {
      "text/plain": [
       "key1\n",
       "a   -0.049347\n",
       "b   -0.369665\n",
       "Name: data1, dtype: float64"
      ]
     },
     "execution_count": 6,
     "metadata": {},
     "output_type": "execute_result"
    }
   ],
   "source": [
    "df.groupby('key1')['data1'].mean()"
   ]
  },
  {
   "cell_type": "code",
   "execution_count": 5,
   "metadata": {},
   "outputs": [
    {
     "data": {
      "text/plain": [
       "key1\n",
       "a   -0.049347\n",
       "b   -0.369665\n",
       "Name: data1, dtype: float64"
      ]
     },
     "execution_count": 5,
     "metadata": {},
     "output_type": "execute_result"
    }
   ],
   "source": [
    "df.groupby('key1')['data1'].agg('mean')"
   ]
  },
  {
   "cell_type": "code",
   "execution_count": 4,
   "metadata": {},
   "outputs": [
    {
     "data": {
      "text/html": [
       "<div>\n",
       "<style scoped>\n",
       "    .dataframe tbody tr th:only-of-type {\n",
       "        vertical-align: middle;\n",
       "    }\n",
       "\n",
       "    .dataframe tbody tr th {\n",
       "        vertical-align: top;\n",
       "    }\n",
       "\n",
       "    .dataframe thead th {\n",
       "        text-align: right;\n",
       "    }\n",
       "</style>\n",
       "<table border=\"1\" class=\"dataframe\">\n",
       "  <thead>\n",
       "    <tr style=\"text-align: right;\">\n",
       "      <th></th>\n",
       "      <th>a</th>\n",
       "      <th>b</th>\n",
       "      <th>c</th>\n",
       "      <th>d</th>\n",
       "      <th>e</th>\n",
       "    </tr>\n",
       "  </thead>\n",
       "  <tbody>\n",
       "    <tr>\n",
       "      <th>joe</th>\n",
       "      <td>-1.426355</td>\n",
       "      <td>2.433598</td>\n",
       "      <td>-0.596700</td>\n",
       "      <td>0.344830</td>\n",
       "      <td>-0.435173</td>\n",
       "    </tr>\n",
       "    <tr>\n",
       "      <th>lin</th>\n",
       "      <td>-0.321719</td>\n",
       "      <td>-1.401609</td>\n",
       "      <td>0.414406</td>\n",
       "      <td>-0.666674</td>\n",
       "      <td>-1.845365</td>\n",
       "    </tr>\n",
       "    <tr>\n",
       "      <th>wes</th>\n",
       "      <td>0.594213</td>\n",
       "      <td>-0.026028</td>\n",
       "      <td>2.439455</td>\n",
       "      <td>-0.777692</td>\n",
       "      <td>0.464480</td>\n",
       "    </tr>\n",
       "    <tr>\n",
       "      <th>zhao</th>\n",
       "      <td>-0.067069</td>\n",
       "      <td>0.819917</td>\n",
       "      <td>0.749069</td>\n",
       "      <td>1.290996</td>\n",
       "      <td>0.723409</td>\n",
       "    </tr>\n",
       "    <tr>\n",
       "      <th>travis</th>\n",
       "      <td>1.253098</td>\n",
       "      <td>0.556285</td>\n",
       "      <td>1.645780</td>\n",
       "      <td>0.787092</td>\n",
       "      <td>-0.054408</td>\n",
       "    </tr>\n",
       "  </tbody>\n",
       "</table>\n",
       "</div>"
      ],
      "text/plain": [
       "               a         b         c         d         e\n",
       "joe    -1.426355  2.433598 -0.596700  0.344830 -0.435173\n",
       "lin    -0.321719 -1.401609  0.414406 -0.666674 -1.845365\n",
       "wes     0.594213 -0.026028  2.439455 -0.777692  0.464480\n",
       "zhao   -0.067069  0.819917  0.749069  1.290996  0.723409\n",
       "travis  1.253098  0.556285  1.645780  0.787092 -0.054408"
      ]
     },
     "execution_count": 4,
     "metadata": {},
     "output_type": "execute_result"
    }
   ],
   "source": [
    "people = pd.DataFrame(np.random.randn(5, 5),\n",
    "                     columns=list('abcde'),\n",
    "                     index=['joe', 'lin', 'wes', 'zhao', 'travis'])\n",
    "people"
   ]
  },
  {
   "cell_type": "code",
   "execution_count": 46,
   "metadata": {},
   "outputs": [
    {
     "data": {
      "text/html": [
       "<div>\n",
       "<style scoped>\n",
       "    .dataframe tbody tr th:only-of-type {\n",
       "        vertical-align: middle;\n",
       "    }\n",
       "\n",
       "    .dataframe tbody tr th {\n",
       "        vertical-align: top;\n",
       "    }\n",
       "\n",
       "    .dataframe thead th {\n",
       "        text-align: right;\n",
       "    }\n",
       "</style>\n",
       "<table border=\"1\" class=\"dataframe\">\n",
       "  <thead>\n",
       "    <tr style=\"text-align: right;\">\n",
       "      <th></th>\n",
       "      <th>a</th>\n",
       "      <th>b</th>\n",
       "      <th>c</th>\n",
       "      <th>d</th>\n",
       "      <th>e</th>\n",
       "    </tr>\n",
       "  </thead>\n",
       "  <tbody>\n",
       "    <tr>\n",
       "      <th>joe</th>\n",
       "      <td>0.639794</td>\n",
       "      <td>-0.955721</td>\n",
       "      <td>-0.766272</td>\n",
       "      <td>-0.512735</td>\n",
       "      <td>0.004371</td>\n",
       "    </tr>\n",
       "    <tr>\n",
       "      <th>lin</th>\n",
       "      <td>0.130658</td>\n",
       "      <td>-0.257668</td>\n",
       "      <td>0.409276</td>\n",
       "      <td>0.751442</td>\n",
       "      <td>3.154916</td>\n",
       "    </tr>\n",
       "    <tr>\n",
       "      <th>wes</th>\n",
       "      <td>-0.386521</td>\n",
       "      <td>NaN</td>\n",
       "      <td>NaN</td>\n",
       "      <td>2.189725</td>\n",
       "      <td>-0.476406</td>\n",
       "    </tr>\n",
       "    <tr>\n",
       "      <th>zhao</th>\n",
       "      <td>0.337177</td>\n",
       "      <td>0.482240</td>\n",
       "      <td>1.081029</td>\n",
       "      <td>0.161523</td>\n",
       "      <td>-0.498251</td>\n",
       "    </tr>\n",
       "    <tr>\n",
       "      <th>travis</th>\n",
       "      <td>1.147518</td>\n",
       "      <td>-1.137177</td>\n",
       "      <td>-0.123699</td>\n",
       "      <td>1.935558</td>\n",
       "      <td>-1.944002</td>\n",
       "    </tr>\n",
       "  </tbody>\n",
       "</table>\n",
       "</div>"
      ],
      "text/plain": [
       "               a         b         c         d         e\n",
       "joe     0.639794 -0.955721 -0.766272 -0.512735  0.004371\n",
       "lin     0.130658 -0.257668  0.409276  0.751442  3.154916\n",
       "wes    -0.386521       NaN       NaN  2.189725 -0.476406\n",
       "zhao    0.337177  0.482240  1.081029  0.161523 -0.498251\n",
       "travis  1.147518 -1.137177 -0.123699  1.935558 -1.944002"
      ]
     },
     "execution_count": 46,
     "metadata": {},
     "output_type": "execute_result"
    }
   ],
   "source": [
    "people.loc['wes': 'wes', 'b': 'c'] = np.nan\n",
    "people"
   ]
  },
  {
   "cell_type": "code",
   "execution_count": 47,
   "metadata": {},
   "outputs": [
    {
     "data": {
      "text/html": [
       "<div>\n",
       "<style scoped>\n",
       "    .dataframe tbody tr th:only-of-type {\n",
       "        vertical-align: middle;\n",
       "    }\n",
       "\n",
       "    .dataframe tbody tr th {\n",
       "        vertical-align: top;\n",
       "    }\n",
       "\n",
       "    .dataframe thead th {\n",
       "        text-align: right;\n",
       "    }\n",
       "</style>\n",
       "<table border=\"1\" class=\"dataframe\">\n",
       "  <thead>\n",
       "    <tr style=\"text-align: right;\">\n",
       "      <th></th>\n",
       "      <th>a</th>\n",
       "      <th>b</th>\n",
       "      <th>c</th>\n",
       "      <th>d</th>\n",
       "      <th>e</th>\n",
       "    </tr>\n",
       "  </thead>\n",
       "  <tbody>\n",
       "    <tr>\n",
       "      <th>cn</th>\n",
       "      <td>0.467834</td>\n",
       "      <td>0.224572</td>\n",
       "      <td>1.490305</td>\n",
       "      <td>0.912965</td>\n",
       "      <td>2.656666</td>\n",
       "    </tr>\n",
       "    <tr>\n",
       "      <th>en</th>\n",
       "      <td>1.400791</td>\n",
       "      <td>-2.092897</td>\n",
       "      <td>-0.889971</td>\n",
       "      <td>3.612548</td>\n",
       "      <td>-2.416037</td>\n",
       "    </tr>\n",
       "  </tbody>\n",
       "</table>\n",
       "</div>"
      ],
      "text/plain": [
       "           a         b         c         d         e\n",
       "cn  0.467834  0.224572  1.490305  0.912965  2.656666\n",
       "en  1.400791 -2.092897 -0.889971  3.612548 -2.416037"
      ]
     },
     "execution_count": 47,
     "metadata": {},
     "output_type": "execute_result"
    }
   ],
   "source": [
    "mapping = {'lin': 'cn', 'zhao': 'cn', 'joe': 'en', 'wes': 'en', 'travis': 'en'}\n",
    "people.groupby(mapping).sum()"
   ]
  },
  {
   "cell_type": "code",
   "execution_count": 48,
   "metadata": {},
   "outputs": [
    {
     "data": {
      "text/html": [
       "<div>\n",
       "<style scoped>\n",
       "    .dataframe tbody tr th:only-of-type {\n",
       "        vertical-align: middle;\n",
       "    }\n",
       "\n",
       "    .dataframe tbody tr th {\n",
       "        vertical-align: top;\n",
       "    }\n",
       "\n",
       "    .dataframe thead th {\n",
       "        text-align: right;\n",
       "    }\n",
       "</style>\n",
       "<table border=\"1\" class=\"dataframe\">\n",
       "  <thead>\n",
       "    <tr style=\"text-align: right;\">\n",
       "      <th></th>\n",
       "      <th>a</th>\n",
       "      <th>b</th>\n",
       "      <th>c</th>\n",
       "      <th>d</th>\n",
       "      <th>e</th>\n",
       "    </tr>\n",
       "  </thead>\n",
       "  <tbody>\n",
       "    <tr>\n",
       "      <th>3</th>\n",
       "      <td>0.383930</td>\n",
       "      <td>-1.213388</td>\n",
       "      <td>-0.356996</td>\n",
       "      <td>2.428432</td>\n",
       "      <td>2.682882</td>\n",
       "    </tr>\n",
       "    <tr>\n",
       "      <th>4</th>\n",
       "      <td>0.337177</td>\n",
       "      <td>0.482240</td>\n",
       "      <td>1.081029</td>\n",
       "      <td>0.161523</td>\n",
       "      <td>-0.498251</td>\n",
       "    </tr>\n",
       "    <tr>\n",
       "      <th>6</th>\n",
       "      <td>1.147518</td>\n",
       "      <td>-1.137177</td>\n",
       "      <td>-0.123699</td>\n",
       "      <td>1.935558</td>\n",
       "      <td>-1.944002</td>\n",
       "    </tr>\n",
       "  </tbody>\n",
       "</table>\n",
       "</div>"
      ],
      "text/plain": [
       "          a         b         c         d         e\n",
       "3  0.383930 -1.213388 -0.356996  2.428432  2.682882\n",
       "4  0.337177  0.482240  1.081029  0.161523 -0.498251\n",
       "6  1.147518 -1.137177 -0.123699  1.935558 -1.944002"
      ]
     },
     "execution_count": 48,
     "metadata": {},
     "output_type": "execute_result"
    }
   ],
   "source": [
    "people.groupby(len).sum()"
   ]
  },
  {
   "cell_type": "code",
   "execution_count": 7,
   "metadata": {},
   "outputs": [],
   "source": [
    "frame = pd.DataFrame({'data1': np.random.randn(1000),\n",
    "                     'data2': np.random.randn(1000)})"
   ]
  },
  {
   "cell_type": "code",
   "execution_count": 9,
   "metadata": {},
   "outputs": [
    {
     "data": {
      "text/plain": [
       "0        (-0.194, 1.27]\n",
       "1      (-1.658, -0.194]\n",
       "2        (-0.194, 1.27]\n",
       "3      (-1.658, -0.194]\n",
       "4        (-0.194, 1.27]\n",
       "5      (-3.128, -1.658]\n",
       "6      (-1.658, -0.194]\n",
       "7      (-1.658, -0.194]\n",
       "8         (1.27, 2.734]\n",
       "9      (-1.658, -0.194]\n",
       "10       (-0.194, 1.27]\n",
       "11     (-1.658, -0.194]\n",
       "12       (-0.194, 1.27]\n",
       "13     (-1.658, -0.194]\n",
       "14     (-1.658, -0.194]\n",
       "15       (-0.194, 1.27]\n",
       "16     (-1.658, -0.194]\n",
       "17       (-0.194, 1.27]\n",
       "18        (1.27, 2.734]\n",
       "19       (-0.194, 1.27]\n",
       "20     (-1.658, -0.194]\n",
       "21       (-0.194, 1.27]\n",
       "22       (-0.194, 1.27]\n",
       "23       (-0.194, 1.27]\n",
       "24       (-0.194, 1.27]\n",
       "25       (-0.194, 1.27]\n",
       "26       (-0.194, 1.27]\n",
       "27     (-1.658, -0.194]\n",
       "28       (-0.194, 1.27]\n",
       "29     (-1.658, -0.194]\n",
       "             ...       \n",
       "970    (-1.658, -0.194]\n",
       "971      (-0.194, 1.27]\n",
       "972    (-1.658, -0.194]\n",
       "973    (-1.658, -0.194]\n",
       "974    (-1.658, -0.194]\n",
       "975    (-1.658, -0.194]\n",
       "976      (-0.194, 1.27]\n",
       "977      (-0.194, 1.27]\n",
       "978      (-0.194, 1.27]\n",
       "979      (-0.194, 1.27]\n",
       "980      (-0.194, 1.27]\n",
       "981      (-0.194, 1.27]\n",
       "982      (-0.194, 1.27]\n",
       "983    (-1.658, -0.194]\n",
       "984      (-0.194, 1.27]\n",
       "985      (-0.194, 1.27]\n",
       "986    (-1.658, -0.194]\n",
       "987    (-1.658, -0.194]\n",
       "988      (-0.194, 1.27]\n",
       "989      (-0.194, 1.27]\n",
       "990      (-0.194, 1.27]\n",
       "991      (-0.194, 1.27]\n",
       "992      (-0.194, 1.27]\n",
       "993      (-0.194, 1.27]\n",
       "994    (-1.658, -0.194]\n",
       "995      (-0.194, 1.27]\n",
       "996      (-0.194, 1.27]\n",
       "997      (-0.194, 1.27]\n",
       "998       (1.27, 2.734]\n",
       "999      (-0.194, 1.27]\n",
       "Name: data1, Length: 1000, dtype: category\n",
       "Categories (4, interval[float64]): [(-3.128, -1.658] < (-1.658, -0.194] < (-0.194, 1.27] < (1.27, 2.734]]"
      ]
     },
     "execution_count": 9,
     "metadata": {},
     "output_type": "execute_result"
    }
   ],
   "source": [
    "factor = pd.cut(frame.data1, 4)\n",
    "factor"
   ]
  },
  {
   "cell_type": "code",
   "execution_count": 11,
   "metadata": {},
   "outputs": [
    {
     "data": {
      "text/plain": [
       "0      8\n",
       "1      0\n",
       "2      4\n",
       "3      1\n",
       "4      6\n",
       "5      0\n",
       "6      3\n",
       "7      1\n",
       "8      9\n",
       "9      1\n",
       "10     4\n",
       "11     2\n",
       "12     7\n",
       "13     0\n",
       "14     3\n",
       "15     5\n",
       "16     1\n",
       "17     4\n",
       "18     9\n",
       "19     5\n",
       "20     1\n",
       "21     6\n",
       "22     7\n",
       "23     7\n",
       "24     8\n",
       "25     6\n",
       "26     7\n",
       "27     1\n",
       "28     7\n",
       "29     2\n",
       "      ..\n",
       "970    2\n",
       "971    5\n",
       "972    4\n",
       "973    0\n",
       "974    2\n",
       "975    0\n",
       "976    7\n",
       "977    4\n",
       "978    4\n",
       "979    5\n",
       "980    6\n",
       "981    5\n",
       "982    8\n",
       "983    0\n",
       "984    8\n",
       "985    6\n",
       "986    1\n",
       "987    2\n",
       "988    6\n",
       "989    5\n",
       "990    8\n",
       "991    4\n",
       "992    4\n",
       "993    4\n",
       "994    2\n",
       "995    4\n",
       "996    8\n",
       "997    7\n",
       "998    9\n",
       "999    7\n",
       "Name: data1, Length: 1000, dtype: int64"
      ]
     },
     "execution_count": 11,
     "metadata": {},
     "output_type": "execute_result"
    }
   ],
   "source": [
    "frame2 = pd.qcut(frame.data1, 10, labels=False)\n",
    "frame2"
   ]
  },
  {
   "cell_type": "code",
   "execution_count": 14,
   "metadata": {},
   "outputs": [
    {
     "data": {
      "text/html": [
       "<div>\n",
       "<style scoped>\n",
       "    .dataframe tbody tr th:only-of-type {\n",
       "        vertical-align: middle;\n",
       "    }\n",
       "\n",
       "    .dataframe tbody tr th {\n",
       "        vertical-align: top;\n",
       "    }\n",
       "\n",
       "    .dataframe thead th {\n",
       "        text-align: right;\n",
       "    }\n",
       "</style>\n",
       "<table border=\"1\" class=\"dataframe\">\n",
       "  <thead>\n",
       "    <tr style=\"text-align: right;\">\n",
       "      <th></th>\n",
       "      <th>data1</th>\n",
       "      <th>data2</th>\n",
       "    </tr>\n",
       "  </thead>\n",
       "  <tbody>\n",
       "    <tr>\n",
       "      <th>0</th>\n",
       "      <td>0.898283</td>\n",
       "      <td>-0.414869</td>\n",
       "    </tr>\n",
       "    <tr>\n",
       "      <th>10</th>\n",
       "      <td>-0.120632</td>\n",
       "      <td>-0.829563</td>\n",
       "    </tr>\n",
       "    <tr>\n",
       "      <th>20</th>\n",
       "      <td>-0.903654</td>\n",
       "      <td>-1.222609</td>\n",
       "    </tr>\n",
       "    <tr>\n",
       "      <th>30</th>\n",
       "      <td>0.351289</td>\n",
       "      <td>-0.255554</td>\n",
       "    </tr>\n",
       "    <tr>\n",
       "      <th>40</th>\n",
       "      <td>-0.508123</td>\n",
       "      <td>-0.322343</td>\n",
       "    </tr>\n",
       "    <tr>\n",
       "      <th>50</th>\n",
       "      <td>-0.054374</td>\n",
       "      <td>-0.070248</td>\n",
       "    </tr>\n",
       "    <tr>\n",
       "      <th>60</th>\n",
       "      <td>-0.008025</td>\n",
       "      <td>0.588899</td>\n",
       "    </tr>\n",
       "    <tr>\n",
       "      <th>70</th>\n",
       "      <td>0.520185</td>\n",
       "      <td>-0.485286</td>\n",
       "    </tr>\n",
       "    <tr>\n",
       "      <th>80</th>\n",
       "      <td>1.924914</td>\n",
       "      <td>3.423795</td>\n",
       "    </tr>\n",
       "    <tr>\n",
       "      <th>90</th>\n",
       "      <td>0.136980</td>\n",
       "      <td>-0.716277</td>\n",
       "    </tr>\n",
       "    <tr>\n",
       "      <th>100</th>\n",
       "      <td>-0.404962</td>\n",
       "      <td>-2.333666</td>\n",
       "    </tr>\n",
       "    <tr>\n",
       "      <th>110</th>\n",
       "      <td>-0.568541</td>\n",
       "      <td>0.607948</td>\n",
       "    </tr>\n",
       "    <tr>\n",
       "      <th>120</th>\n",
       "      <td>1.467574</td>\n",
       "      <td>0.722205</td>\n",
       "    </tr>\n",
       "    <tr>\n",
       "      <th>130</th>\n",
       "      <td>0.067527</td>\n",
       "      <td>-0.601073</td>\n",
       "    </tr>\n",
       "    <tr>\n",
       "      <th>140</th>\n",
       "      <td>0.493498</td>\n",
       "      <td>1.267011</td>\n",
       "    </tr>\n",
       "    <tr>\n",
       "      <th>150</th>\n",
       "      <td>-0.525673</td>\n",
       "      <td>-0.726603</td>\n",
       "    </tr>\n",
       "    <tr>\n",
       "      <th>160</th>\n",
       "      <td>0.937591</td>\n",
       "      <td>0.845115</td>\n",
       "    </tr>\n",
       "    <tr>\n",
       "      <th>170</th>\n",
       "      <td>-1.232010</td>\n",
       "      <td>-1.096799</td>\n",
       "    </tr>\n",
       "    <tr>\n",
       "      <th>180</th>\n",
       "      <td>-0.582206</td>\n",
       "      <td>0.824236</td>\n",
       "    </tr>\n",
       "    <tr>\n",
       "      <th>190</th>\n",
       "      <td>1.245488</td>\n",
       "      <td>0.099398</td>\n",
       "    </tr>\n",
       "    <tr>\n",
       "      <th>200</th>\n",
       "      <td>0.132928</td>\n",
       "      <td>0.159528</td>\n",
       "    </tr>\n",
       "    <tr>\n",
       "      <th>210</th>\n",
       "      <td>-0.810785</td>\n",
       "      <td>0.644283</td>\n",
       "    </tr>\n",
       "    <tr>\n",
       "      <th>220</th>\n",
       "      <td>1.274238</td>\n",
       "      <td>0.609720</td>\n",
       "    </tr>\n",
       "    <tr>\n",
       "      <th>230</th>\n",
       "      <td>0.625085</td>\n",
       "      <td>-1.644018</td>\n",
       "    </tr>\n",
       "    <tr>\n",
       "      <th>240</th>\n",
       "      <td>1.251307</td>\n",
       "      <td>-0.965710</td>\n",
       "    </tr>\n",
       "    <tr>\n",
       "      <th>250</th>\n",
       "      <td>0.853860</td>\n",
       "      <td>-0.173206</td>\n",
       "    </tr>\n",
       "    <tr>\n",
       "      <th>260</th>\n",
       "      <td>0.266549</td>\n",
       "      <td>1.137207</td>\n",
       "    </tr>\n",
       "    <tr>\n",
       "      <th>270</th>\n",
       "      <td>-0.113909</td>\n",
       "      <td>0.117338</td>\n",
       "    </tr>\n",
       "    <tr>\n",
       "      <th>280</th>\n",
       "      <td>-0.276280</td>\n",
       "      <td>-0.367111</td>\n",
       "    </tr>\n",
       "    <tr>\n",
       "      <th>290</th>\n",
       "      <td>-0.880025</td>\n",
       "      <td>0.738691</td>\n",
       "    </tr>\n",
       "    <tr>\n",
       "      <th>...</th>\n",
       "      <td>...</td>\n",
       "      <td>...</td>\n",
       "    </tr>\n",
       "    <tr>\n",
       "      <th>700</th>\n",
       "      <td>0.696559</td>\n",
       "      <td>0.606679</td>\n",
       "    </tr>\n",
       "    <tr>\n",
       "      <th>710</th>\n",
       "      <td>-0.640451</td>\n",
       "      <td>1.281053</td>\n",
       "    </tr>\n",
       "    <tr>\n",
       "      <th>720</th>\n",
       "      <td>-0.115479</td>\n",
       "      <td>0.757858</td>\n",
       "    </tr>\n",
       "    <tr>\n",
       "      <th>730</th>\n",
       "      <td>-1.199629</td>\n",
       "      <td>-0.620705</td>\n",
       "    </tr>\n",
       "    <tr>\n",
       "      <th>740</th>\n",
       "      <td>1.228248</td>\n",
       "      <td>-0.479845</td>\n",
       "    </tr>\n",
       "    <tr>\n",
       "      <th>750</th>\n",
       "      <td>0.214213</td>\n",
       "      <td>2.427310</td>\n",
       "    </tr>\n",
       "    <tr>\n",
       "      <th>760</th>\n",
       "      <td>-1.116554</td>\n",
       "      <td>2.254511</td>\n",
       "    </tr>\n",
       "    <tr>\n",
       "      <th>770</th>\n",
       "      <td>-1.193637</td>\n",
       "      <td>-0.603171</td>\n",
       "    </tr>\n",
       "    <tr>\n",
       "      <th>780</th>\n",
       "      <td>1.010255</td>\n",
       "      <td>-0.285980</td>\n",
       "    </tr>\n",
       "    <tr>\n",
       "      <th>790</th>\n",
       "      <td>0.744676</td>\n",
       "      <td>-0.363756</td>\n",
       "    </tr>\n",
       "    <tr>\n",
       "      <th>800</th>\n",
       "      <td>0.035332</td>\n",
       "      <td>0.833634</td>\n",
       "    </tr>\n",
       "    <tr>\n",
       "      <th>810</th>\n",
       "      <td>0.370619</td>\n",
       "      <td>0.717221</td>\n",
       "    </tr>\n",
       "    <tr>\n",
       "      <th>820</th>\n",
       "      <td>0.174387</td>\n",
       "      <td>-0.344176</td>\n",
       "    </tr>\n",
       "    <tr>\n",
       "      <th>830</th>\n",
       "      <td>1.008094</td>\n",
       "      <td>0.409499</td>\n",
       "    </tr>\n",
       "    <tr>\n",
       "      <th>840</th>\n",
       "      <td>-0.911333</td>\n",
       "      <td>1.583752</td>\n",
       "    </tr>\n",
       "    <tr>\n",
       "      <th>850</th>\n",
       "      <td>0.660172</td>\n",
       "      <td>1.990256</td>\n",
       "    </tr>\n",
       "    <tr>\n",
       "      <th>860</th>\n",
       "      <td>-0.373830</td>\n",
       "      <td>-0.533129</td>\n",
       "    </tr>\n",
       "    <tr>\n",
       "      <th>870</th>\n",
       "      <td>1.370926</td>\n",
       "      <td>-0.139254</td>\n",
       "    </tr>\n",
       "    <tr>\n",
       "      <th>880</th>\n",
       "      <td>0.057965</td>\n",
       "      <td>0.328304</td>\n",
       "    </tr>\n",
       "    <tr>\n",
       "      <th>890</th>\n",
       "      <td>-0.845431</td>\n",
       "      <td>0.733486</td>\n",
       "    </tr>\n",
       "    <tr>\n",
       "      <th>900</th>\n",
       "      <td>-0.068908</td>\n",
       "      <td>-1.285379</td>\n",
       "    </tr>\n",
       "    <tr>\n",
       "      <th>910</th>\n",
       "      <td>0.924591</td>\n",
       "      <td>0.050904</td>\n",
       "    </tr>\n",
       "    <tr>\n",
       "      <th>920</th>\n",
       "      <td>-0.499246</td>\n",
       "      <td>-1.581517</td>\n",
       "    </tr>\n",
       "    <tr>\n",
       "      <th>930</th>\n",
       "      <td>-0.687256</td>\n",
       "      <td>0.347404</td>\n",
       "    </tr>\n",
       "    <tr>\n",
       "      <th>940</th>\n",
       "      <td>1.235570</td>\n",
       "      <td>0.055448</td>\n",
       "    </tr>\n",
       "    <tr>\n",
       "      <th>950</th>\n",
       "      <td>0.718859</td>\n",
       "      <td>0.169938</td>\n",
       "    </tr>\n",
       "    <tr>\n",
       "      <th>960</th>\n",
       "      <td>-1.086755</td>\n",
       "      <td>-0.132014</td>\n",
       "    </tr>\n",
       "    <tr>\n",
       "      <th>970</th>\n",
       "      <td>-0.638392</td>\n",
       "      <td>0.489037</td>\n",
       "    </tr>\n",
       "    <tr>\n",
       "      <th>980</th>\n",
       "      <td>0.321373</td>\n",
       "      <td>-1.656322</td>\n",
       "    </tr>\n",
       "    <tr>\n",
       "      <th>990</th>\n",
       "      <td>1.181880</td>\n",
       "      <td>-0.472559</td>\n",
       "    </tr>\n",
       "  </tbody>\n",
       "</table>\n",
       "<p>100 rows × 2 columns</p>\n",
       "</div>"
      ],
      "text/plain": [
       "        data1     data2\n",
       "0    0.898283 -0.414869\n",
       "10  -0.120632 -0.829563\n",
       "20  -0.903654 -1.222609\n",
       "30   0.351289 -0.255554\n",
       "40  -0.508123 -0.322343\n",
       "50  -0.054374 -0.070248\n",
       "60  -0.008025  0.588899\n",
       "70   0.520185 -0.485286\n",
       "80   1.924914  3.423795\n",
       "90   0.136980 -0.716277\n",
       "100 -0.404962 -2.333666\n",
       "110 -0.568541  0.607948\n",
       "120  1.467574  0.722205\n",
       "130  0.067527 -0.601073\n",
       "140  0.493498  1.267011\n",
       "150 -0.525673 -0.726603\n",
       "160  0.937591  0.845115\n",
       "170 -1.232010 -1.096799\n",
       "180 -0.582206  0.824236\n",
       "190  1.245488  0.099398\n",
       "200  0.132928  0.159528\n",
       "210 -0.810785  0.644283\n",
       "220  1.274238  0.609720\n",
       "230  0.625085 -1.644018\n",
       "240  1.251307 -0.965710\n",
       "250  0.853860 -0.173206\n",
       "260  0.266549  1.137207\n",
       "270 -0.113909  0.117338\n",
       "280 -0.276280 -0.367111\n",
       "290 -0.880025  0.738691\n",
       "..        ...       ...\n",
       "700  0.696559  0.606679\n",
       "710 -0.640451  1.281053\n",
       "720 -0.115479  0.757858\n",
       "730 -1.199629 -0.620705\n",
       "740  1.228248 -0.479845\n",
       "750  0.214213  2.427310\n",
       "760 -1.116554  2.254511\n",
       "770 -1.193637 -0.603171\n",
       "780  1.010255 -0.285980\n",
       "790  0.744676 -0.363756\n",
       "800  0.035332  0.833634\n",
       "810  0.370619  0.717221\n",
       "820  0.174387 -0.344176\n",
       "830  1.008094  0.409499\n",
       "840 -0.911333  1.583752\n",
       "850  0.660172  1.990256\n",
       "860 -0.373830 -0.533129\n",
       "870  1.370926 -0.139254\n",
       "880  0.057965  0.328304\n",
       "890 -0.845431  0.733486\n",
       "900 -0.068908 -1.285379\n",
       "910  0.924591  0.050904\n",
       "920 -0.499246 -1.581517\n",
       "930 -0.687256  0.347404\n",
       "940  1.235570  0.055448\n",
       "950  0.718859  0.169938\n",
       "960 -1.086755 -0.132014\n",
       "970 -0.638392  0.489037\n",
       "980  0.321373 -1.656322\n",
       "990  1.181880 -0.472559\n",
       "\n",
       "[100 rows x 2 columns]"
      ]
     },
     "execution_count": 14,
     "metadata": {},
     "output_type": "execute_result"
    }
   ],
   "source": [
    "frame[::10]"
   ]
  },
  {
   "cell_type": "code",
   "execution_count": 15,
   "metadata": {},
   "outputs": [
    {
     "data": {
      "text/plain": [
       "['east', 'east', 'east', 'east']"
      ]
     },
     "execution_count": 15,
     "metadata": {},
     "output_type": "execute_result"
    }
   ],
   "source": [
    "['east'] * 4"
   ]
  },
  {
   "cell_type": "code",
   "execution_count": 16,
   "metadata": {},
   "outputs": [
    {
     "data": {
      "text/plain": [
       "['east', 'east', 'east', 'east', 'west', 'west', 'west', 'west']"
      ]
     },
     "execution_count": 16,
     "metadata": {},
     "output_type": "execute_result"
    }
   ],
   "source": [
    "['east'] * 4 + ['west'] * 4"
   ]
  },
  {
   "cell_type": "code",
   "execution_count": 25,
   "metadata": {},
   "outputs": [
    {
     "data": {
      "text/plain": [
       "[1,\n",
       " 2,\n",
       " 3,\n",
       " 4,\n",
       " 5,\n",
       " 6,\n",
       " 7,\n",
       " 8,\n",
       " 9,\n",
       " 10,\n",
       " 10,\n",
       " 10,\n",
       " 10,\n",
       " 1,\n",
       " 2,\n",
       " 3,\n",
       " 4,\n",
       " 5,\n",
       " 6,\n",
       " 7,\n",
       " 8,\n",
       " 9,\n",
       " 10,\n",
       " 10,\n",
       " 10,\n",
       " 10,\n",
       " 1,\n",
       " 2,\n",
       " 3,\n",
       " 4,\n",
       " 5,\n",
       " 6,\n",
       " 7,\n",
       " 8,\n",
       " 9,\n",
       " 10,\n",
       " 10,\n",
       " 10,\n",
       " 10,\n",
       " 1,\n",
       " 2,\n",
       " 3,\n",
       " 4,\n",
       " 5,\n",
       " 6,\n",
       " 7,\n",
       " 8,\n",
       " 9,\n",
       " 10,\n",
       " 10,\n",
       " 10,\n",
       " 10]"
      ]
     },
     "execution_count": 25,
     "metadata": {},
     "output_type": "execute_result"
    }
   ],
   "source": [
    "(list(range(1, 11)) + [10] * 3) * 4"
   ]
  },
  {
   "cell_type": "code",
   "execution_count": 26,
   "metadata": {},
   "outputs": [
    {
     "data": {
      "text/plain": [
       "array([2, 1, 0])"
      ]
     },
     "execution_count": 26,
     "metadata": {},
     "output_type": "execute_result"
    }
   ],
   "source": [
    "np.random.permutation(3)"
   ]
  },
  {
   "cell_type": "code",
   "execution_count": null,
   "metadata": {},
   "outputs": [],
   "source": []
  }
 ],
 "metadata": {
  "kernelspec": {
   "display_name": "Python 3",
   "language": "python",
   "name": "python3"
  },
  "language_info": {
   "codemirror_mode": {
    "name": "ipython",
    "version": 3
   },
   "file_extension": ".py",
   "mimetype": "text/x-python",
   "name": "python",
   "nbconvert_exporter": "python",
   "pygments_lexer": "ipython3",
   "version": "3.7.1"
  }
 },
 "nbformat": 4,
 "nbformat_minor": 2
}
